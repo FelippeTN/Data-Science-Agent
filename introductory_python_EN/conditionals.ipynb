{
 "cells": [
  {
   "cell_type": "markdown",
   "metadata": {},
   "source": [
    "# Python Conditionals Tutorial\n",
    "\n",
    "This notebook provides a detailed explanation of using conditional structures in Python, which allow a program to make decisions based on specific conditions. We will explore the main conditional constructs (`if`, `elif`, `else`), logical operators, nested conditionals, and practical examples to reinforce learning.\n",
    "\n",
    "Conditionals are fundamental tools in Python for controlling the flow of a program, enabling the execution of different code blocks based on logical evaluations."
   ]
  },
  {
   "cell_type": "markdown",
   "metadata": {},
   "source": [
    "## 1. Introduction to Conditionals\n",
    "\n",
    "In Python, conditional structures are used to execute code blocks based on conditions that evaluate to `True` or `False`. The basic structure uses the `if` keyword, optionally followed by `elif` (short for *else if*) and `else`.\n",
    "\n",
    "The general syntax is:\n",
    "```python\n",
    "if condition:\n",
    "    # Code executed if the condition is true\n",
    "elif another_condition:\n",
    "    # Code executed if another_condition is true\n",
    "else:\n",
    "    # Code executed if no previous conditions are true\n",
    "```"
   ]
  },
  {
   "cell_type": "markdown",
   "metadata": {},
   "source": [
    "## 2. Basic Structure: `if`\n",
    "\n",
    "The `if` statement evaluates a condition. If the condition is true (`True`), the indented code block below it is executed."
   ]
  },
  {
   "cell_type": "code",
   "execution_count": null,
   "metadata": {},
   "outputs": [],
   "source": [
    "# Example: Check if a number is positive\n",
    "number = 10\n",
    "\n",
    "if number > 0:\n",
    "    print(f\"{number} is a positive number.\")\n"
   ]
  },
  {
   "cell_type": "markdown",
   "metadata": {},
   "source": [
    "**Expected Output**: `10 is a positive number.`\n",
    "\n",
    "In this example, since `number > 0` is `True`, the code inside the `if` block is executed."
   ]
  },
  {
   "cell_type": "markdown",
   "metadata": {},
   "source": [
    "## 3. Using `else`\n",
    "\n",
    "The `else` statement is used to execute a code block when the `if` condition is false (`False`). It does not require a condition."
   ]
  },
  {
   "cell_type": "code",
   "execution_count": null,
   "metadata": {},
   "outputs": [],
   "source": [
    "# Example: Check if a number is positive or not\n",
    "number = -5\n",
    "\n",
    "if number > 0:\n",
    "    print(f\"{number} is a positive number.\")\n",
    "else:\n",
    "    print(f\"{number} is not a positive number.\")"
   ]
  },
  {
   "cell_type": "markdown",
   "metadata": {},
   "source": [
    "**Expected Output**: `-5 is not a positive number.`\n",
    "\n",
    "Here, since `number > 0` is `False`, the `else` block is executed."
   ]
  },
  {
   "cell_type": "markdown",
   "metadata": {},
   "source": [
    "## 4. Using `elif` for Multiple Conditions\n",
    "\n",
    "The `elif` statement allows testing additional conditions if the `if` (or previous `elif`) condition is false. You can use as many `elif` statements as needed."
   ]
  },
  {
   "cell_type": "code",
   "execution_count": null,
   "metadata": {},
   "outputs": [],
   "source": [
    "# Example: Classify a number as positive, negative, or zero\n",
    "number = 0\n",
    "\n",
    "if number > 0:\n",
    "    print(f\"{number} is positive.\")\n",
    "elif number < 0:\n",
    "    print(f\"{number} is negative.\")\n",
    "else:\n",
    "    print(f\"{number} is zero.\")"
   ]
  },
  {
   "cell_type": "markdown",
   "metadata": {},
   "source": [
    "**Expected Output**: `0 is zero.`\n",
    "\n",
    "In this case, the `if` and `elif` conditions are false, so the `else` block is executed."
   ]
  },
  {
   "cell_type": "markdown",
   "metadata": {},
   "source": [
    "## 5. Logical Operators in Conditionals\n",
    "\n",
    "You can combine conditions using logical operators like `and`, `or`, and `not` to create more complex conditionals.\n",
    "\n",
    "- `and`: Returns `True` if both conditions are true.\n",
    "- `or`: Returns `True` if at least one condition is true.\n",
    "- `not`: Inverts the logical value of the condition."
   ]
  },
  {
   "cell_type": "code",
   "execution_count": null,
   "metadata": {},
   "outputs": [],
   "source": [
    "# Example: Check if a number is within a range\n",
    "number = 42\n",
    "\n",
    "if number >= 0 and number <= 100:\n",
    "    print(f\"{number} is between 0 and 100.\")\n",
    "else:\n",
    "    print(f\"{number} is outside the range of 0 to 100.\")"
   ]
  },
  {
   "cell_type": "markdown",
   "metadata": {},
   "source": [
    "**Expected Output**: `42 is between 0 and 100.`\n",
    "\n",
    "Here, the `and` operator ensures that both conditions (`number >= 0` and `number <= 100`) are true."
   ]
  },
  {
   "cell_type": "code",
   "execution_count": null,
   "metadata": {},
   "outputs": [],
   "source": [
    "# Example with 'or': Check if a number is too large or too small\n",
    "number = -10\n",
    "\n",
    "if number < -5 or number > 5:\n",
    "    print(f\"{number} is outside the range [-5, 5].\")\n",
    "else:\n",
    "    print(f\"{number} is within the range [-5, 5].\")"
   ]
  },
  {
   "cell_type": "markdown",
   "metadata": {},
   "source": [
    "**Expected Output**: `-10 is outside the range [-5, 5].`\n",
    "\n",
    "The `or` operator makes the condition true if at least one part is true."
   ]
  },
  {
   "cell_type": "markdown",
   "metadata": {},
   "source": [
    "## 6. Nested Conditionals\n",
    "\n",
    "You can nest conditional structures, i.e., place an `if` statement inside another `if`. This is useful for checking more specific conditions."
   ]
  },
  {
   "cell_type": "code",
   "execution_count": null,
   "metadata": {},
   "outputs": [],
   "source": [
    "# Example: Check if a number is positive and even\n",
    "number = 8\n",
    "\n",
    "if number > 0:\n",
    "    if number % 2 == 0:\n",
    "        print(f\"{number} is positive and even.\")\n",
    "    else:\n",
    "        print(f\"{number} is positive but odd.\")\n",
    "else:\n",
    "    print(f\"{number} is not positive.\")"
   ]
  },
  {
   "cell_type": "markdown",
   "metadata": {},
   "source": [
    "**Expected Output**: `8 is positive and even.`\n",
    "\n",
    "In this example, the first `if` checks if the number is positive. If it is, a second `if` checks if it is even."
   ]
  },
  {
   "cell_type": "markdown",
   "metadata": {},
   "source": [
    "## braced\n",
    "\n",
    "Let's create a practical example that uses conditionals to grade a student's score based on a point system."
   ]
  },
  {
   "cell_type": "code",
   "execution_count": null,
   "metadata": {},
   "outputs": [],
   "source": [
    "# Example: Grade a student's score\n",
    "score = 85\n",
    "\n",
    "if score >= 90:\n",
    "    print(\"Grade A: Excellent!\")\n",
    "elif score >= 80:\n",
    "    print(\"Grade B: Very good!\")\n",
    "elif score >= 70:\n",
    "    print(\"Grade C: Good.\")\n",
    "elif score >= 60:\n",
    "    print(\"Grade D: Passed.\")\n",
    "else:\n",
    "    print(\"Grade F: Failed.\")"
   ]
  },
  {
   "cell_type": "markdown",
   "metadata": {},
   "source": [
    "**Expected Output**: `Grade B: Very good!`\n",
    "\n",
    "This example uses multiple `elif` statements to check score ranges and assign a corresponding grade."
   ]
  },
  {
   "cell_type": "markdown",
   "metadata": {},
   "source": [
    "## 8. Best Practices for Using Conditionals\n",
    "\n",
    "- **Clarity**: Write clear and easy-to-understand conditions. Use descriptive variable names.\n",
    "- **Avoid excessive nesting**: Too many levels of nested conditionals can make code hard to read. Consider simplifying the logic or using functions.\n",
    "- **Use logical operators appropriately**: Combine conditions with `and` and `or` to avoid unnecessary conditionals.\n",
    "- **Test all cases**: Ensure your code handles all possible scenarios correctly (e.g., positive, negative, zero values, etc.)."
   ]
  },
  {
   "cell_type": "markdown",
   "metadata": {},
   "source": [
    "## 9. Summary\n",
    "\n",
    "- **Structure `if`**: Executes a code block if a condition is true.\n",
    "- **Structure `elif`**: Allows testing additional conditions.\n",
    "- **Structure `else`**: Executes a code block if no previous conditions are true.\n",
    "- **Logical operators**: `and`, `or`, and `not` allow combining or modifying conditions.\n",
    "- **Nested conditionals**: Useful for checking more specific conditions but should be used sparingly.\n",
    "\n",
    "Conditional structures are essential for creating programs that make dynamic decisions. Experiment with the examples above and create your own scenarios to practice!"
   ]
  }
 ],
 "metadata": {
  "kernelspec": {
   "display_name": "Python 3",
   "language": "python",
   "name": "python3"
  },
  "language_info": {
   "codemirror_mode": {
    "name": "ipython",
    "version": 3
   },
   "file_extension": ".py",
   "mimetype": "text/x-python",
   "name": "python",
   "nbconvert_exporter": "python",
   "pygments_lexer": "ipython3",
   "version": "3.8.10"
  }
 },
 "nbformat": 4,
 "nbformat_minor": 4
}