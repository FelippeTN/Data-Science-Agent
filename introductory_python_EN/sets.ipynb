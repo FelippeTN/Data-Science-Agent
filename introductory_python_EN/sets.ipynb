{
 "cells": [
  {
   "cell_type": "markdown",
   "metadata": {},
   "source": [
    "# Python Sets Tutorial\n",
    "\n",
    "This notebook covers the basics of working with sets in Python, including manipulation (adding, removing, and checking subsets) and key set operations (union, intersection, and difference). Sets are unordered collections of unique elements, making them efficient for handling distinct items and performing mathematical operations."
   ]
  },
  {
   "cell_type": "markdown",
   "metadata": {},
   "source": [
    "## 1. Python Set Manipulation\n",
    "\n",
    "Sets in Python are mutable collections that store unique elements. Below, we demonstrate how to add elements, remove elements, and check for subsets."
   ]
  },
  {
   "cell_type": "markdown",
   "metadata": {},
   "source": [
    "### 1.1 Adding an Element\n",
    "\n",
    "The `add()` method allows you to include a single element in a set. If the element already exists, the set remains unchanged since duplicates are not allowed."
   ]
  },
  {
   "cell_type": "code",
   "execution_count": null,
   "metadata": {},
   "outputs": [],
   "source": [
    "# Creating a set\n",
    "fruits = {\"apple\", \"banana\", \"cherry\"}\n",
    "\n",
    "# Add a single element\n",
    "fruits.add(\"orange\")\n",
    "\n",
    "# Display the updated set\n",
    "fruits"
   ]
  },
  {
   "cell_type": "markdown",
   "metadata": {},
   "source": [
    "**Expected Output**: `{'apple', 'banana', 'cherry', 'orange'}`\n",
    "\n",
    "The set now includes the new element, \"orange\"."
   ]
  },
  {
   "cell_type": "markdown",
   "metadata": {},
   "source": [
    "### 1.2 Removing an Element\n",
    "\n",
    "The `remove()` method deletes a specified element from the set. If the element does not exist, it raises a `KeyError`."
   ]
  },
  {
   "cell_type": "code",
   "execution_count": null,
   "metadata": {},
   "outputs": [],
   "source": [
    "# Remove an element\n",
    "fruits.remove(\"banana\")\n",
    "\n",
    "# Display the updated set\n",
    "fruits"
   ]
  },
  {
   "cell_type": "markdown",
   "metadata": {},
   "source": [
    "**Expected Output**: `{'apple', 'cherry', 'orange'}`\n",
    "\n",
    "The element \"banana\" has been removed from the set."
   ]
  },
  {
   "cell_type": "markdown",
   "metadata": {},
   "source": [
    "### 1.3 Checking for Subsets\n",
    "\n",
    "The `issubset()` method checks if all elements of one set are present in another set, returning `True` if they are."
   ]
  },
  {
   "cell_type": "code",
   "execution_count": null,
   "metadata": {},
   "outputs": [],
   "source": [
    "# Check if a set is a subset\n",
    "is_subset = {\"apple\", \"cherry\"}.issubset(fruits)\n",
    "\n",
    "# Display the result\n",
    "is_subset"
   ]
  },
  {
   "cell_type": "markdown",
   "metadata": {},
   "source": [
    "**Expected Output**: `True`\n",
    "\n",
    "The set `{\"apple\", \"cherry\"}` is a subset of `fruits` because all its elements are present in `fruits`."
   ]
  },
  {
   "cell_type": "markdown",
   "metadata": {},
   "source": [
    "## 2. Mastering Set Operations\n",
    "\n",
    "Python sets support mathematical operations like union, intersection, and difference, which are useful for combining or comparing sets."
   ]
  },
  {
   "cell_type": "markdown",
   "metadata": {},
   "source": [
    "### 2.1 Union\n",
    "\n",
    "The `union()` method combines all unique elements from two or more sets into a new set."
   ]
  },
  {
   "cell_type": "code",
   "execution_count": null,
   "metadata": {},
   "outputs": [],
   "source": [
    "# Creating sets\n",
    "fruits = {\"apple\", \"banana\", \"cherry\"}\n",
    "more_fruits = {\"mango\", \"grape\"}\n",
    "\n",
    "# Perform union\n",
    "all_fruits = fruits.union(more_fruits)\n",
    "\n",
    "# Display the result\n",
    "all_fruits"
   ]
  },
  {
   "cell_type": "markdown",
   "metadata": {},
   "source": [
    "**Expected Output**: `{'apple', 'banana', 'cherry', 'grape', 'mango'}`\n",
    "\n",
    "The `all_fruits` set contains all unique elements from both `fruits` and `more_fruits`."
   ]
  },
  {
   "cell_type": "markdown",
   "metadata": {},
   "source": [
    "### 2.2 Intersection\n",
    "\n",
    "The `intersection()` method returns a new set containing only the elements common to both sets."
   ]
  },
  {
   "cell_type": "code",
   "execution_count": null,
   "metadata": {},
   "outputs": [],
   "source": [
    "# Creating a set of tropical fruits\n",
    "tropical_fruits = {\"banana\", \"mango\", \"pineapple\"}\n",
    "\n",
    "# Find common elements\n",
    "common_fruits = all_fruits.intersection(tropical_fruits)\n",
    "\n",
    "# Display the result\n",
    "common_fruits"
   ]
  },
  {
   "cell_type": "markdown",
   "metadata": {},
   "source": [
    "**Expected Output**: `{'banana', 'mango'}`\n",
    "\n",
    "The `common_fruits` set contains elements that appear in both `all_fruits` and `tropical_fruits`."
   ]
  },
  {
   "cell_type": "markdown",
   "metadata": {},
   "source": [
    "### 2.3 Difference\n",
    "\n",
    "The `difference()` method returns a new set containing elements that are in one set but not in the other."
   ]
  },
  {
   "cell_type": "code",
   "execution_count": null,
   "metadata": {},
   "outputs": [],
   "source": [
    "# Find non-tropical fruits\n",
    "non_tropical_fruits = all_fruits.difference(tropical_fruits)\n",
    "\n",
    "# Display the result\n",
    "non_tropical_fruits"
   ]
  },
  {
   "cell_type": "markdown",
   "metadata": {},
   "source": [
    "**Expected Output**: `{'apple', 'cherry', 'grape'}`\n",
    "\n",
    "The `non_tropical_fruits` set contains elements from `all_fruits` that are not in `tropical_fruits`."
   ]
  },
  {
   "cell_type": "markdown",
   "metadata": {},
   "source": [
    "## Summary\n",
    "\n",
    "- **Set Manipulation**: Use `add()` to include elements, `remove()` to delete them, and `issubset()` to check for subsets.\n",
    "- **Set Operations**: Use `union()` to combine sets, `intersection()` to find common elements, and `difference()` to identify unique elements in one set.\n",
    "\n",
    "Sets are powerful for handling unique collections and performing efficient operations. Experiment with these methods to deepen your understanding!"
   ]
  }
 ],
 "metadata": {
  "kernelspec": {
   "display_name": "Python 3",
   "language": "python",
   "name": "python3"
  },
  "language_info": {
   "codemirror_mode": {
    "name": "ipython",
    "version": 3
   },
   "file_extension": ".py",
   "mimetype": "text/x-python",
   "name": "python",
   "nbconvert_exporter": "python",
   "pygments_lexer": "ipython3",
   "version": "3.8.10"
  }
 },
 "nbformat": 4,
 "nbformat_minor": 4
}