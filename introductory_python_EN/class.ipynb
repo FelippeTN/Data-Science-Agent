{
 "cells": [
  {
   "cell_type": "markdown",
   "id": "2d6593c7",
   "metadata": {},
   "source": [
    "## What is a Python Class?\n",
    "\n",
    "A class in Python is a blueprint for creating objects. Objects are instances of a class that can hold data (attributes) and perform actions (methods). Think of a class like a template: for example, a \"Car\" class might define what a car is (attributes like color, speed) and what it can do (methods like drive, stop). In data science, classes are useful for organizing code, such as creating a custom data cleaner or a machine learning model wrapper."
   ]
  },
  {
   "cell_type": "markdown",
   "id": "587f931e",
   "metadata": {},
   "source": [
    "#### Basic Syntax of a Class\n",
    "Here’s the basic structure of a Python class:"
   ]
  },
  {
   "cell_type": "code",
   "execution_count": null,
   "id": "b2f86545",
   "metadata": {},
   "outputs": [],
   "source": [
    "class ClassName:\n",
    "    def __init__(self, parameter1, parameter2):\n",
    "        self.parameter1 = parameter1  # Instance attribute\n",
    "        self.parameter2 = parameter2\n",
    "\n",
    "    def method_name(self):\n",
    "        # Code to perform an action\n",
    "        return f\"Doing something with {self.parameter1}\""
   ]
  },
  {
   "cell_type": "markdown",
   "id": "b546d98f",
   "metadata": {},
   "source": [
    "__class__ __ClassName__: Defines the class with a name (use CamelCase by convention).\n",
    "\n",
    "__ __init__ __: The constructor method, called when you create an object. It initializes attributes.\n",
    "\n",
    "__self__: Refers to the instance of the class. It’s required in method definitions to access attributes and methods.\n",
    "\n",
    "__Methods__: Functions defined inside the class that can use the object’s attributes."
   ]
  },
  {
   "cell_type": "markdown",
   "id": "997b1d93",
   "metadata": {},
   "source": [
    "### Example 1: A Simple Data Science Class\n",
    "Let’s create a DatasetCleaner class to clean a dataset (e.g., handle missing values), which aligns with your interest in data cleaning (from April 9, 2025)."
   ]
  },
  {
   "cell_type": "code",
   "execution_count": null,
   "id": "4703f905",
   "metadata": {},
   "outputs": [],
   "source": [
    "class DatasetCleaner:\n",
    "    def __init__(self, data):\n",
    "        self.data = data  # Store the dataset (e.g., a pandas DataFrame)\n",
    "    \n",
    "    def remove_nulls(self):\n",
    "        \"\"\"Remove rows with missing values.\"\"\"\n",
    "        self.data = self.data.dropna()\n",
    "        print(\"Null values removed.\")\n",
    "        return self.data\n",
    "    \n",
    "    def summarize(self):\n",
    "        \"\"\"Print basic statistics.\"\"\"\n",
    "        print(\"Dataset Summary:\")\n",
    "        print(self.data.describe())\n",
    "\n",
    "# Example usage with a small dataset\n",
    "import pandas as pd\n",
    "\n",
    "# Create a sample dataset\n",
    "data = pd.DataFrame({\n",
    "    'name': ['Alice', 'Bob', None, 'David'],\n",
    "    'age': [25, None, 30, 22],\n",
    "    'score': [85, 90, 88, 92]\n",
    "})\n",
    "\n",
    "# Create an object of the class\n",
    "cleaner = DatasetCleaner(data)\n",
    "\n",
    "# Use methods\n",
    "print(\"Original Data:\")\n",
    "print(cleaner.data)\n",
    "cleaner.remove_nulls()\n",
    "print(\"\\nCleaned Data:\")\n",
    "print(cleaner.data)\n",
    "cleaner.summarize()"
   ]
  },
  {
   "cell_type": "markdown",
   "id": "a995f21e",
   "metadata": {},
   "source": [
    "### Explanation:\n",
    "\n",
    "__Class__ __Definition__: DatasetCleaner takes a DataFrame as input and stores it in self.data.\n",
    "\n",
    "__Methods__:\n",
    "    __remove_nulls__: Drops rows with missing values (like your April 9 interest in nulls).\n",
    "    __summarize__: Prints statistical summaries (like your interest in statistics).\n",
    "\n",
    "__Object__ __Creation__: cleaner = DatasetCleaner(data) creates an instance.\n",
    "\n",
    "__Method__ __Calls__: cleaner.remove_nulls() and cleaner.summarize() operate on the object’s data.\n",
    "\n",
    "__Learning__ __Tip__: Try adding a method to fill missing values (e.g., self.data.fillna(0)) or load your own CSV."
   ]
  },
  {
   "cell_type": "markdown",
   "id": "e4b5676c",
   "metadata": {},
   "source": [
    "### Example 2: A Class for Visualization\n",
    "Let’s create a DataVisualizer class to plot data, connecting to your interest in matplotlib (April 9 and 10, 2025)."
   ]
  },
  {
   "cell_type": "code",
   "execution_count": null,
   "id": "b3bc7557",
   "metadata": {},
   "outputs": [],
   "source": [
    "import matplotlib.pyplot as plt\n",
    "\n",
    "class DataVisualizer:\n",
    "    def __init__(self, data):\n",
    "        self.data = data\n",
    "    \n",
    "    def plot_histogram(self, column):\n",
    "        \"\"\"Plot a histogram for a given column.\"\"\"\n",
    "        plt.figure(figsize=(8, 6))\n",
    "        plt.hist(self.data[column], bins=10, color='skyblue', edgecolor='black')\n",
    "        plt.title(f'Histogram of {column}')\n",
    "        plt.xlabel(column)\n",
    "        plt.ylabel('Frequency')\n",
    "        plt.grid(True)\n",
    "        plt.show()\n",
    "    \n",
    "    def plot_bar(self, column):\n",
    "        \"\"\"Plot a bar chart for value counts of a column.\"\"\"\n",
    "        value_counts = self.data[column].value_counts()\n",
    "        plt.figure(figsize=(8, 6))\n",
    "        value_counts.plot(kind='bar', color='lightgreen')\n",
    "        plt.title(f'Bar Plot of {column}')\n",
    "        plt.xlabel(column)\n",
    "        plt.ylabel('Count')\n",
    "        plt.xticks(rotation=0)\n",
    "        plt.grid(axis='y')\n",
    "        plt.show()\n",
    "\n",
    "# Example usage\n",
    "visualizer = DataVisualizer(data)\n",
    "visualizer.plot_histogram('age')\n",
    "visualizer.plot_bar('name')"
   ]
  },
  {
   "cell_type": "markdown",
   "id": "c5ce0578",
   "metadata": {},
   "source": [
    "#### __Explanation__:\n",
    "\n",
    "__Class__ __Definition__: DataVisualizer stores a DataFrame.\n",
    "\n",
    "__Methods__:\n",
    "    __plot_histogram__: Creates a histogram for numerical data (e.g., ‘age’).\n",
    "    __plot_bar__: Creates a bar plot for categorical data (e.g., ‘name’).\n",
    "\n",
    "__Usage__: Pass the same dataset and call visualization methods.\n",
    "\n",
    "__Learning__ __Tip__: Add a method for a scatter plot (e.g., ‘age’ vs. ‘score’) or try with a dataset like Titanic."
   ]
  },
  {
   "cell_type": "markdown",
   "id": "18f24204",
   "metadata": {},
   "source": [
    "### Key Concepts to Understand\n",
    "\n",
    "__Attributes__: Variables stored in the object (e.g., self.data holds the DataFrame).\n",
    "\n",
    "__Methods__: Functions that belong to the class and use self to access attributes.\n",
    "\n",
    "__Instantiation__: Creating an object (e.g., cleaner = DatasetCleaner(data)).\n",
    "\n",
    "__Encapsulation__: Keeping data and methods that operate on it together in one class."
   ]
  },
  {
   "cell_type": "markdown",
   "id": "16e81f3a",
   "metadata": {},
   "source": []
  }
 ],
 "metadata": {
  "kernelspec": {
   "display_name": "base",
   "language": "python",
   "name": "python3"
  },
  "language_info": {
   "codemirror_mode": {
    "name": "ipython",
    "version": 3
   },
   "file_extension": ".py",
   "mimetype": "text/x-python",
   "name": "python",
   "nbconvert_exporter": "python",
   "pygments_lexer": "ipython3",
   "version": "3.12.7"
  }
 },
 "nbformat": 4,
 "nbformat_minor": 5
}
