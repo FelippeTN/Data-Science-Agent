{
 "cells": [
  {
   "cell_type": "markdown",
   "metadata": {},
   "source": [
    "# Introduction to Python: Hello World and Variable Declaration\n",
    "\n",
    "This notebook is a basic guide for beginners in Python, demonstrating how to display the classic *Hello, World!* message and how to declare variables. These are fundamental concepts to start programming in Python.\n",
    "\n",
    "Python is a simple, readable, and powerful programming language widely used for various purposes, from web development to data science."
   ]
  },
  {
   "cell_type": "markdown",
   "metadata": {},
   "source": [
    "## 1. Displaying *Hello, World!*\n",
    "\n",
    "The first step in many programming languages is to display the *Hello, World!* message in the console. In Python, this is done using the `print()` function.\n",
    "\n",
    "The `print()` function outputs text or values to the standard output (usually the console or terminal)."
   ]
  },
  {
   "cell_type": "code",
   "execution_count": null,
   "metadata": {},
   "outputs": [],
   "source": [
    "# Displaying Hello, World!\n",
    "print(\"Hello, World!\")"
   ]
  },
  {
   "cell_type": "markdown",
   "metadata": {},
   "source": [
    "**Expected Output**: `Hello, World!`\n",
    "\n",
    "In this example, the `print()` function takes a string (text within quotes) and displays it in the console. Quotes can be single (`'`) or double (`\"`), both are valid in Python."
   ]
  },
  {
   "cell_type": "markdown",
   "metadata": {},
   "source": [
    "## 2. Declaring Variables\n",
    "\n",
    "Variables in Python are used to store data, such as numbers, text, or other types of values. To declare a variable, you simply assign a value to a name using the assignment operator (`=`).\n",
    "\n",
    "Python is a dynamically typed language, meaning you don’t need to specify the variable’s type (e.g., integer, string, etc.) — Python infers the type automatically."
   ]
  },
  {
   "cell_type": "code",
   "execution_count": null,
   "metadata": {},
   "outputs": [],
   "source": [
    "# Declaring a variable\n",
    "name = \"Alice\"\n",
    "\n",
    "# Displaying the variable's value\n",
    "print(name)"
   ]
  },
  {
   "cell_type": "markdown",
   "metadata": {},
   "source": [
    "**Expected Output**: `Alice`\n",
    "\n",
    "In this example:\n",
    "- `name` is the variable’s name.\n",
    "- `\"Alice\"` is the value assigned to the variable (a string).\n",
    "- The `print()` function displays the value stored in `name`."
   ]
  },
  {
   "cell_type": "markdown",
   "metadata": {},
   "source": [
    "### 2.1 Declaring Different Types of Variables\n",
    "\n",
    "You can store different types of data in variables, such as integers, floating-point numbers, or strings. Here are some examples:"
   ]
  },
  {
   "cell_type": "code",
   "execution_count": null,
   "metadata": {},
   "outputs": [],
   "source": [
    "# Declaring variables of different types\n",
    "age = 25  # Integer (int)\n",
    "height = 1.75  # Float (float)\n",
    "message = \"Welcome to Python!\"  # String (str)\n",
    "\n",
    "# Displaying the values\n",
    "print(\"Age:\", age)\n",
    "print(\"Height:\", height)\n",
    "print(\"Message:\", message)"
   ]
  },
  {
   "cell_type": "markdown",
   "metadata": {},
   "source": [
    "**Expected Output**:\n",
    "```\n",
    "Age: 25\n",
    "Height: 1.75\n",
    "Message: Welcome to Python!\n",
    "```\n",
    "\n",
    "In this example:\n",
    "- `age` stores an integer.\n",
    "- `height` stores a floating-point number.\n",
    "- `message` stores a string.\n",
    "- The `print()` function can take multiple arguments separated by commas, which are displayed with a space between them."
   ]
  },
  {
   "cell_type": "markdown",
   "metadata": {},
   "source": [
    "## 3. Rules for Variable Names\n",
    "\n",
    "When declaring variables in Python, follow these rules:\n",
    "- **Valid names**: Can contain letters (a-z, A-Z), numbers (0-9), and underscores (`_`), but must start with a letter or underscore.\n",
    "- **Case-sensitive**: `Name` and `name` are different variables.\n",
    "- **Reserved words**: Do not use Python’s reserved words (e.g., `if`, `for`, `print`) as variable names.\n",
    "- **Best practices**: Use descriptive names (e.g., `age` instead of `x`) and follow conventions like lowercase with underscores for compound names (e.g., `full_name`)."
   ]
  },
  {
   "cell_type": "code",
   "execution_count": null,
   "metadata": {},
   "outputs": [],
   "source": [
    "# Example of valid variable names\n",
    "full_name = \"John Smith\"\n",
    "favorite_number = 42\n",
    "\n",
    "# Displaying the values\n",
    "print(\"Name:\", full_name)\n",
    "print(\"Favorite number:\", favorite_number)"
   ]
  },
  {
   "cell_type": "markdown",
   "metadata": {},
   "source": [
    "**Expected Output**:\n",
    "```\n",
    "Name: John Smith\n",
    "Favorite number: 42\n",
    "```\n",
    "\n",
    "The names `full_name` and `favorite_number` are descriptive and follow best practices."
   ]
  },
  {
   "cell_type": "markdown",
   "metadata": {},
   "source": [
    "## 4. Summary\n",
    "\n",
    "- **Hello, World!**: Use the `print()` function to display text or values in the console.\n",
    "- **Variables**: Declare variables by assigning values with the `=` operator; Python infers the type automatically.\n",
    "- **Data types**: Variables can store integers (`int`), floats (`float`), strings (`str`), among others.\n",
    "- **Naming**: Choose clear variable names, follow syntax rules, and adopt best practices.\n",
    "\n",
    "This notebook covers the initial concepts of Python. Try changing the variable values or creating new messages to practice!"
   ]
  }
 ],
 "metadata": {
  "kernelspec": {
   "display_name": "Python 3",
   "language": "python",
   "name": "python3"
  },
  "language_info": {
   "codemirror_mode": {
    "name": "ipython",
    "version": 3
   },
   "file_extension": ".py",
   "mimetype": "text/x-python",
   "name": "python",
   "nbconvert_exporter": "python",
   "pygments_lexer": "ipython3",
   "version": "3.8.10"
  }
 },
 "nbformat": 4,
 "nbformat_minor": 4
}