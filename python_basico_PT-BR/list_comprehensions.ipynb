{
  "cells": [
    {
      "cell_type": "markdown",
      "metadata": {},
      "source": [
        "# List Comprehensions e Generator Expressions em Python\n",
        "\n",
        "Neste notebook, vamos explorar dois conceitos poderosos em Python: **list comprehensions** (compreensões de lista) e **generator expressions** (expressões geradoras). Eles são ferramentas que ajudam a escrever código mais limpo e eficiente, especialmente ao trabalhar com listas ou grandes volumes de dados.\n",
        "\n",
        "## O que vamos aprender?\n",
        "- O que são **list comprehensions** e como usá-las para criar listas de forma rápida.\n",
        "- Como usar **list comprehensions** com condições.\n",
        "- O que são **generator expressions** e como elas economizam memória.\n",
        "- Diferenças entre list comprehensions e generator expressions.\n",
        "\n",
        "Esses conceitos são muito úteis em ciência de dados, automação e manipulação de dados. Vamos começar!"
      ]
    },
    {
      "cell_type": "markdown",
      "metadata": {},
      "source": [
        "## 1. O que são List Comprehensions?\n",
        "\n",
        "Uma **list comprehension** é uma forma concisa de criar uma lista em Python. Em vez de usar um loop `for` tradicional, você pode escrever tudo em uma única linha. Isso deixa o código mais limpo e fácil de ler.\n",
        "\n",
        "### Estrutura básica\n",
        "A sintaxe de uma list comprehension é:\n",
        "\n",
        "```python\n",
        "[expressão for item in iterável]\n",
        "```\n",
        "\n",
        "- `expressão`: O que você quer que cada elemento da lista seja.\n",
        "- `item`: A variável que representa cada elemento do iterável.\n",
        "- `iterável`: Uma coleção de dados, como uma lista, tupla ou intervalo (`range`).\n",
        "\n",
        "Vamos ver um exemplo simples!"
      ]
    },
    {
      "cell_type": "code",
      "execution_count": null,
      "metadata": {},
      "outputs": [],
      "source": [
        "# Exemplo 1: Criar uma lista com os quadrados dos números de 0 a 4\n",
        "# Jeito tradicional com um loop for\n",
        "quadrados = []\n",
        "for numero in range(5):\n",
        "    quadrados.append(numero ** 2)\n",
        "print('Usando loop for:', quadrados)\n",
        "\n",
        "# Agora usando list comprehension\n",
        "quadrados_comp = [numero ** 2 for numero in range(5)]\n",
        "print('Usando list comprehension:', quadrados_comp)"
      ]
    },
    {
      "cell_type": "markdown",
      "metadata": {},
      "source": [
        "**Explicação:**\n",
        "- No primeiro exemplo, usamos um loop `for` tradicional para criar uma lista com os quadrados dos números.\n",
        "- No segundo exemplo, usamos uma list comprehension: `[numero ** 2 for numero in range(5)]`.\n",
        "- O resultado é o mesmo, mas a list comprehension é mais concisa e elegante.\n",
        "\n",
        "### List Comprehensions com Condições\n",
        "Você pode adicionar condições para filtrar os elementos que entram na lista. A sintaxe fica:\n",
        "\n",
        "```python\n",
        "[expressão for item in iterável if condição]\n",
        "```\n",
        "\n",
        "Vamos criar uma lista apenas com os números pares."
      ]
    },
    {
      "cell_type": "code",
      "execution_count": null,
      "metadata": {},
      "outputs": [],
      "source": [
        "# Exemplo 2: Listar apenas os números pares de 0 a 9\n",
        "pares = [numero for numero in range(10) if numero % 2 == 0]\n",
        "print('Números pares:', pares)"
      ]
    },
    {
      "cell_type": "markdown",
      "metadata": {},
      "source": [
        "**Explicação:**\n",
        "- `if numero % 2 == 0`: Só inclui o número na lista se ele for par (ou seja, se o resto da divisão por 2 for 0).\n",
        "- Isso é equivalente a um loop `for` com uma condição `if`, mas em uma única linha.\n",
        "\n",
        "### List Comprehensions Aninhadas\n",
        "Você pode usar list comprehensions dentro de outras list comprehensions (como loops aninhados). Vamos criar uma lista de combinações."
      ]
    },
    {
      "cell_type": "code",
      "execution_count": null,
      "metadata": {},
      "outputs": [],
      "source": [
        "# Exemplo 3: Criar uma lista de combinações de letras e números\n",
        "letras = ['A', 'B']\n",
        "numeros = [1, 2]\n",
        "combinacoes = [letra + str(numero) for letra in letras for numero in numeros]\n",
        "print('Combinações:', combinacoes)"
      ]
    },
    {
      "cell_type": "markdown",
      "metadata": {},
      "source": [
        "**Explicação:**\n",
        "- `[letra + str(numero) for letra in letras for numero in numeros]`:\n",
        "  - Primeiro loop: `for letra in letras` (percorre as letras).\n",
        "  - Segundo loop: `for numero in numeros` (percorre os números para cada letra).\n",
        "  - Resultado: Combina cada letra com cada número (ex.: 'A1', 'A2', 'B1', 'B2').\n",
        "\n",
        "## 2. O que são Generator Expressions?\n",
        "\n",
        "Uma **generator expression** é semelhante a uma list comprehension, mas em vez de criar uma lista inteira na memória, ela gera os elementos um a um, conforme necessário. Isso economiza memória, especialmente ao trabalhar com grandes volumes de dados.\n",
        "\n",
        "### Estrutura básica\n",
        "A sintaxe é quase igual à de uma list comprehension, mas usamos parênteses `()` em vez de colchetes `[]`:\n",
        "\n",
        "```python\n",
        "(expressão for item in iterável)\n",
        "```\n",
        "\n",
        "Vamos comparar com o exemplo dos quadrados."
      ]
    },
    {
      "cell_type": "code",
      "execution_count": null,
      "metadata": {},
      "outputs": [],
      "source": [
        "# Exemplo 4: Generator expression para os quadrados\n",
        "quadrados_gen = (numero ** 2 for numero in range(5))\n",
        "print('Generator expression:', quadrados_gen)\n",
        "\n",
        "# Para ver os valores, podemos iterar ou converter para uma lista\n",
        "quadrados_lista = list(quadrados_gen)\n",
        "print('Convertendo para lista:', quadrados_lista)"
      ]
    },
    {
      "cell_type": "markdown",
      "metadata": {},
      "source": [
        "**Explicação:**\n",
        "- `(numero ** 2 for numero in range(5))`: Cria um gerador, não uma lista.\n",
        "- Um gerador só calcula os valores quando você os solicita (por exemplo, ao iterar ou converter para uma lista).\n",
        "- Note que, depois de converter para uma lista, o gerador fica \"esgotado\" e não pode ser reutilizado.\n",
        "\n",
        "### Generator Expressions com Condições\n",
        "Assim como nas list comprehensions, você pode adicionar condições às generator expressions."
      ]
    },
    {
      "cell_type": "code",
      "execution_count": null,
      "metadata": {},
      "outputs": [],
      "source": [
        "# Exemplo 5: Generator expression para números pares\n",
        "pares_gen = (numero for numero in range(10) if numero % 2 == 0)\n",
        "print('Números pares (gerador):', list(pares_gen))"
      ]
    },
    {
      "cell_type": "markdown",
      "metadata": {},
      "source": [
        "**Explicação:**\n",
        "- O gerador só inclui números pares, e os valores são gerados sob demanda.\n",
        "- Convertemos para uma lista para visualizar os resultados.\n",
        "\n",
        "## 3. Diferenças entre List Comprehensions e Generator Expressions\n",
        "\n",
        "Agora que vimos os dois conceitos, vamos comparar:\n",
        "\n",
        "| **Aspecto**           | **List Comprehension**            | **Generator Expression**         |\n",
        "|-----------------------|-----------------------------------|-----------------------------------|\n",
        "| Sintaxe               | Usa `[]` (colchetes)             | Usa `()` (parênteses)            |\n",
        "| Resultado             | Cria uma lista inteira na memória| Gera valores um a um            |\n",
        "| Uso de memória        | Consome mais memória             | Economiza memória                |\n",
        "| Reutilização          | Pode ser reutilizada             | Só pode ser usada uma vez       |\n",
        "\n",
        "### Quando usar cada uma?\n",
        "- Use **list comprehensions** quando precisar de uma lista completa e o tamanho dos dados for pequeno.\n",
        "- Use **generator expressions** quando trabalhar com grandes volumes de dados ou quando só precisar iterar sobre os valores uma vez.\n",
        "\n",
        "Vamos ver um exemplo prático com grandes volumes de dados."
      ]
    },
    {
      "cell_type": "code",
      "execution_count": null,
      "metadata": {},
      "outputs": [],
      "source": [
        "# Exemplo 6: Somando números grandes com generator expression\n",
        "# Vamos somar os quadrados dos números de 0 a 999999\n",
        "\n",
        "# Usando list comprehension (consome mais memória)\n",
        "quadrados_lista = [numero ** 2 for numero in range(1000000)]\n",
        "soma_lista = sum(quadrados_lista)\n",
        "print('Soma usando list comprehension:', soma_lista)\n",
        "\n",
        "# Usando generator expression (economiza memória)\n",
        "quadrados_gen = (numero ** 2 for numero in range(1000000))\n",
        "soma_gen = sum(quadrados_gen)\n",
        "print('Soma usando generator expression:', soma_gen)"
      ]
    },
    {
      "cell_type": "markdown",
      "metadata": {},
      "source": [
        "**Explicação:**\n",
        "- Na list comprehension, todos os 1 milhão de quadrados são armazenados na memória antes de calcular a soma.\n",
        "- Na generator expression, os quadrados são gerados um a um e somados diretamente, usando muito menos memória.\n",
        "- O resultado é o mesmo, mas o gerador é mais eficiente para grandes volumes de dados.\n",
        "\n",
        "## 4. Prática: Um Exemplo em Ciência de Dados\n",
        "\n",
        "Vamos usar list comprehensions e generator expressions para filtrar e processar dados. Imagine que temos uma lista de temperaturas e queremos encontrar as temperaturas acima de 25°C.\n"
      ]
    },
    {
      "cell_type": "code",
      "execution_count": null,
      "metadata": {},
      "outputs": [],
      "source": [
        "# Exemplo 7: Filtrando temperaturas\n",
        "temperaturas = [22, 27, 19, 30, 25, 28, 23]\n",
        "\n",
        "# Usando list comprehension\n",
        "temp_altas_lista = [temp for temp in temperaturas if temp > 25]\n",
        "print('Temperaturas acima de 25°C (lista):', temp_altas_lista)\n",
        "\n",
        "# Usando generator expression\n",
        "temp_altas_gen = (temp for temp in temperaturas if temp > 25)\n",
        "print('Temperaturas acima de 25°C (gerador):', list(temp_altas_gen))"
      ]
    },
    {
      "cell_type": "markdown",
      "metadata": {},
      "source": [
        "**Explicação:**\n",
        "- Filtramos as temperaturas maiores que 25°C usando ambas as abordagens.\n",
        "- A list comprehension cria a lista completa de uma vez.\n",
        "- A generator expression gera os valores sob demanda, o que seria mais eficiente se a lista de temperaturas fosse muito grande.\n",
        "\n",
        "## Conclusão\n",
        "\n",
        "Neste notebook, você aprendeu:\n",
        "- Como usar **list comprehensions** para criar listas de forma concisa e com condições.\n",
        "- Como usar **generator expressions** para economizar memória ao trabalhar com grandes volumes de dados.\n",
        "- As diferenças entre os dois e quando usar cada um.\n",
        "\n",
        "### Dica de Prática\n",
        "- Tente criar uma list comprehension para transformar uma lista de palavras em maiúsculas.\n",
        "- Use uma generator expression para calcular a soma dos números ímpares de 1 a 100.\n",
        "\n",
        "Continue praticando para dominar essas ferramentas poderosas!"
      ]
    }
  ],
  "metadata": {
    "kernelspec": {
      "display_name": "Python 3",
      "language": "python",
      "name": "python3"
    },
    "language_info": {
      "codemirror_mode": {
        "name": "ipython",
        "version": 3
      },
      "file_extension": ".py",
      "mimetype": "text/x-python",
      "name": "python",
      "nbconvert_exporter": "python",
      "pygments_lexer": "ipython3",
      "version": "3.8.5"
    }
  },
  "nbformat": 4,
  "nbformat_minor": 4
}