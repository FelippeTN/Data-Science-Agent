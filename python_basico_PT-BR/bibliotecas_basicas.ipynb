{
  "cells": [
    {
      "cell_type": "markdown",
      "metadata": {},
      "source": [
        "# Bibliotecas Básicas em Python\n",
        "\n",
        "Neste notebook, você aprenderá a usar algumas bibliotecas básicas do Python que são muito úteis para diferentes tarefas: **math**, **random**, **datetime**, **itertools** e **collections**. Essas bibliotecas já vêm instaladas com o Python, então você não precisa instalar nada extra!\n",
        "\n",
        "## O que vamos aprender?\n",
        "- **math**: Funções matemáticas como raiz quadrada, seno, cosseno e constantes como π.\n",
        "- **random**: Gerar números aleatórios e fazer escolhas aleatórias.\n",
        "- **datetime**: Trabalhar com datas e horários.\n",
        "- **itertools**: Ferramentas para criar e manipular iteráveis de forma eficiente.\n",
        "- **collections**: Estruturas de dados avançadas como contadores e dicionários com valores padrão.\n",
        "\n",
        "Vamos explorar cada uma delas com exemplos práticos!"
      ]
    },
    {
      "cell_type": "markdown",
      "metadata": {},
      "source": [
        "## 1. Biblioteca `math`\n",
        "\n",
        "A biblioteca `math` fornece funções matemáticas e constantes úteis, como π (pi) e e (número de Euler). Vamos ver alguns exemplos.\n",
        "\n",
        "### Exemplos com `math`\n",
        "- Calcular a raiz quadrada.\n",
        "- Usar funções trigonométricas (seno e cosseno).\n",
        "- Arredondar números."
      ]
    },
    {
      "cell_type": "code",
      "execution_count": null,
      "metadata": {},
      "outputs": [],
      "source": [
        "import math\n",
        "\n",
        "# Raiz quadrada de 16\n",
        "raiz = math.sqrt(16)\n",
        "print('Raiz quadrada de 16:', raiz)\n",
        "\n",
        "# Valor de pi\n",
        "print('Valor de π:', math.pi)\n",
        "\n",
        "# Seno de 90 graus (precisamos converter graus para radianos)\n",
        "angulo_graus = 90\n",
        "angulo_radianos = math.radians(angulo_graus)\n",
        "seno = math.sin(angulo_radianos)\n",
        "print('Seno de 90 graus:', seno)\n",
        "\n",
        "# Arredondando para cima e para baixo\n",
        "numero = 4.7\n",
        "print('Arredondar 4.7 para cima:', math.ceil(numero))\n",
        "print('Arredondar 4.7 para baixo:', math.floor(numero))"
      ]
    },
    {
      "cell_type": "markdown",
      "metadata": {},
      "source": [
        "**Explicação:**\n",
        "- `math.sqrt()`: Calcula a raiz quadrada.\n",
        "- `math.pi`: Constante que representa π (aproximadamente 3,14).\n",
        "- `math.radians()`: Converte graus para radianos, necessário para funções como `sin()` e `cos()`.\n",
        "- `math.ceil()`: Arredonda para cima.\n",
        "- `math.floor()`: Arredonda para baixo.\n",
        "\n",
        "## 2. Biblioteca `random`\n",
        "\n",
        "A biblioteca `random` é usada para gerar números aleatórios ou fazer escolhas aleatórias. É muito útil para simulações ou jogos.\n",
        "\n",
        "### Exemplos com `random`\n",
        "- Gerar números aleatórios.\n",
        "- Escolher um item aleatório de uma lista."
      ]
    },
    {
      "cell_type": "code",
      "execution_count": null,
      "metadata": {},
      "outputs": [],
      "source": [
        "import random\n",
        "\n",
        "# Número aleatório entre 0 e 1\n",
        "numero_aleatorio = random.random()\n",
        "print('Número aleatório entre 0 e 1:', numero_aleatorio)\n",
        "\n",
        "# Número inteiro aleatório entre 1 e 10\n",
        "inteiro_aleatorio = random.randint(1, 10)\n",
        "print('Número inteiro aleatório entre 1 e 10:', inteiro_aleatorio)\n",
        "\n",
        "# Escolher um item aleatório de uma lista\n",
        "frutas = ['maçã', 'banana', 'laranja', 'uva']\n",
        "fruta_aleatoria = random.choice(frutas)\n",
        "print('Fruta escolhida aleatoriamente:', fruta_aleatoria)\n",
        "\n",
        "# Embaralhar uma lista\n",
        "random.shuffle(frutas)\n",
        "print('Lista de frutas embaralhada:', frutas)"
      ]
    },
    {
      "cell_type": "markdown",
      "metadata": {},
      "source": [
        "**Explicação:**\n",
        "- `random.random()`: Gera um número decimal entre 0 e 1.\n",
        "- `random.randint(a, b)`: Gera um número inteiro entre `a` e `b` (inclusive).\n",
        "- `random.choice()`: Escolhe um item aleatório de uma lista.\n",
        "- `random.shuffle()`: Embaralha os itens de uma lista.\n",
        "\n",
        "## 3. Biblioteca `datetime`\n",
        "\n",
        "A biblioteca `datetime` permite trabalhar com datas e horários. É útil para registrar eventos ou calcular diferenças de tempo.\n",
        "\n",
        "### Exemplos com `datetime`\n",
        "- Obter a data atual.\n",
        "- Calcular a diferença entre datas."
      ]
    },
    {
      "cell_type": "code",
      "execution_count": null,
      "metadata": {},
      "outputs": [],
      "source": [
        "from datetime import datetime, timedelta\n",
        "\n",
        "# Data e hora atuais\n",
        "agora = datetime.now()\n",
        "print('Data e hora atuais:', agora)\n",
        "\n",
        "# Formatando a data\n",
        "data_formatada = agora.strftime('%d/%m/%Y %H:%M:%S')\n",
        "print('Data formatada:', data_formatada)\n",
        "\n",
        "# Calculando uma data futura (hoje + 5 dias)\n",
        "data_futura = agora + timedelta(days=5)\n",
        "print('Daqui a 5 dias:', data_futura.strftime('%d/%m/%Y'))\n",
        "\n",
        "# Diferença entre datas\n",
        "data_nascimento = datetime(2000, 1, 1)\n",
        "diferenca = agora - data_nascimento\n",
        "print('Dias desde 01/01/2000:', diferenca.days)"
      ]
    },
    {
      "cell_type": "markdown",
      "metadata": {},
      "source": [
        "**Explicação:**\n",
        "- `datetime.now()`: Retorna a data e hora atuais.\n",
        "- `strftime()`: Formata a data/hora como uma string (ex.: `%d/%m/%Y` para dia/mês/ano).\n",
        "- `timedelta`: Permite somar ou subtrair períodos de tempo.\n",
        "- `diferenca.days`: Calcula a diferença em dias entre duas datas.\n",
        "\n",
        "## 4. Biblioteca `itertools`\n",
        "\n",
        "A biblioteca `itertools` oferece ferramentas para trabalhar com iteráveis (como listas) de forma eficiente.\n",
        "\n",
        "### Exemplos com `itertools`\n",
        "- Gerar combinações.\n",
        "- Criar um contador infinito."
      ]
    },
    {
      "cell_type": "code",
      "execution_count": null,
      "metadata": {},
      "outputs": [],
      "source": [
        "import itertools\n",
        "\n",
        "# Combinações de 2 elementos a partir de uma lista\n",
        "letras = ['A', 'B', 'C']\n",
        "combinacoes = list(itertools.combinations(letras, 2))\n",
        "print('Combinações de 2 letras:', combinacoes)\n",
        "\n",
        "# Contador infinito (vamos limitar a 5 números)\n",
        "contador = itertools.count(start=1, step=2)\n",
        "for i, numero in enumerate(contador):\n",
        "    print('Número:', numero)\n",
        "    if i == 4:  # Para após 5 números\n",
        "        break\n",
        "\n",
        "# Repetir um elemento\n",
        "repetidos = list(itertools.repeat('Oi', 3))\n",
        "print('Repetindo \"Oi\" 3 vezes:', repetidos)"
      ]
    },
    {
      "cell_type": "markdown",
      "metadata": {},
      "source": [
        "**Explicação:**\n",
        "- `itertools.combinations()`: Gera todas as combinações possíveis de um número específico de elementos.\n",
        "- `itertools.count()`: Cria um contador infinito (começando de `start` e incrementando por `step`).\n",
        "- `itertools.repeat()`: Repete um elemento um número específico de vezes.\n",
        "\n",
        "## 5. Biblioteca `collections`\n",
        "\n",
        "A biblioteca `collections` oferece estruturas de dados avançadas, como contadores e dicionários com valores padrão.\n",
        "\n",
        "### Exemplos com `collections`\n",
        "- Usar `Counter` para contar elementos.\n",
        "- Usar `defaultdict` para evitar erros em dicionários."
      ]
    },
    {
      "cell_type": "code",
      "execution_count": null,
      "metadata": {},
      "outputs": [],
      "source": [
        "from collections import Counter, defaultdict\n",
        "\n",
        "# Contando elementos com Counter\n",
        "animais = ['gato', 'cachorro', 'gato', 'pássaro', 'cachorro', 'gato']\n",
        "contagem = Counter(animais)\n",
        "print('Contagem de animais:', contagem)\n",
        "print('Quantos gatos?', contagem['gato'])\n",
        "\n",
        "# Usando defaultdict\n",
        "dicionario = defaultdict(int)  # Valor padrão é 0\n",
        "dicionario['chave_inexistente'] += 1\n",
        "print('Dicionário com valor padrão:', dict(dicionario))"
      ]
    },
    {
      "cell_type": "markdown",
      "metadata": {},
      "source": [
        "**Explicação:**\n",
        "- `Counter`: Conta a frequência de elementos em uma lista.\n",
        "- `defaultdict`: Cria um dicionário que atribui um valor padrão (como `int`, que é 0) para chaves inexistentes, evitando erros.\n",
        "\n",
        "## Conclusão\n",
        "\n",
        "Neste notebook, você aprendeu a usar cinco bibliotecas básicas do Python:\n",
        "- `math`: Para cálculos matemáticos.\n",
        "- `random`: Para gerar aleatoriedade.\n",
        "- `datetime`: Para trabalhar com datas e horários.\n",
        "- `itertools`: Para manipular iteráveis de forma eficiente.\n",
        "- `collections`: Para estruturas de dados avançadas.\n",
        "\n",
        "Tente usar essas bibliotecas em seus próprios projetos para praticar!"
      ]
    }
  ],
  "metadata": {
    "kernelspec": {
      "display_name": "Python 3",
      "language": "python",
      "name": "python3"
    },
    "language_info": {
      "codemirror_mode": {
        "name": "ipython",
        "version": 3
      },
      "file_extension": ".py",
      "mimetype": "text/x-python",
      "name": "python",
      "nbconvert_exporter": "python",
      "pygments_lexer": "ipython3",
      "version": "3.8.5"
    }
  },
  "nbformat": 4,
  "nbformat_minor": 4
}