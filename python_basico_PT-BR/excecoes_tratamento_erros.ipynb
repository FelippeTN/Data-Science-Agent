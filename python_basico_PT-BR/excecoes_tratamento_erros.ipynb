{
  "cells": [
    {
      "cell_type": "markdown",
      "metadata": {},
      "source": [
        "# Exceções e Tratamento de Erros em Python\n",
        "\n",
        "Neste notebook, você aprenderá como lidar com **erros** (ou **exceções**) em Python. Erros são comuns ao programar, e saber como tratá-los é essencial para criar programas robustos que não travem inesperadamente.\n",
        "\n",
        "## O que vamos aprender?\n",
        "- O que são exceções e por que elas acontecem.\n",
        "- Como usar `try` e `except` para capturar e tratar erros.\n",
        "- Como usar `else` e `finally` para maior controle.\n",
        "- Como criar suas próprias exceções personalizadas.\n",
        "- Exemplos práticos de tratamento de erros.\n",
        "\n",
        "Vamos começar!"
      ]
    },
    {
      "cell_type": "markdown",
      "metadata": {},
      "source": [
        "## 1. O que são Exceções?\n",
        "\n",
        "Uma **exceção** é um erro que ocorre durante a execução de um programa. Quando o Python encontra um erro que não pode resolver, ele \"lança\" uma exceção, e o programa para, a menos que você a trate.\n",
        "\n",
        "### Exemplos comuns de exceções:\n",
        "- `ZeroDivisionError`: Tentar dividir um número por zero.\n",
        "- `TypeError`: Tentar somar tipos incompatíveis (ex.: um número e uma string).\n",
        "- `FileNotFoundError`: Tentar abrir um arquivo que não existe.\n",
        "\n",
        "Vamos ver um exemplo de erro."
      ]
    },
    {
      "cell_type": "code",
      "execution_count": null,
      "metadata": {},
      "outputs": [],
      "source": [
        "# Exemplo 1: Um erro não tratado\n",
        "numero = 10\n",
        "divisor = 0\n",
        "resultado = numero / divisor  # Isso vai causar um erro!\n",
        "print(resultado)"
      ]
    },
    {
      "cell_type": "markdown",
      "metadata": {},
      "source": [
        "**Explicação:**\n",
        "- O código acima tenta dividir 10 por 0, o que é impossível.\n",
        "- Isso gera um `ZeroDivisionError`, e o programa para.\n",
        "- Para evitar que o programa pare, podemos tratar esse erro.\n",
        "\n",
        "## 2. Usando `try` e `except` para Tratar Exceções\n",
        "\n",
        "A estrutura básica para tratar exceções em Python é:\n",
        "\n",
        "```python\n",
        "try:\n",
        "    # Código que pode gerar um erro\n",
        "except NomeDoErro:\n",
        "    # O que fazer se o erro ocorrer\n",
        "```\n",
        "\n",
        "Vamos reescrever o exemplo anterior com tratamento de erro."
      ]
    },
    {
      "cell_type": "code",
      "execution_count": null,
      "metadata": {},
      "outputs": [],
      "source": [
        "# Exemplo 2: Tratando um ZeroDivisionError\n",
        "numero = 10\n",
        "divisor = 0\n",
        "\n",
        "try:\n",
        "    resultado = numero / divisor\n",
        "    print('Resultado:', resultado)\n",
        "except ZeroDivisionError:\n",
        "    print('Erro: Não é possível dividir por zero!')"
      ]
    },
    {
      "cell_type": "markdown",
      "metadata": {},
      "source": [
        "**Explicação:**\n",
        "- `try`: Dentro desse bloco, colocamos o código que pode gerar um erro.\n",
        "- `except ZeroDivisionError`: Se um `ZeroDivisionError` ocorrer, o código dentro desse bloco é executado.\n",
        "- O programa não para, e você pode continuar a execução.\n",
        "\n",
        "### Capturando Múltiplas Exceções\n",
        "Às vezes, diferentes erros podem ocorrer. Podemos capturar múltiplas exceções usando mais de um `except`."
      ]
    },
    {
      "cell_type": "code",
      "execution_count": null,
      "metadata": {},
      "outputs": [],
      "source": [
        "# Exemplo 3: Tratando múltiplas exceções\n",
        "try:\n",
        "    numero = int(input('Digite um número: '))\n",
        "    resultado = 100 / numero\n",
        "    print('Resultado:', resultado)\n",
        "except ZeroDivisionError:\n",
        "    print('Erro: Não é possível dividir por zero!')\n",
        "except ValueError:\n",
        "    print('Erro: Você deve digitar um número válido!')"
      ]
    },
    {
      "cell_type": "markdown",
      "metadata": {},
      "source": [
        "**Explicação:**\n",
        "- `ValueError`: Ocorre se o usuário digitar algo que não pode ser convertido para um número (ex.: letras).\n",
        "- `ZeroDivisionError`: Ocorre se o usuário digitar 0.\n",
        "- Cada tipo de erro é tratado de forma específica.\n",
        "\n",
        "## 3. Usando `else` e `finally`\n",
        "\n",
        "Além de `try` e `except`, você pode usar:\n",
        "- `else`: Executa um código se nenhum erro ocorrer.\n",
        "- `finally`: Executa um código sempre, independentemente de erros.\n",
        "\n",
        "Vamos ver um exemplo."
      ]
    },
    {
      "cell_type": "code",
      "execution_count": null,
      "metadata": {},
      "outputs": [],
      "source": [
        "# Exemplo 4: Usando else e finally\n",
        "try:\n",
        "    arquivo = open('dados.txt', 'r')\n",
        "    conteudo = arquivo.read()\n",
        "except FileNotFoundError:\n",
        "    print('Erro: O arquivo não foi encontrado!')\n",
        "else:\n",
        "    print('Arquivo lido com sucesso!')\n",
        "    print('Conteúdo:', conteudo)\n",
        "finally:\n",
        "    print('Finalizando...')\n",
        "    if 'arquivo' in locals():\n",
        "        arquivo.close()"
      ]
    },
    {
      "cell_type": "markdown",
      "metadata": {},
      "source": [
        "**Explicação:**\n",
        "- `try`: Tentamos abrir e ler o arquivo.\n",
        "- `except FileNotFoundError`: Se o arquivo não existir, tratamos o erro.\n",
        "- `else`: Se não houver erro, mostramos o conteúdo do arquivo.\n",
        "- `finally`: Esse bloco sempre executa, mesmo se houver erro. Aqui, garantimos que o arquivo seja fechado.\n",
        "\n",
        "## 4. Criando Exceções Personalizadas\n",
        "\n",
        "Você pode criar suas próprias exceções usando a palavra-chave `raise`. Isso é útil quando você quer sinalizar um erro específico no seu programa.\n",
        "\n",
        "Vamos criar um exemplo onde verificamos a idade de uma pessoa."
      ]
    },
    {
      "cell_type": "code",
      "execution_count": null,
      "metadata": {},
      "outputs": [],
      "source": [
        "# Exemplo 5: Criando e lançando uma exceção personalizada\n",
        "def verificar_idade(idade):\n",
        "    if idade < 0:\n",
        "        raise ValueError('A idade não pode ser negativa!')\n",
        "    elif idade < 18:\n",
        "        print('Você é menor de idade.')\n",
        "    else:\n",
        "        print('Você é maior de idade.')\n",
        "\n",
        "# Testando a função\n",
        "try:\n",
        "    verificar_idade(-5)\n",
        "except ValueError as erro:\n",
        "    print('Erro:', erro)"
      ]
    },
    {
      "cell_type": "markdown",
      "metadata": {},
      "source": [
        "**Explicação:**\n",
        "- `raise ValueError('A idade não pode ser negativa!')`: Lança uma exceção com uma mensagem personalizada.\n",
        "- `except ValueError as erro`: Captura a exceção e mostra a mensagem de erro.\n",
        "- Isso ajuda a tornar o código mais claro e específico sobre os erros que podem ocorrer.\n",
        "\n",
        "## 5. Prática: Um Exemplo Real\n",
        "\n",
        "Vamos criar um pequeno programa que pede ao usuário para inserir dois números e divide um pelo outro, tratando possíveis erros."
      ]
    },
    {
      "cell_type": "code",
      "execution_count": null,
      "metadata": {},
      "outputs": [],
      "source": [
        "# Exemplo 6: Calculadora simples com tratamento de erros\n",
        "def dividir_numeros():\n",
        "    try:\n",
        "        num1 = float(input('Digite o primeiro número: '))\n",
        "        num2 = float(input('Digite o segundo número: '))\n",
        "        resultado = num1 / num2\n",
        "    except ValueError:\n",
        "        print('Erro: Digite apenas números válidos!')\n",
        "    except ZeroDivisionError:\n",
        "        print('Erro: Não é possível dividir por zero!')\n",
        "    else:\n",
        "        print(f'{num1} dividido por {num2} é igual a {resultado}')\n",
        "    finally:\n",
        "        print('Cálculo finalizado.')\n",
        "\n",
        "# Executando a função\n",
        "dividir_numeros()"
      ]
    },
    {
      "cell_type": "markdown",
      "metadata": {},
      "source": [
        "**Explicação:**\n",
        "- O programa pede dois números e tenta dividi-los.\n",
        "- Tratamos `ValueError` (caso o usuário digite algo que não seja um número) e `ZeroDivisionError` (caso o segundo número seja 0).\n",
        "- Se não houver erros, mostramos o resultado no bloco `else`.\n",
        "- O bloco `finally` sempre executa, indicando que o cálculo terminou.\n",
        "\n",
        "## Conclusão\n",
        "\n",
        "Neste notebook, você aprendeu:\n",
        "- O que são exceções e por que elas ocorrem.\n",
        "- Como usar `try`, `except`, `else` e `finally` para tratar erros.\n",
        "- Como criar e lançar exceções personalizadas com `raise`.\n",
        "- Um exemplo prático de como aplicar o tratamento de erros em um programa.\n",
        "\n",
        "### Dica de Prática\n",
        "- Tente criar um programa que leia um arquivo e trate possíveis erros (como arquivo não encontrado).\n",
        "- Crie uma função que verifique se um número é positivo e lance uma exceção personalizada se não for.\n",
        "\n",
        "Continue praticando para se tornar um mestre no tratamento de erros!"
      ]
    }
  ],
  "metadata": {
    "kernelspec": {
      "display_name": "Python 3",
      "language": "python",
      "name": "python3"
    },
    "language_info": {
      "codemirror_mode": {
        "name": "ipython",
        "version": 3
      },
      "file_extension": ".py",
      "mimetype": "text/x-python",
      "name": "python",
      "nbconvert_exporter": "python",
      "pygments_lexer": "ipython3",
      "version": "3.8.5"
    }
  },
  "nbformat": 4,
  "nbformat_minor": 4
}