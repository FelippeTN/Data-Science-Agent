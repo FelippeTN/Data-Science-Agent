{
  "cells": [
    {
      "cell_type": "markdown",
      "metadata": {},
      "source": [
        "# Tratamento de Arquivos em Python\n",
        "\n",
        "Neste notebook, você aprenderá como **ler** e **escrever** arquivos em Python, trabalhando com diferentes formatos: **.txt**, **.csv** e **.json**. Esses formatos são muito comuns em programação, e saber manipulá-los é essencial.\n",
        "\n",
        "## O que vamos aprender?\n",
        "- Como abrir e fechar arquivos.\n",
        "- Ler e escrever arquivos de texto (.txt).\n",
        "- Manipular arquivos CSV (valores separados por vírgula).\n",
        "- Trabalhar com arquivos JSON (formato usado para dados estruturados).\n",
        "\n",
        "Vamos começar!"
      ]
    },
    {
      "cell_type": "markdown",
      "metadata": {},
      "source": [
        "## 1. Arquivos de Texto (.txt)\n",
        "\n",
        "Arquivos `.txt` são arquivos de texto simples. Vamos aprender a criar, escrever e ler esses arquivos.\n",
        "\n",
        "### Escrevendo em um arquivo .txt\n",
        "Usamos a função `open()` com o modo `'w'` (write) para escrever. O modo `'w'` cria um novo arquivo ou sobrescreve um existente."
      ]
    },
    {
      "cell_type": "code",
      "execution_count": null,
      "metadata": {},
      "outputs": [],
      "source": [
        "# Escrevendo em um arquivo .txt\n",
        "with open('meu_arquivo.txt', 'w') as arquivo:\n",
        "    arquivo.write('Olá, este é meu primeiro arquivo de texto!\\n')\n",
        "    arquivo.write('Escrevendo a segunda linha.')\n",
        "\n",
        "print('Arquivo criado com sucesso!')"
      ]
    },
    {
      "cell_type": "markdown",
      "metadata": {},
      "source": [
        "**Explicação:**\n",
        "- `with open('meu_arquivo.txt', 'w') as arquivo`: Abre (ou cria) o arquivo `meu_arquivo.txt` no modo de escrita (`'w'`).\n",
        "- `arquivo.write()`: Escreve texto no arquivo.\n",
        "- `\\n`: Adiciona uma nova linha.\n",
        "- O bloco `with` fecha o arquivo automaticamente após a escrita.\n",
        "\n",
        "### Lendo um arquivo .txt\n",
        "Agora, vamos ler o arquivo que acabamos de criar. Usamos o modo `'r'` (read), que é o padrão."
      ]
    },
    {
      "cell_type": "code",
      "execution_count": null,
      "metadata": {},
      "outputs": [],
      "source": [
        "# Lendo um arquivo .txt\n",
        "with open('meu_arquivo.txt', 'r') as arquivo:\n",
        "    conteudo = arquivo.read()\n",
        "\n",
        "print('Conteúdo do arquivo:')\n",
        "print(conteudo)"
      ]
    },
    {
      "cell_type": "markdown",
      "metadata": {},
      "source": [
        "**Explicação:**\n",
        "- `arquivo.read()`: Lê todo o conteúdo do arquivo e armazena na variável `conteudo`.\n",
        "- Podemos também usar `arquivo.readlines()` para ler todas as linhas como uma lista.\n",
        "\n",
        "## 2. Arquivos CSV (.csv)\n",
        "\n",
        "Arquivos CSV são usados para armazenar dados em formato de tabela (linhas e colunas). Vamos usar a biblioteca `csv` para manipulá-los.\n",
        "\n",
        "### Escrevendo em um arquivo .csv\n",
        "Vamos criar um arquivo CSV com uma pequena tabela de dados."
      ]
    },
    {
      "cell_type": "code",
      "execution_count": null,
      "metadata": {},
      "outputs": [],
      "source": [
        "import csv\n",
        "\n",
        "# Escrevendo em um arquivo .csv\n",
        "with open('dados.csv', 'w', newline='') as arquivo:\n",
        "    escritor = csv.writer(arquivo)\n",
        "    # Escrevendo o cabeçalho\n",
        "    escritor.writerow(['Nome', 'Idade', 'Cidade'])\n",
        "    # Escrevendo linhas de dados\n",
        "    escritor.writerow(['Ana', 25, 'São Paulo'])\n",
        "    escritor.writerow(['João', 30, 'Rio de Janeiro'])\n",
        "\n",
        "print('Arquivo CSV criado com sucesso!')"
      ]
    },
    {
      "cell_type": "markdown",
      "metadata": {},
      "source": [
        "**Explicação:**\n",
        "- `import csv`: Importa a biblioteca para trabalhar com arquivos CSV.\n",
        "- `csv.writer(arquivo)`: Cria um objeto para escrever no arquivo.\n",
        "- `escritor.writerow()`: Escreve uma linha no arquivo, onde cada elemento da lista é uma coluna.\n",
        "\n",
        "### Lendo um arquivo .csv\n",
        "Vamos ler o arquivo CSV que criamos."
      ]
    },
    {
      "cell_type": "code",
      "execution_count": null,
      "metadata": {},
      "outputs": [],
      "source": [
        "# Lendo um arquivo .csv\n",
        "with open('dados.csv', 'r') as arquivo:\n",
        "    leitor = csv.reader(arquivo)\n",
        "    for linha in leitor:\n",
        "        print(linha)"
      ]
    },
    {
      "cell_type": "markdown",
      "metadata": {},
      "source": [
        "**Explicação:**\n",
        "- `csv.reader(arquivo)`: Cria um objeto para ler o arquivo.\n",
        "- Cada `linha` é uma lista contendo os valores das colunas.\n",
        "\n",
        "## 3. Arquivos JSON (.json)\n",
        "\n",
        "Arquivos JSON são usados para armazenar dados estruturados, como dicionários ou listas. Vamos usar a biblioteca `json`.\n",
        "\n",
        "### Escrevendo em um arquivo .json\n",
        "Vamos criar um arquivo JSON com um dicionário."
      ]
    },
    {
      "cell_type": "code",
      "execution_count": null,
      "metadata": {},
      "outputs": [],
      "source": [
        "import json\n",
        "\n",
        "# Dados para salvar\n",
        "dados = {\n",
        "    'nome': 'Maria',\n",
        "    'idade': 28,\n",
        "    'cidades': ['Belo Horizonte', 'Curitiba']\n",
        "}\n",
        "\n",
        "# Escrevendo em um arquivo .json\n",
        "with open('dados.json', 'w') as arquivo:\n",
        "    json.dump(dados, arquivo, indent=4)\n",
        "\n",
        "print('Arquivo JSON criado com sucesso!')"
      ]
    },
    {
      "cell_type": "markdown",
      "metadata": {},
      "source": [
        "**Explicação:**\n",
        "- `import json`: Importa a biblioteca para trabalhar com JSON.\n",
        "- `json.dump(dados, arquivo, indent=4)`: Salva o dicionário no arquivo com formatação (o `indent=4` deixa o JSON mais legível).\n",
        "\n",
        "### Lendo um arquivo .json\n",
        "Vamos ler o arquivo JSON que criamos."
      ]
    },
    {
      "cell_type": "code",
      "execution_count": null,
      "metadata": {},
      "outputs": [],
      "source": [
        "# Lendo um arquivo .json\n",
        "with open('dados.json', 'r') as arquivo:\n",
        "    dados_lidos = json.load(arquivo)\n",
        "\n",
        "print('Dados lidos do JSON:')\n",
        "print(dados_lidos)\n",
        "print('Nome:', dados_lidos['nome'])"
      ]
    },
    {
      "cell_type": "markdown",
      "metadata": {},
      "source": [
        "**Explicação:**\n",
        "- `json.load(arquivo)`: Lê o arquivo JSON e converte para um objeto Python (geralmente um dicionário).\n",
        "- Podemos acessar os dados como faríamos com um dicionário.\n",
        "\n",
        "## Conclusão\n",
        "\n",
        "Neste notebook, você aprendeu a manipular arquivos em Python:\n",
        "- Arquivos `.txt`: Para textos simples.\n",
        "- Arquivos `.csv`: Para dados tabulares.\n",
        "- Arquivos `.json`: Para dados estruturados.\n",
        "\n",
        "Pratique criando seus próprios arquivos e experimentando com diferentes dados!"
      ]
    }
  ],
  "metadata": {
    "kernelspec": {
      "display_name": "Python 3",
      "language": "python",
      "name": "python3"
    },
    "language_info": {
      "codemirror_mode": {
        "name": "ipython",
        "version": 3
      },
      "file_extension": ".py",
      "mimetype": "text/x-python",
      "name": "python",
      "nbconvert_exporter": "python",
      "pygments_lexer": "ipython3",
      "version": "3.8.5"
    }
  },
  "nbformat": 4,
  "nbformat_minor": 4
}