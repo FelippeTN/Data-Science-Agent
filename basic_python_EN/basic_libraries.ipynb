{
  "cells": [
    {
      "cell_type": "markdown",
      "metadata": {},
      "source": [
        "# Basic Libraries in Python\n",
        "\n",
        "In this notebook, you will learn how to use some of Python's basic libraries that are very useful for various tasks: **math**, **random**, **datetime**, **itertools**, and **collections**. These libraries come pre-installed with Python, so you don’t need to install anything extra!\n",
        "\n",
        "## What Will We Learn?\n",
        "- **math**: Mathematical functions like square root, sine, cosine, and constants like π.\n",
        "- **random**: Generate random numbers and make random choices.\n",
        "- **datetime**: Work with dates and times.\n",
        "- **itertools**: Tools for creating and manipulating iterables efficiently.\n",
        "- **collections**: Advanced data structures like counters and dictionaries with default values.\n",
        "\n",
        "Let’s explore each one with practical examples!"
      ]
    },
    {
      "cell_type": "markdown",
      "metadata": {},
      "source": [
        "## 1. The `math` Library\n",
        "\n",
        "The `math` library provides mathematical functions and useful constants, such as π (pi) and e (Euler’s number). Let’s see some examples.\n",
        "\n",
        "### Examples with `math`\n",
        "- Calculate the square root.\n",
        "- Use trigonometric functions (sine and cosine).\n",
        "- Round numbers."
      ]
    },
    {
      "cell_type": "code",
      "execution_count": null,
      "metadata": {},
      "outputs": [],
      "source": [
        "import math\n",
        "\n",
        "# Square root of 16\n",
        "root = math.sqrt(16)\n",
        "print('Square root of 16:', root)\n",
        "\n",
        "# Value of pi\n",
        "print('Value of π:', math.pi)\n",
        "\n",
        "# Sine of 90 degrees (we need to convert degrees to radians)\n",
        "angle_degrees = 90\n",
        "angle_radians = math.radians(angle_degrees)\n",
        "sine = math.sin(angle_radians)\n",
        "print('Sine of 90 degrees:', sine)\n",
        "\n",
        "# Rounding up and down\n",
        "number = 4.7\n",
        "print('Round 4.7 up:', math.ceil(number))\n",
        "print('Round 4.7 down:', math.floor(number))"
      ]
    },
    {
      "cell_type": "markdown",
      "metadata": {},
      "source": [
        "**Explanation:**\n",
        "- `math.sqrt()`: Calculates the square root.\n",
        "- `math.pi`: Constant representing π (approximately 3.14).\n",
        "- `math.radians()`: Converts degrees to radians, necessary for functions like `sin()` and `cos()`.\n",
        "- `math.ceil()`: Rounds up.\n",
        "- `math.floor()`: Rounds down.\n",
        "\n",
        "## 2. The `random` Library\n",
        "\n",
        "The `random` library is used to generate random numbers or make random choices. It’s very useful for simulations or games.\n",
        "\n",
        "### Examples with `random`\n",
        "- Generate random numbers.\n",
        "- Choose a random item from a list."
      ]
    },
    {
      "cell_type": "code",
      "execution_count": null,
      "metadata": {},
      "outputs": [],
      "source": [
        "import random\n",
        "\n",
        "# Random number between 0 and 1\n",
        "random_number = random.random()\n",
        "print('Random number between 0 and 1:', random_number)\n",
        "\n",
        "# Random integer between 1 and 10\n",
        "random_integer = random.randint(1, 10)\n",
        "print('Random integer between 1 and 10:', random_integer)\n",
        "\n",
        "# Choose a random item from a list\n",
        "fruits = ['apple', 'banana', 'orange', 'grape']\n",
        "random_fruit = random.choice(fruits)\n",
        "print('Randomly chosen fruit:', random_fruit)\n",
        "\n",
        "# Shuffle a list\n",
        "random.shuffle(fruits)\n",
        "print('Shuffled fruit list:', fruits)"
      ]
    },
    {
      "cell_type": "markdown",
      "metadata": {},
      "source": [
        "**Explanation:**\n",
        "- `random.random()`: Generates a decimal number between 0 and 1.\n",
        "- `random.randint(a, b)`: Generates an integer between `a` and `b` (inclusive).\n",
        "- `random.choice()`: Picks a random item from a list.\n",
        "- `random.shuffle()`: Shuffles the items in a list.\n",
        "\n",
        "## 3. The `datetime` Library\n",
        "\n",
        "The `datetime` library allows you to work with dates and times. It’s useful for logging events or calculating time differences.\n",
        "\n",
        "### Examples with `datetime`\n",
        "- Get the current date.\n",
        "- Calculate the difference between dates."
      ]
    },
    {
      "cell_type": "code",
      "execution_count": null,
      "metadata": {},
      "outputs": [],
      "source": [
        "from datetime import datetime, timedelta\n",
        "\n",
        "# Current date and time\n",
        "now = datetime.now()\n",
        "print('Current date and time:', now)\n",
        "\n",
        "# Formatting the date\n",
        "formatted_date = now.strftime('%d/%m/%Y %H:%M:%S')\n",
        "print('Formatted date:', formatted_date)\n",
        "\n",
        "# Calculating a future date (today + 5 days)\n",
        "future_date = now + timedelta(days=5)\n",
        "print('Five days from now:', future_date.strftime('%d/%m/%Y'))\n",
        "\n",
        "# Difference between dates\n",
        "birth_date = datetime(2000, 1, 1)\n",
        "difference = now - birth_date\n",
        "print('Days since 01/01/2000:', difference.days)"
      ]
    },
    {
      "cell_type": "markdown",
      "metadata": {},
      "source": [
        "**Explanation:**\n",
        "- `datetime.now()`: Returns the current date and time.\n",
        "- `strftime()`: Formats the date/time as a string (e.g., `%d/%m/%Y` for day/month/year).\n",
        "- `timedelta`: Allows adding or subtracting time periods.\n",
        "- `difference.days`: Calculates the difference in days between two dates.\n",
        "\n",
        "## 4. The `itertools` Library\n",
        "\n",
        "The `itertools` library offers tools to work with iterables (like lists) efficiently.\n",
        "\n",
        "### Examples with `itertools`\n",
        "- Generate combinations.\n",
        "- Create an infinite counter."
      ]
    },
    {
      "cell_type": "code",
      "execution_count": null,
      "metadata": {},
      "outputs": [],
      "source": [
        "import itertools\n",
        "\n",
        "# Combinations of 2 elements from a list\n",
        "letters = ['A', 'B', 'C']\n",
        "combinations = list(itertools.combinations(letters, 2))\n",
        "print('Combinations of 2 letters:', combinations)\n",
        "\n",
        "# Infinite counter (we'll limit to 5 numbers)\n",
        "counter = itertools.count(start=1, step=2)\n",
        "for i, number in enumerate(counter):\n",
        "    print('Number:', number)\n",
        "    if i == 4:  # Stops after 5 numbers\n",
        "        break\n",
        "\n",
        "# Repeat an element\n",
        "repeated = list(itertools.repeat('Hi', 3))\n",
        "print('Repeating \"Hi\" 3 times:', repeated)"
      ]
    },
    {
      "cell_type": "markdown",
      "metadata": {},
      "source": [
        "**Explanation:**\n",
        "- `itertools.combinations()`: Generates all possible combinations of a specific number of elements.\n",
        "- `itertools.count()`: Creates an infinite counter (starting from `start` and incrementing by `step`).\n",
        "- `itertools.repeat()`: Repeats an element a specific number of times.\n",
        "\n",
        "## 5. The `collections` Library\n",
        "\n",
        "The `collections` library offers advanced data structures, such as counters and dictionaries with default values.\n",
        "\n",
        "### Examples with `collections`\n",
        "- Use `Counter` to count elements.\n",
        "- Use `defaultdict` to avoid errors in dictionaries."
      ]
    },
    {
      "cell_type": "code",
      "execution_count": null,
      "metadata": {},
      "outputs": [],
      "source": [
        "from collections import Counter, defaultdict\n",
        "\n",
        "# Counting elements with Counter\n",
        "animals = ['cat', 'dog', 'cat', 'bird', 'dog', 'cat']\n",
        "count = Counter(animals)\n",
        "print('Animal count:', count)\n",
        "print('How many cats?', count['cat'])\n",
        "\n",
        "# Using defaultdict\n",
        "dictionary = defaultdict(int)  # Default value is 0\n",
        "dictionary['nonexistent_key'] += 1\n",
        "print('Dictionary with default value:', dict(dictionary))"
      ]
    },
    {
      "cell_type": "markdown",
      "metadata": {},
      "source": [
        "**Explanation:**\n",
        "- `Counter`: Counts the frequency of elements in a list.\n",
        "- `defaultdict`: Creates a dictionary that assigns a default value (like `int`, which is 0) to nonexistent keys, avoiding errors.\n",
        "\n",
        "## Conclusion\n",
        "\n",
        "In this notebook, you learned how to use five basic Python libraries:\n",
        "- `math`: For mathematical calculations.\n",
        "- `random`: For generating randomness.\n",
        "- `datetime`: For working with dates and times.\n",
        "- `itertools`: For efficiently manipulating iterables.\n",
        "- `collections`: For advanced data structures.\n",
        "\n",
        "Try using these libraries in your own projects to practice!"
      ]
    }
  ],
  "metadata": {
    "kernelspec": {
      "display_name": "Python 3",
      "language": "python",
      "name": "python3"
    },
    "language_info": {
      "codemirror_mode": {
        "name": "ipython",
        "version": 3
      },
      "file_extension": ".py",
      "mimetype": "text/x-python",
      "name": "python",
      "nbconvert_exporter": "python",
      "pygments_lexer": "ipython3",
      "version": "3.8.5"
    }
  },
  "nbformat": 4,
  "nbformat_minor": 4
}