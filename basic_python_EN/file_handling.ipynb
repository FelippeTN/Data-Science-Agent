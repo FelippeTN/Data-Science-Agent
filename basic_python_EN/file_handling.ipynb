{
  "cells": [
    {
      "cell_type": "markdown",
      "metadata": {},
      "source": [
        "# File Handling in Python\n",
        "\n",
        "In this notebook, you will learn how to **read** and **write** files in Python, working with different formats: **.txt**, **.csv**, and **.json**. These formats are very common in programming, and knowing how to handle them is essential.\n",
        "\n",
        "## What Will We Learn?\n",
        "- How to open and close files.\n",
        "- Read and write text files (.txt).\n",
        "- Manipulate CSV files (comma-separated values).\n",
        "- Work with JSON files (a format used for structured data).\n",
        "\n",
        "Let's get started!"
      ]
    },
    {
      "cell_type": "markdown",
      "metadata": {},
      "source": [
        "## 1. Text Files (.txt)\n",
        "\n",
        "Text files (`.txt`) are simple text files. Let's learn how to create, write, and read these files.\n",
        "\n",
        "### Writing to a .txt File\n",
        "We use the `open()` function with the `'w'` mode (write) to write. The `'w'` mode creates a new file or overwrites an existing one."
      ]
    },
    {
      "cell_type": "code",
      "execution_count": null,
      "metadata": {},
      "outputs": [],
      "source": [
        "# Writing to a .txt file\n",
        "with open('my_file.txt', 'w') as file:\n",
        "    file.write('Hello, this is my first text file!\\n')\n",
        "    file.write('Writing the second line.')\n",
        "\n",
        "print('File created successfully!')"
      ]
    },
    {
      "cell_type": "markdown",
      "metadata": {},
      "source": [
        "**Explanation:**\n",
        "- `with open('my_file.txt', 'w') as file`: Opens (or creates) the file `my_file.txt` in write mode (`'w'`).\n",
        "- `file.write()`: Writes text to the file.\n",
        "- `\\n`: Adds a new line.\n",
        "- The `with` block automatically closes the file after writing.\n",
        "\n",
        "### Reading a .txt File\n",
        "Now, let's read the file we just created. We use the `'r'` mode (read), which is the default."
      ]
    },
    {
      "cell_type": "code",
      "execution_count": null,
      "metadata": {},
      "outputs": [],
      "source": [
        "# Reading a .txt file\n",
        "with open('my_file.txt', 'r') as file:\n",
        "    content = file.read()\n",
        "\n",
        "print('File content:')\n",
        "print(content)"
      ]
    },
    {
      "cell_type": "markdown",
      "metadata": {},
      "source": [
        "**Explanation:**\n",
        "- `file.read()`: Reads the entire content of the file and stores it in the `content` variable.\n",
        "- We can also use `file.readlines()` to read all lines as a list.\n",
        "\n",
        "## 2. CSV Files (.csv)\n",
        "\n",
        "CSV files are used to store data in a table format (rows and columns). We'll use the `csv` library to handle them.\n",
        "\n",
        "### Writing to a .csv File\n",
        "Let's create a CSV file with a small data table."
      ]
    },
    {
      "cell_type": "code",
      "execution_count": null,
      "metadata": {},
      "outputs": [],
      "source": [
        "import csv\n",
        "\n",
        "# Writing to a .csv file\n",
        "with open('data.csv', 'w', newline='') as file:\n",
        "    writer = csv.writer(file)\n",
        "    # Writing the header\n",
        "    writer.writerow(['Name', 'Age', 'City'])\n",
        "    # Writing data rows\n",
        "    writer.writerow(['Ana', 25, 'São Paulo'])\n",
        "    writer.writerow(['John', 30, 'Rio de Janeiro'])\n",
        "\n",
        "print('CSV file created successfully!')"
      ]
    },
    {
      "cell_type": "markdown",
      "metadata": {},
      "source": [
        "**Explanation:**\n",
        "- `import csv`: Imports the library to work with CSV files.\n",
        "- `csv.writer(file)`: Creates an object to write to the file.\n",
        "- `writer.writerow()`: Writes a row to the file, where each element in the list is a column.\n",
        "\n",
        "### Reading a .csv File\n",
        "Let's read the CSV file we created."
      ]
    },
    {
      "cell_type": "code",
      "execution_count": null,
      "metadata": {},
      "outputs": [],
      "source": [
        "# Reading a .csv file\n",
        "with open('data.csv', 'r') as file:\n",
        "    reader = csv.reader(file)\n",
        "    for row in reader:\n",
        "        print(row)"
      ]
    },
    {
      "cell_type": "markdown",
      "metadata": {},
      "source": [
        "**Explanation:**\n",
        "- `csv.reader(file)`: Creates an object to read the file.\n",
        "- Each `row` is a list containing the values of the columns.\n",
        "\n",
        "## 3. JSON Files (.json)\n",
        "\n",
        "JSON files are used to store structured data, such as dictionaries or lists. We'll use the `json` library.\n",
        "\n",
        "### Writing to a .json File\n",
        "Let's create a JSON file with a dictionary."
      ]
    },
    {
      "cell_type": "code",
      "execution_count": null,
      "metadata": {},
      "outputs": [],
      "source": [
        "import json\n",
        "\n",
        "# Data to save\n",
        "data = {\n",
        "    'name': 'Maria',\n",
        "    'age': 28,\n",
        "    'cities': ['Belo Horizonte', 'Curitiba']\n",
        "}\n",
        "\n",
        "# Writing to a .json file\n",
        "with open('data.json', 'w') as file:\n",
        "    json.dump(data, file, indent=4)\n",
        "\n",
        "print('JSON file created successfully!')"
      ]
    },
    {
      "cell_type": "markdown",
      "metadata": {},
      "source": [
        "**Explanation:**\n",
        "- `import json`: Imports the library to work with JSON.\n",
        "- `json.dump(data, file, indent=4)`: Saves the dictionary to the file with formatting (the `indent=4` makes the JSON more readable).\n",
        "\n",
        "### Reading a .json File\n",
        "Let's read the JSON file we created."
      ]
    },
    {
      "cell_type": "code",
      "execution_count": null,
      "metadata": {},
      "outputs": [],
      "source": [
        "# Reading a .json file\n",
        "with open('data.json', 'r') as file:\n",
        "    loaded_data = json.load(file)\n",
        "\n",
        "print('Data read from JSON:')\n",
        "print(loaded_data)\n",
        "print('Name:', loaded_data['name'])"
      ]
    },
    {
      "cell_type": "markdown",
      "metadata": {},
      "source": [
        "**Explanation:**\n",
        "- `json.load(file)`: Reads the JSON file and converts it to a Python object (usually a dictionary).\n",
        "- We can access the data as we would with a dictionary.\n",
        "\n",
        "## Conclusion\n",
        "\n",
        "In this notebook, you learned how to handle files in Python:\n",
        "- `.txt` files: For simple text.\n",
        "- `.csv` files: For tabular data.\n",
        "- `.json` files: For structured data.\n",
        "\n",
        "Practice by creating your own files and experimenting with different data!"
      ]
    }
  ],
  "metadata": {
    "kernelspec": {
      "display_name": "Python 3",
      "language": "python",
      "name": "python3"
    },
    "language_info": {
      "codemirror_mode": {
        "name": "ipython",
        "version": 3
      },
      "file_extension": ".py",
      "mimetype": "text/x-python",
      "name": "python",
      "nbconvert_exporter": "python",
      "pygments_lexer": "ipython3",
      "version": "3.8.5"
    }
  },
  "nbformat": 4,
  "nbformat_minor": 4
}