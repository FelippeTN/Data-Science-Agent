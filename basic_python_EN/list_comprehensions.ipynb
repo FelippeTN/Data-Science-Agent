{
  "cells": [
    {
      "cell_type": "markdown",
      "metadata": {},
      "source": [
        "# List Comprehensions and Generator Expressions in Python\n",
        "\n",
        "In this notebook, we will explore two powerful concepts in Python: **list comprehensions** and **generator expressions**. These are tools that help you write cleaner and more efficient code, especially when working with lists or large datasets.\n",
        "\n",
        "## What Will We Learn?\n",
        "- What **list comprehensions** are and how to use them to create lists quickly.\n",
        "- How to use **list comprehensions** with conditions.\n",
        "- What **generator expressions** are and how they save memory.\n",
        "- The differences between list comprehensions and generator expressions.\n",
        "\n",
        "These concepts are very useful in data science, automation, and data manipulation. Let’s get started!"
      ]
    },
    {
      "cell_type": "markdown",
      "metadata": {},
      "source": [
        "## 1. What Are List Comprehensions?\n",
        "\n",
        "A **list comprehension** is a concise way to create a list in Python. Instead of using a traditional `for` loop, you can write everything in a single line. This makes the code cleaner and easier to read.\n",
        "\n",
        "### Basic Structure\n",
        "The syntax of a list comprehension is:\n",
        "\n",
        "```python\n",
        "[expression for item in iterable]\n",
        "```\n",
        "\n",
        "- `expression`: What you want each element of the list to be.\n",
        "- `item`: The variable representing each element of the iterable.\n",
        "- `iterable`: A collection of data, such as a list, tuple, or range (`range`).\n",
        "\n",
        "Let’s look at a simple example!"
      ]
    },
    {
      "cell_type": "code",
      "execution_count": null,
      "metadata": {},
      "outputs": [],
      "source": [
        "# Example 1: Create a list with the squares of numbers from 0 to 4\n",
        "# Traditional way with a for loop\n",
        "squares = []\n",
        "for number in range(5):\n",
        "    squares.append(number ** 2)\n",
        "print('Using a for loop:', squares)\n",
        "\n",
        "# Now using list comprehension\n",
        "squares_comp = [number ** 2 for number in range(5)]\n",
        "print('Using list comprehension:', squares_comp)"
      ]
    },
    {
      "cell_type": "markdown",
      "metadata": {},
      "source": [
        "**Explanation:**\n",
        "- In the first example, we used a traditional `for` loop to create a list with the squares of numbers.\n",
        "- In the second example, we used a list comprehension: `[number ** 2 for number in range(5)]`.\n",
        "- The result is the same, but the list comprehension is more concise and elegant.\n",
        "\n",
        "### List Comprehensions with Conditions\n",
        "You can add conditions to filter the elements that go into the list. The syntax becomes:\n",
        "\n",
        "```python\n",
        "[expression for item in iterable if condition]\n",
        "```\n",
        "\n",
        "Let’s create a list with only even numbers."
      ]
    },
    {
      "cell_type": "code",
      "execution_count": null,
      "metadata": {},
      "outputs": [],
      "source": [
        "# Example 2: List only even numbers from 0 to 9\n",
        "evens = [number for number in range(10) if number % 2 == 0]\n",
        "print('Even numbers:', evens)"
      ]
    },
    {
      "cell_type": "markdown",
      "metadata": {},
      "source": [
        "**Explanation:**\n",
        "- `if number % 2 == 0`: Only includes the number in the list if it is even (i.e., if the remainder of division by 2 is 0).\n",
        "- This is equivalent to a `for` loop with an `if` condition, but in a single line.\n",
        "\n",
        "### Nested List Comprehensions\n",
        "You can use list comprehensions inside other list comprehensions (like nested loops). Let’s create a list of combinations."
      ]
    },
    {
      "cell_type": "code",
      "execution_count": null,
      "metadata": {},
      "outputs": [],
      "source": [
        "# Example 3: Create a list of combinations of letters and numbers\n",
        "letters = ['A', 'B']\n",
        "numbers = [1, 2]\n",
        "combinations = [letter + str(number) for letter in letters for number in numbers]\n",
        "print('Combinations:', combinations)"
      ]
    },
    {
      "cell_type": "markdown",
      "metadata": {},
      "source": [
        "**Explanation:**\n",
        "- `[letter + str(number) for letter in letters for number in numbers]`:\n",
        "  - First loop: `for letter in letters` (iterates over the letters).\n",
        "  - Second loop: `for number in numbers` (iterates over the numbers for each letter).\n",
        "  - Result: Combines each letter with each number (e.g., 'A1', 'A2', 'B1', 'B2').\n",
        "\n",
        "## 2. What Are Generator Expressions?\n",
        "\n",
        "A **generator expression** is similar to a list comprehension, but instead of creating an entire list in memory, it generates elements one at a time, as needed. This saves memory, especially when working with large datasets.\n",
        "\n",
        "### Basic Structure\n",
        "The syntax is almost identical to a list comprehension, but we use parentheses `()` instead of square brackets `[]`:\n",
        "\n",
        "```python\n",
        "(expression for item in iterable)\n",
        "```\n",
        "\n",
        "Let’s compare it with the squares example."
      ]
    },
    {
      "cell_type": "code",
      "execution_count": null,
      "metadata": {},
      "outputs": [],
      "source": [
        "# Example 4: Generator expression for squares\n",
        "squares_gen = (number ** 2 for number in range(5))\n",
        "print('Generator expression:', squares_gen)\n",
        "\n",
        "# To see the values, we can iterate or convert to a list\n",
        "squares_list = list(squares_gen)\n",
        "print('Converted to list:', squares_list)"
      ]
    },
    {
      "cell_type": "markdown",
      "metadata": {},
      "source": [
        "**Explanation:**\n",
        "- `(number ** 2 for number in range(5))`: Creates a generator, not a list.\n",
        "- A generator only calculates values when you request them (e.g., by iterating or converting to a list).\n",
        "- Note that after converting to a list, the generator is \"exhausted\" and cannot be reused.\n",
        "\n",
        "### Generator Expressions with Conditions\n",
        "Just like with list comprehensions, you can add conditions to generator expressions."
      ]
    },
    {
      "cell_type": "code",
      "execution_count": null,
      "metadata": {},
      "outputs": [],
      "source": [
        "# Example 5: Generator expression for even numbers\n",
        "evens_gen = (number for number in range(10) if number % 2 == 0)\n",
        "print('Even numbers (generator):', list(evens_gen))"
      ]
    },
    {
      "cell_type": "markdown",
      "metadata": {},
      "source": [
        "**Explanation:**\n",
        "- The generator only includes even numbers, and the values are generated on demand.\n",
        "- We converted it to a list to view the results.\n",
        "\n",
        "## 3. Differences Between List Comprehensions and Generator Expressions\n",
        "\n",
        "Now that we’ve seen both concepts, let’s compare them:\n",
        "\n",
        "| **Aspect**           | **List Comprehension**            | **Generator Expression**         |\n",
        "|-----------------------|-----------------------------------|-----------------------------------|\n",
        "| Syntax               | Uses `[]` (square brackets)      | Uses `()` (parentheses)          |\n",
        "| Result               | Creates an entire list in memory | Generates values one at a time   |\n",
        "| Memory Usage         | Consumes more memory             | Saves memory                     |\n",
        "| Reusability          | Can be reused                    | Can only be used once            |\n",
        "\n",
        "### When to Use Each?\n",
        "- Use **list comprehensions** when you need a complete list and the data size is small.\n",
        "- Use **generator expressions** when working with large datasets or when you only need to iterate over the values once.\n",
        "\n",
        "Let’s see a practical example with large datasets."
      ]
    },
    {
      "cell_type": "code",
      "execution_count": null,
      "metadata": {},
      "outputs": [],
      "source": [
        "# Example 6: Summing large numbers with a generator expression\n",
        "# Let’s sum the squares of numbers from 0 to 999,999\n",
        "\n",
        "# Using list comprehension (consumes more memory)\n",
        "squares_list = [number ** 2 for number in range(1000000)]\n",
        "sum_list = sum(squares_list)\n",
        "print('Sum using list comprehension:', sum_list)\n",
        "\n",
        "# Using generator expression (saves memory)\n",
        "squares_gen = (number ** 2 for number in range(1000000))\n",
        "sum_gen = sum(squares_gen)\n",
        "print('Sum using generator expression:', sum_gen)"
      ]
    },
    {
      "cell_type": "markdown",
      "metadata": {},
      "source": [
        "**Explanation:**\n",
        "- In the list comprehension, all 1 million squares are stored in memory before calculating the sum.\n",
        "- In the generator expression, the squares are generated one at a time and summed directly, using much less memory.\n",
        "- The result is the same, but the generator is more efficient for large datasets.\n",
        "\n",
        "## 4. Practice: A Data Science Example\n",
        "\n",
        "Let’s use list comprehensions and generator expressions to filter and process data. Imagine we have a list of temperatures and want to find the temperatures above 25°C."
      ]
    },
    {
      "cell_type": "code",
      "execution_count": null,
      "metadata": {},
      "outputs": [],
      "source": [
        "# Example 7: Filtering temperatures\n",
        "temperatures = [22, 27, 19, 30, 25, 28, 23]\n",
        "\n",
        "# Using list comprehension\n",
        "high_temps_list = [temp for temp in temperatures if temp > 25]\n",
        "print('Temperatures above 25°C (list):', high_temps_list)\n",
        "\n",
        "# Using generator expression\n",
        "high_temps_gen = (temp for temp in temperatures if temp > 25)\n",
        "print('Temperatures above 25°C (generator):', list(high_temps_gen))"
      ]
    },
    {
      "cell_type": "markdown",
      "metadata": {},
      "source": [
        "**Explanation:**\n",
        "- We filtered temperatures greater than 25°C using both approaches.\n",
        "- The list comprehension creates the entire list at once.\n",
        "- The generator expression generates the values on demand, which would be more efficient if the list of temperatures were much larger.\n",
        "\n",
        "## Conclusion\n",
        "\n",
        "In this notebook, you learned:\n",
        "- How to use **list comprehensions** to create lists concisely and with conditions.\n",
        "- How to use **generator expressions** to save memory when working with large datasets.\n",
        "- The differences between the two and when to use each.\n",
        "\n",
        "### Practice Tip\n",
        "- Try creating a list comprehension to convert a list of words to uppercase.\n",
        "- Use a generator expression to calculate the sum of odd numbers from 1 to 100.\n",
        "\n",
        "Keep practicing to master these powerful tools!"
      ]
    }
  ],
  "metadata": {
    "kernelspec": {
      "display_name": "Python 3",
      "language": "python",
      "name": "python3"
    },
    "language_info": {
      "codemirror_mode": {
        "name": "ipython",
        "version": 3
      },
      "file_extension": ".py",
      "mimetype": "text/x-python",
      "name": "python",
      "nbconvert_exporter": "python",
      "pygments_lexer": "ipython3",
      "version": "3.8.5"
    }
  },
  "nbformat": 4,
  "nbformat_minor": 4
}