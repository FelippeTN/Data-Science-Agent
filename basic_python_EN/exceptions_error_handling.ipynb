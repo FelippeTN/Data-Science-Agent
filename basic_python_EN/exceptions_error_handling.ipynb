{
  "cells": [
    {
      "cell_type": "markdown",
      "metadata": {},
      "source": [
        "# Exceptions and Error Handling in Python\n",
        "\n",
        "In this notebook, you will learn how to handle **errors** (or **exceptions**) in Python. Errors are common when programming, and knowing how to manage them is essential to create robust programs that don’t crash unexpectedly.\n",
        "\n",
        "## What Will We Learn?\n",
        "- What exceptions are and why they happen.\n",
        "- How to use `try` and `except` to catch and handle errors.\n",
        "- How to use `else` and `finally` for more control.\n",
        "- How to create your own custom exceptions.\n",
        "- Practical examples of error handling.\n",
        "\n",
        "Let’s get started!"
      ]
    },
    {
      "cell_type": "markdown",
      "metadata": {},
      "source": [
        "## 1. What Are Exceptions?\n",
        "\n",
        "An **exception** is an error that occurs during the execution of a program. When Python encounters an error it cannot resolve, it \"raises\" an exception, and the program stops unless you handle it.\n",
        "\n",
        "### Common Examples of Exceptions:\n",
        "- `ZeroDivisionError`: Trying to divide a number by zero.\n",
        "- `TypeError`: Trying to add incompatible types (e.g., a number and a string).\n",
        "- `FileNotFoundError`: Trying to open a file that doesn’t exist.\n",
        "\n",
        "Let’s see an example of an error."
      ]
    },
    {
      "cell_type": "code",
      "execution_count": null,
      "metadata": {},
      "outputs": [],
      "source": [
        "# Example 1: An unhandled error\n",
        "number = 10\n",
        "divisor = 0\n",
        "result = number / divisor  # This will cause an error!\n",
        "print(result)"
      ]
    },
    {
      "cell_type": "markdown",
      "metadata": {},
      "source": [
        "**Explanation:**\n",
        "- The code above tries to divide 10 by 0, which is impossible.\n",
        "- This raises a `ZeroDivisionError`, and the program stops.\n",
        "- To prevent the program from stopping, we can handle this error.\n",
        "\n",
        "## 2. Using `try` and `except` to Handle Exceptions\n",
        "\n",
        "The basic structure for handling exceptions in Python is:\n",
        "\n",
        "```python\n",
        "try:\n",
        "    # Code that might raise an error\n",
        "except ErrorName:\n",
        "    # What to do if the error occurs\n",
        "```\n",
        "\n",
        "Let’s rewrite the previous example with error handling."
      ]
    },
    {
      "cell_type": "code",
      "execution_count": null,
      "metadata": {},
      "outputs": [],
      "source": [
        "# Example 2: Handling a ZeroDivisionError\n",
        "number = 10\n",
        "divisor = 0\n",
        "\n",
        "try:\n",
        "    result = number / divisor\n",
        "    print('Result:', result)\n",
        "except ZeroDivisionError:\n",
        "    print('Error: Cannot divide by zero!')"
      ]
    },
    {
      "cell_type": "markdown",
      "metadata": {},
      "source": [
        "**Explanation:**\n",
        "- `try`: Inside this block, we place the code that might raise an error.\n",
        "- `except ZeroDivisionError`: If a `ZeroDivisionError` occurs, the code inside this block is executed.\n",
        "- The program doesn’t stop, and you can continue execution.\n",
        "\n",
        "### Handling Multiple Exceptions\n",
        "Sometimes, different errors can occur. We can handle multiple exceptions using more than one `except`."
      ]
    },
    {
      "cell_type": "code",
      "execution_count": null,
      "metadata": {},
      "outputs": [],
      "source": [
        "# Example 3: Handling multiple exceptions\n",
        "try:\n",
        "    number = int(input('Enter a number: '))\n",
        "    result = 100 / number\n",
        "    print('Result:', result)\n",
        "except ZeroDivisionError:\n",
        "    print('Error: Cannot divide by zero!')\n",
        "except ValueError:\n",
        "    print('Error: You must enter a valid number!')"
      ]
    },
    {
      "cell_type": "markdown",
      "metadata": {},
      "source": [
        "**Explanation:**\n",
        "- `ValueError`: Occurs if the user enters something that cannot be converted to a number (e.g., letters).\n",
        "- `ZeroDivisionError`: Occurs if the user enters 0.\n",
        "- Each type of error is handled specifically.\n",
        "\n",
        "## 3. Using `else` and `finally`\n",
        "\n",
        "In addition to `try` and `except`, you can use:\n",
        "- `else`: Runs code if no error occurs.\n",
        "- `finally`: Runs code always, regardless of errors.\n",
        "\n",
        "Let’s see an example."
      ]
    },
    {
      "cell_type": "code",
      "execution_count": null,
      "metadata": {},
      "outputs": [],
      "source": [
        "# Example 4: Using else and finally\n",
        "try:\n",
        "    file = open('data.txt', 'r')\n",
        "    content = file.read()\n",
        "except FileNotFoundError:\n",
        "    print('Error: File not found!')\n",
        "else:\n",
        "    print('File read successfully!')\n",
        "    print('Content:', content)\n",
        "finally:\n",
        "    print('Finishing...')\n",
        "    if 'file' in locals():\n",
        "        file.close()"
      ]
    },
    {
      "cell_type": "markdown",
      "metadata": {},
      "source": [
        "**Explanation:**\n",
        "- `try`: We try to open and read the file.\n",
        "- `except FileNotFoundError`: If the file doesn’t exist, we handle the error.\n",
        "- `else`: If no error occurs, we display the file’s content.\n",
        "- `finally`: This block always runs, even if there’s an error. Here, we ensure the file is closed.\n",
        "\n",
        "## 4. Creating Custom Exceptions\n",
        "\n",
        "You can create your own exceptions using the `raise` keyword. This is useful when you want to signal a specific error in your program.\n",
        "\n",
        "Let’s create an example where we check a person’s age."
      ]
    },
    {
      "cell_type": "code",
      "execution_count": null,
      "metadata": {},
      "outputs": [],
      "source": [
        "# Example 5: Creating and raising a custom exception\n",
        "def check_age(age):\n",
        "    if age < 0:\n",
        "        raise ValueError('Age cannot be negative!')\n",
        "    elif age < 18:\n",
        "        print('You are a minor.')\n",
        "    else:\n",
        "        print('You are an adult.')\n",
        "\n",
        "# Testing the function\n",
        "try:\n",
        "    check_age(-5)\n",
        "except ValueError as error:\n",
        "    print('Error:', error)"
      ]
    },
    {
      "cell_type": "markdown",
      "metadata": {},
      "source": [
        "**Explanation:**\n",
        "- `raise ValueError('Age cannot be negative!')`: Raises an exception with a custom message.\n",
        "- `except ValueError as error`: Catches the exception and displays the error message.\n",
        "- This helps make the code clearer and more specific about the errors that might occur.\n",
        "\n",
        "## 5. Practice: A Real-World Example\n",
        "\n",
        "Let’s create a small program that asks the user to input two numbers and divides one by the other, handling possible errors."
      ]
    },
    {
      "cell_type": "code",
      "execution_count": null,
      "metadata": {},
      "outputs": [],
      "source": [
        "# Example 6: Simple calculator with error handling\n",
        "def divide_numbers():\n",
        "    try:\n",
        "        num1 = float(input('Enter the first number: '))\n",
        "        num2 = float(input('Enter the second number: '))\n",
        "        result = num1 / num2\n",
        "    except ValueError:\n",
        "        print('Error: Enter only valid numbers!')\n",
        "    except ZeroDivisionError:\n",
        "        print('Error: Cannot divide by zero!')\n",
        "    else:\n",
        "        print(f'{num1} divided by {num2} equals {result}')\n",
        "    finally:\n",
        "        print('Calculation finished.')\n",
        "\n",
        "# Running the function\n",
        "divide_numbers()"
      ]
    },
    {
      "cell_type": "markdown",
      "metadata": {},
      "source": [
        "**Explanation:**\n",
        "- The program asks for two numbers and tries to divide them.\n",
        "- We handle `ValueError` (if the user enters something that isn’t a number) and `ZeroDivisionError` (if the second number is 0).\n",
        "- If no errors occur, we show the result in the `else` block.\n",
        "- The `finally` block always runs, indicating that the calculation is complete.\n",
        "\n",
        "## Conclusion\n",
        "\n",
        "In this notebook, you learned:\n",
        "- What exceptions are and why they occur.\n",
        "- How to use `try`, `except`, `else`, and `finally` to handle errors.\n",
        "- How to create and raise custom exceptions with `raise`.\n",
        "- A practical example of applying error handling in a program.\n",
        "\n",
        "### Practice Tip\n",
        "- Try creating a program that reads a file and handles possible errors (like file not found).\n",
        "- Create a function that checks if a number is positive and raises a custom exception if it isn’t.\n",
        "\n",
        "Keep practicing to become a master at error handling!"
      ]
    }
  ],
  "metadata": {
    "kernelspec": {
      "display_name": "Python 3",
      "language": "python",
      "name": "python3"
    },
    "language_info": {
      "codemirror_mode": {
        "name": "ipython",
        "version": 3
      },
      "file_extension": ".py",
      "mimetype": "text/x-python",
      "name": "python",
      "nbconvert_exporter": "python",
      "pygments_lexer": "ipython3",
      "version": "3.8.5"
    }
  },
  "nbformat": 4,
  "nbformat_minor": 4
}