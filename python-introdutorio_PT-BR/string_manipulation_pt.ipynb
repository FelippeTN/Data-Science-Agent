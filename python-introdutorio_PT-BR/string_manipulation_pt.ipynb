{
  "cells": [
    {
      "cell_type": "markdown",
      "metadata": {},
      "source": [
        "# Manipulação de Strings em Python para Ciência de Dados\n",
        "\n",
        "Strings são amplamente usadas em ciência de dados para limpar e processar dados textuais. Neste notebook, você aprenderá a manipular strings com métodos comuns e expressões regulares.\n",
        "\n",
        "## Objetivos\n",
        "- Aprender métodos de strings como `.strip()`, `.replace()`, `.split()`.\n",
        "- Usar expressões regulares básicas com o módulo `re`.\n",
        "- Aplicar manipulação de strings em um dataset real.\n"
      ]
    },
    {
      "cell_type": "markdown",
      "metadata": {},
      "source": [
        "## 1. Métodos Básicos de Strings\n",
        "Vamos explorar métodos comuns para manipular strings."
      ]
    },
    {
      "cell_type": "code",
      "execution_count": null,
      "metadata": {},
      "outputs": [],
      "source": [
        "# Exemplo: Limpando e formatando strings\n",
        "nome = \"  Sr. João Silva  \"\n",
        "print(\"Original:\", nome)\n",
        "\n",
        "# Remover espaços extras\n",
        "nome_limpo = nome.strip()\n",
        "print(\"Sem espaços:\", nome_limpo)\n",
        "\n",
        "# Substituir 'Sr.' por 'Senhor'\n",
        "nome_formatado = nome_limpo.replace(\"Sr.\", \"Senhor\")\n",
        "print(\"Formatado:\", nome_formatado)\n",
        "\n",
        "# Dividir em palavras\n",
        "palavras = nome_formatado.split()\n",
        "print(\"Palavras:\", palavras)"
      ]
    },
    {
      "cell_type": "markdown",
      "metadata": {},
      "source": [
        "## 2. Expressões Regulares\n",
        "O módulo `re` permite encontrar padrões em strings, como extrair títulos ou números."
      ]
    },
    {
      "cell_type": "code",
      "execution_count": null,
      "metadata": {},
      "outputs": [],
      "source": [
        "import re\n",
        "\n",
        "# Exemplo: Extraindo títulos de nomes\n",
        "nome = \"Mrs. Ana Maria Silva\"\n",
        "titulo = re.search(r'(Mr\\.|Mrs\\.|Miss\\.|Master\\.)', nome)\n",
        "if titulo:\n",
        "    print(\"Título encontrado:\", titulo.group())\n",
        "\n",
        "# Substituindo números por 'X'\n",
        "texto = \"Passageiro 123, cabine A456\"\n",
        "texto_mascarado = re.sub(r'\\d+', 'X', texto)\n",
        "print(\"Texto mascarado:\", texto_mascarado)"
      ]
    },
    {
      "cell_type": "markdown",
      "metadata": {},
      "source": [
        "## 3. Exemplo com Dataset Titanic\n",
        "Vamos limpar e processar a coluna 'Name' do dataset Titanic."
      ]
    },
    {
      "cell_type": "code",
      "execution_count": null,
      "metadata": {},
      "outputs": [],
      "source": [
        "import pandas as pd\n",
        "import re\n",
        "\n",
        "# Carregar dataset\n",
        "df = pd.read_csv('data/titanic.csv')\n",
        "\n",
        "# Função para extrair títulos\n",
        "def extrair_titulo(nome):\n",
        "    match = re.search(r'(Mr\\.|Mrs\\.|Miss\\.|Master\\.)', nome)\n",
        "    return match.group() if match else 'Outro'\n",
        "\n",
        "# Aplicar a função à coluna 'Name'\n",
        "df['Titulo'] = df['Name'].apply(extrair_titulo)\n",
        "print(\"Contagem de títulos:\")\n",
        "print(df['Titulo'].value_counts())\n",
        "\n",
        "# Limpar nomes (remover espaços extras)\n",
        "df['Name_Limpo'] = df['Name'].str.strip()\n",
        "print(\"\\nPrimeiros 5 nomes limpos:\")\n",
        "print(df['Name_Limpo'].head())"
      ]
    }
  ],
  "metadata": {
    "kernelspec": {
      "display_name": "base",
      "language": "python",
      "name": "python3"
    },
    "language_info": {
      "codemirror_mode": {
        "name": "ipython",
        "version": 3
      },
      "file_extension": ".py",
      "mimetype": "text/x-python",
      "name": "python",
      "nbconvert_exporter": "python",
      "pygments_lexer": "ipython3",
      "version": "3.12.7"
    }
  },
  "nbformat": 4,
  "nbformat_minor": 4
}
