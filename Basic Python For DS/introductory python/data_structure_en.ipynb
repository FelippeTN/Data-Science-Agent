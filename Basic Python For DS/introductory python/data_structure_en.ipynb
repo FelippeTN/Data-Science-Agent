{
    "cells": [
      {
        "cell_type": "markdown",
        "metadata": {},
        "source": [
          "# Data Structures in Python for Data Science\n",
          "\n",
          "Welcome to this interactive notebook on **data structures** in Python, designed for beginner and intermediate data scientists. Here, you will learn how to manipulate **lists**, **tuples**, **dictionaries**, and **sets**, which are fundamental for organizing, processing, and analyzing data in data science projects.\n",
          "\n",
          "## Objectives\n",
          "- Master the use of **lists** to store and manipulate sequential data.\n",
          "- Understand **dictionaries** for mapping and organizing structured data.\n",
          "- Explore **tuples** for immutable and fixed data.\n",
          "- Use **sets** for operations with unique elements and duplicate removal.\n",
          "- Apply visualizations with **matplotlib** to interpret data.\n",
          "- Solve practical exercises to reinforce learning.\n",
          "\n",
          "## Prerequisites\n",
          "- Basic knowledge of Python (variables, loops, conditionals).\n",
          "- Familiarity with Jupyter Notebooks.\n",
          "- Required libraries: `matplotlib` (for visualizations).\n",
          "\n",
          "We will work with a fictional dataset of ages and professions to contextualize the examples!"
        ]
      },
      {
        "cell_type": "markdown",
        "metadata": {},
        "source": [
          "## 1. Lists\n",
          "Lists are **ordered** and **mutable** collections, perfect for storing sequences of data such as ages, prices, or experiment results. They support operations like addition, removal, and sorting of elements.\n",
          "\n",
          "### Characteristics\n",
          "- Defined with square brackets `[]`.\n",
          "- Can contain elements of different types (numbers, strings, etc.).\n",
          "- Useful methods: `append()`, `remove()`, `sort()`, `pop()`.\n",
          "\n",
          "Let's create a list of ages and perform common operations."
        ]
      },
      {
        "cell_type": "code",
        "execution_count": null,
        "metadata": {},
        "outputs": [],
        "source": [
          "# Example 1: Manipulating a list of ages\n",
          "ages = [22, 35, 28, 19, 22, 40]\n",
          "print(\"List of ages:\", ages)\n",
          "\n",
          "# Adding a new age\n",
          "ages.append(45)\n",
          "print(\"After adding 45:\", ages)\n",
          "\n",
          "# Removing an element\n",
          "ages.remove(22)  # Removes the first occurrence of 22\n",
          "print(\"After removing one 22:\", ages)\n",
          "\n",
          "# Calculating the average\n",
          "average_age = sum(ages) / len(ages)\n",
          "print(f\"Average age: {average_age:.2f}\")\n",
          "\n",
          "# Sorting the list\n",
          "ages.sort()\n",
          "print(\"Sorted ages:\", ages)"
        ]
      },
      {
        "cell_type": "markdown",
        "metadata": {},
        "source": [
          "### Visualizing Lists\n",
          "Let's use `matplotlib` to create a histogram of the ages, making it easier to visualize the distribution."
        ]
      },
      {
        "cell_type": "code",
        "execution_count": null,
        "metadata": {},
        "outputs": [],
        "source": [
          "import matplotlib.pyplot as plt\n",
          "\n",
          "# Histogram of ages\n",
          "plt.figure(figsize=(8, 6))\n",
          "plt.hist(ages, bins=5, edgecolor='black', color='skyblue')\n",
          "plt.title('Age Distribution')\n",
          "plt.xlabel('Age')\n",
          "plt.ylabel('Frequency')\n",
          "plt.grid(True, alpha=0.3)\n"
        ]
      },
      {
        "cell_type": "markdown",
        "metadata": {},
        "source": [
          "## 2. Dictionaries\n",
          "Dictionaries are **mutable** structures that map **keys** to **values**. They are ideal for organizing structured data such as counts, configurations, or records.\n",
          "\n",
          "### Characteristics\n",
          "- Defined with curly braces `{}`.\n",
          "- Keys must be unique and immutable (strings, numbers, tuples).\n",
          "- Values can be of any type.\n",
          "\n",
          "Let's create a dictionary to count ages by age group and another to map professions."
        ]
      },
      {
        "cell_type": "code",
        "execution_count": null,
        "metadata": {},
        "outputs": [],
        "source": [
          "# Example 1: Counting by age group\n",
          "age_groups = {\n",
          "    \"18-25\": 0,\n",
          "    \"26-35\": 0,\n",
          "    \"36+\": 0\n",
          "}\n",
          "\n",
          "for age in ages:\n",
          "    if 18 <= age <= 25:\n",
          "        age_groups[\"18-25\"] += 1\n",
          "    elif 26 <= age <= 35:\n",
          "        age_groups[\"26-35\"] += 1\n",
          "    else:\n",
          "        age_groups[\"36+\"] += 1\n",
          "\n",
          "print(\"Count by age group:\", age_groups)\n",
          "\n",
          "# Example 2: Mapping professions\n",
          "people = {\n",
          "    \"Alice\": {\"age\": 22, \"profession\": \"Engineer\"},\n",
          "    \"Bob\": {\"age\": 35, \"profession\": \"Data Analyst\"},\n",
          "    \"Clara\": {\"age\": 28, \"profession\": \"Scientist\"}\n",
          "}\n",
          "\n",
          "print(\"Bob's profession:\", people[\"Bob\"][\"profession\"])\n",
          "\n",
          "# Adding a new person\n",
          "people[\"David\"] = {\"age\": 40, \"profession\": \"Manager\"}\n",
          "print(\"After adding David:\", people)"
        ]
      },
      {
        "cell_type": "markdown",
        "metadata": {},
        "source": [
          "### Visualizing Dictionaries\n",
          "Let's create a bar chart to visualize the count by age group."
        ]
      },
      {
        "cell_type": "code",
        "execution_count": null,
        "metadata": {},
        "outputs": [],
        "source": [
          "# Bar chart\n",
          "plt.figure(figsize=(8, 6))\n",
          "plt.bar(age_groups.keys(), age_groups.values(), color='lightgreen', edgecolor='black')\n",
          "plt.title('Count by Age Group')\n",
          "plt.xlabel('Age Group')\n",
          "plt.ylabel('Number of People')\n",
          "plt.grid(True, alpha=0.3)\n"
        ]
      },
      {
        "cell_type": "markdown",
        "metadata": {},
        "source": [
          "## 3. Tuples\n",
          "Tuples are **ordered** and **immutable** collections, useful for data that should not be changed, such as coordinates, categories, or fixed configurations.\n",
          "\n",
          "### Characteristics\n",
          "- Defined with parentheses `()`.\n",
          "- Support indexing and slicing, like lists.\n",
          "- Immutable: cannot be modified after creation.\n",
          "\n",
          "Let's use tuples for age categories and coordinates."
        ]
      },
      {
        "cell_type": "code",
        "execution_count": null,
        "metadata": {},
        "outputs": [],
        "source": [
          "# Example 1: Tuple of categories\n",
          "categories = (\"Young\", \"Adult\", \"Elderly\")\n",
          "print(\"Categories:\", categories)\n",
          "print(\"First category:\", categories[0])\n",
          "\n",
          "# Example 2: Tuple for coordinates\n",
          "location = (40.7128, -74.0060)  # Latitude and longitude of New York\n",
          "print(\"Coordinates of New York:\", location)\n",
          "\n",
          "# Attempting to modify (will raise an error)\n",
          "try:\n",
          "    categories[0] = \"Teenager\"\n",
          "except TypeError as e:\n",
          "    print(\"Error when trying to modify the tuple:\", e)"
        ]
      },
      {
        "cell_type": "markdown",
        "metadata": {},
        "source": [
          "## 4. Sets\n",
          "Sets are **unordered** collections of **unique** elements, perfect for removing duplicates or performing set operations (union, intersection).\n",
          "\n",
          "### Characteristics\n",
          "- Defined with curly braces `{}` or `set()`.\n",
          "- Do not allow duplicates.\n",
          "- Support operations like `union()`, `intersection()`, `difference()`.\n",
          "\n",
          "Let's remove duplicates and perform set operations."
        ]
      },
      {
        "cell_type": "code",
        "execution_count": null,
        "metadata": {},
        "outputs": [],
        "source": [
          "# Example 1: Removing duplicates\n",
          "duplicate_ages = [22, 35, 22, 19, 35, 40]\n",
          "unique_ages = set(duplicate_ages)\n",
          "print(\"Unique ages:\", unique_ages)\n",
          "\n",
          "# Example 2: Set operations\n",
          "group1 = {\"Alice\", \"Bob\", \"Clara\"}\n",
          "group2 = {\"Bob\", \"David\", \"Emma\"}\n",
          "\n",
          "print(\"Union (members of both groups):\", group1.union(group2))\n",
          "print(\"Intersection (common members):\", group1.intersection(group2))\n",
          "print(\"Difference (members only in group1):\", group1.difference(group2))"
        ]
      },
      {
        "cell_type": "markdown",
        "metadata": {},
        "source": [
          "## 5. Practical Exercises\n",
          "Below are some exercises for you to practice using data structures. Try to solve them before checking the solutions.\n",
          "\n",
          "### Exercise 1: Age Filtering\n",
          "Create a list with ages greater than 30 from the `ages` list.\n",
          "\n",
          "### Exercise 2: Profession Count\n",
          "Using the `people` dictionary, create a new dictionary that counts how many people have each profession.\n",
          "\n",
          "### Exercise 3: Profession Sets\n",
          "Create two sets with professions from different departments and find the professions that appear in both."
        ]
      },
      {
        "cell_type": "code",
        "execution_count": null,
        "metadata": {},
        "outputs": [],
        "source": [
          "# Solution Exercise 1\n",
          "ages_above_30 = [age for age in ages if age > 30]\n",
          "print(\"Ages above 30:\", ages_above_30)\n",
          "\n",
          "# Solution Exercise 2\n",
          "profession_count = {}\n",
          "for person in people.values():\n",
          "    profession = person[\"profession\"]\n",
          "    profession_count[profession] = profession_count.get(profession, 0) + 1\n",
          "print(\"Profession count:\", profession_count)\n",
          "\n",
          "# Solution Exercise 3\n",
          "dept1 = {\"Engineer\", \"Data Analyst\", \"Designer\"}\n",
          "dept2 = {\"Data Analyst\", \"Manager\", \"Scientist\"}\n",
          "common_professions = dept1.intersection(dept2)\n",
          "print(\"Professions in both departments:\", common_professions)"
        ]
      },
      {
        "cell_type": "markdown",
        "metadata": {},
        "source": [
          "## 6. Conclusion\n",
          "In this notebook, you learned how to use **lists**, **dictionaries**, **tuples**, and **sets** in Python, applying them in practical data science examples. Additionally, we explored visualizations with `matplotlib` and solved exercises to reinforce learning.\n",
          "\n",
          "### Next Steps\n",
          "- Experiment with these structures on real datasets (e.g., CSV, JSON).\n",
          "- Dive deeper into libraries like `pandas` for advanced data manipulation.\n",
          "- Explore more complex operations, such as list comprehensions and nested dictionaries.\n",
          "\n",
          "Keep practicing and manipulating data to become a more confident data scientist!"
        ]
      },
      {
        "cell_type": "markdown",
        "metadata": {},
        "source": []
      }
    ],
    "metadata": {
      "kernelspec": {
        "display_name": "base",
        "language": "python",
        "name": "python3"
      },
      "language_info": {
        "codemirror_mode": {
          "name": "ipython",
          "version": 3
        },
        "file_extension": ".py",
        "mimetype": "text/x-python",
        "name": "python",
        "nbconvert_exporter": "python",
        "pygments_lexer": "ipython3",
        "version": "3.12.7"
      }
    },
    "nbformat": 4,
    "nbformat_minor": 4
  }