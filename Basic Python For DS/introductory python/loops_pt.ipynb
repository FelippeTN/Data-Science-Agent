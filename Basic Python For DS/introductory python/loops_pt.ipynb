{
  "cells": [
    {
      "cell_type": "markdown",
      "metadata": {},
      "source": [
        "# Loops For e While em Python para Ciência de Dados\n",
        "\n",
        "Loops **for** e **while** são ferramentas fundamentais em Python para automatizar tarefas repetitivas, como processar grandes conjuntos de dados, limpar informações ou realizar cálculos iterativos. Em ciência de dados, eles são amplamente usados para iterar sobre linhas de DataFrames, filtrar dados ou executar simulações. Este notebook explora o uso de loops com exemplos práticos, dicas de boas práticas e aplicações reais.\n",
        "\n",
        "## Objetivos\n",
        "- Compreender como usar loops **for** para iterar sobre listas, dicionários e DataFrames.\n",
        "- Aplicar loops **while** para processamentos baseados em condições dinâmicas.\n",
        "- Combinar loops com estruturas de dados comuns em ciência de dados.\n",
        "- Aprender boas práticas para evitar loops ineficientes e erros comuns.\n",
        "\n",
        "## Por que Loops são Importantes?\n",
        "Em ciência de dados, você frequentemente precisa processar milhares ou milhões de registros. Loops permitem automatizar tarefas como:\n",
        "- Categorizar dados (ex.: classificar clientes por faixa etária).\n",
        "- Filtrar informações (ex.: encontrar outliers em uma coluna).\n",
        "- Transformar dados (ex.: aplicar uma fórmula a cada linha).\n",
        "\n",
        "**Nota**: Embora loops sejam poderosos, em ciência de dados, operações vetorizadas (usando bibliotecas como NumPy ou Pandas) são geralmente mais eficientes para grandes datasets. Este notebook foca em loops para cenários onde eles são apropriados ou necessários."
      ]
    },
    {
      "cell_type": "markdown",
      "metadata": {},
      "source": [
        "## 1. Loop For\n",
        "O loop **for** é ideal para iterar sobre sequências, como listas, tuplas, dicionários ou linhas de um DataFrame. Ele executa um bloco de código para cada elemento da sequência, tornando-o perfeito para tarefas como categorização ou transformação de dados.\n",
        "\n",
        "### Características\n",
        "- **Sintaxe simples**: `for item in sequência:`.\n",
        "- **Iterável**: Pode percorrer qualquer objeto iterável (listas, strings, range, etc.).\n",
        "- **Uso comum**: Processar elementos de forma ordenada ou aplicar regras a cada item.\n",
        "\n",
        "Vamos ver um exemplo prático de categorização de idades, um caso comum em análise de dados demográficos."
      ]
    },
    {
      "cell_type": "code",
      "execution_count": null,
      "metadata": {},
      "outputs": [],
      "source": [
        "# Exemplo: Categorizando idades\n",
        "idades = [22, 35, 28, 19, 40]\n",
        "categorias = []\n",
        "\n",
        "for idade in idades:\n",
        "    if idade < 18:\n",
        "        categorias.append(\"Menor\")\n",
        "    elif idade <= 35:\n",
        "        categorias.append(\"Adulto Jovem\")\n",
        "    else:\n",
        "        categorias.append(\"Adulto\")\n",
        "\n",
        "print(\"Idades:\", idades)\n",
        "print(\"Categorias:\", categorias)"
      ]
    },
    {
      "cell_type": "markdown",
      "metadata": {},
      "source": [
        "### Explicação do Exemplo\n",
        "- **Lista de idades**: Representa uma coluna de dados, como em um dataset de clientes.\n",
        "- **Loop for**: Itera sobre cada idade, aplicando uma regra de categorização.\n",
        "- **Condições**: Usamos `if/elif/else` para classificar cada idade em uma categoria.\n",
        "- **Lista de categorias**: Armazena os resultados, que poderiam ser usados em análises posteriores (ex.: visualizações ou relatórios).\n",
        "\n",
        "### Dica de Boas Práticas\n",
        "- **Evite loops aninhados desnecessários**: Muitos loops aninhados podem tornar o código lento. Considere estruturas alternativas, como dicionários ou operações vetorizadas.\n",
        "- **Use list comprehensions quando possível**: Para tarefas simples, como a acima, você pode reescrever o loop como:\n",
        "  ```python\n",
        "  categorias = ['Menor' if idade < 18 else 'Adulto Jovem' if idade <= 35 else 'Adulto' for idade in idades]\n",
        "  ```\n",
        "  Isso é mais conciso e, em alguns casos, mais rápido.\n",
        "\n",
        "### Exemplo Adicional: Iterando com `range`\n",
        "Às vezes, você precisa iterar sobre índices. O método `range()` é útil para isso."
      ]
    },
    {
      "cell_type": "code",
      "execution_count": null,
      "metadata": {},
      "outputs": [],
      "source": [
        "# Exemplo: Calculando a soma cumulativa de idades\n",
        "idades = [22, 35, 28, 19, 40]\n",
        "soma_cumulativa = []\n",
        "soma = 0\n",
        "\n",
        "for i in range(len(idades)):\n",
        "    soma += idades[i]\n",
        "    soma_cumulativa.append(soma)\n",
        "\n",
        "print(\"Idades:\", idades)\n",
        "print(\"Soma cumulativa:\", soma_cumulativa)"
      ]
    },
    {
      "cell_type": "markdown",
      "metadata": {},
      "source": [
        "## 2. Loop While\n",
        "O loop **while** executa um bloco de código enquanto uma condição específica permanece verdadeira. Ele é útil quando o número de iterações não é conhecido заранее, como em buscas ou simulações.\n",
        "\n",
        "### Características\n",
        "- **Condição controlada**: Executa até que a condição seja falsa.\n",
        "- **Cuidado com loops infinitos**: Sempre garanta que a condição será eventualmente falsa.\n",
        "- **Uso comum**: Processar dados até atingir um limite ou encontrar um valor específico.\n",
        "\n",
        "Vamos ver um exemplo de busca em uma lista, simulando a procura por um valor atípico em um dataset."
      ]
    },
    {
      "cell_type": "code",
      "execution_count": null,
      "metadata": {},
      "outputs": [],
      "source": [
        "# Exemplo: Encontrando o primeiro passageiro com idade > 50\n",
        "idades = [22, 35, 55, 28, 19]\n",
        "i = 0\n",
        "\n",
        "while i < len(idades) and idades[i] <= 50:\n",
        "    i += 1\n",
        "\n",
        "if i < len(idades):\n",
        "    print(f\"Primeira idade > 50 encontrada: {idades[i]} na posição {i}\")\n",
        "else:\n",
        "    print(\"Nenhuma idade > 50 encontrada\")"
      ]
    },
    {
      "cell_type": "markdown",
      "metadata": {},
      "source": [
        "### Explicação do Exemplo\n",
        "- **Lista de idades**: Simula um dataset com informações de passageiros.\n",
        "- **Loop while**: Continua até encontrar uma idade maior que 50 ou atingir o fim da lista.\n",
        "- **Índice `i`**: Controla a posição atual na lista, permitindo acessar o elemento correspondente.\n",
        "- **Saída**: Informa se a condição foi atendida e, se sim, qual valor e posição foram encontrados.\n",
        "\n",
        "### Dica de Boas Práticas\n",
        "- **Evite loops infinitos**: Sempre inclua uma condição de parada clara (ex.: `i < len(idades)`).\n",
        "- **Use `break` para maior controle**: Se precisar sair do loop em uma condição específica, use `break`.\n",
        "- **Considere alternativas**: Para buscas simples, métodos como `index()` ou compreensões podem ser mais diretos.\n",
        "\n",
        "### Exemplo Adicional: Simulação com While\n",
        "Um caso comum em ciência de dados é simular processos até atingir um limite, como acumular valores até ultrapassar um threshold."
      ]
    },
    {
      "cell_type": "code",
      "execution_count": null,
      "metadata": {},
      "outputs": [],
      "source": [
        "# Exemplo: Acumulando idades até ultrapassar 100\n",
        "idades = [22, 35, 28, 19, 40]\n",
        "soma = 0\n",
        "i = 0\n",
        "\n",
        "while i < len(idades) and soma <= 100:\n",
        "    soma += idades[i]\n",
        "    i += 1\n",
        "\n",
        "print(f\"Soma acumulada: {soma} após {i} iterações\")"
      ]
    },
    {
      "cell_type": "markdown",
      "metadata": {},
      "source": [
        "## 3. Aplicações em Ciência de Dados\n",
        "Loops são frequentemente combinados com bibliotecas como Pandas e NumPy. Aqui está um exemplo de como usar um loop **for** com um DataFrame (introduziremos Pandas brevemente, mas o foco é no loop).\n",
        "\n",
        "### Exemplo: Categorizando Idades em um DataFrame"
      ]
    },
    {
      "cell_type": "code",
      "execution_count": null,
      "metadata": {},
      "outputs": [],
      "source": [
        "import pandas as pd\n",
        "\n",
        "# Criando um DataFrame simples\n",
        "data = pd.DataFrame({'Idade': [22, 35, 28, 19, 40]})\n",
        "\n",
        "# Adicionando uma coluna de categorias\n",
        "data['Categoria'] = ['Menor' if idade < 18 else 'Adulto Jovem' if idade <= 35 else 'Adulto' for idade in data['Idade']]\n",
        "\n",
        "print(data)"
      ]
    },
    {
      "cell_type": "markdown",
      "metadata": {},
      "source": [
        "### Explicação\n",
        "- **Pandas DataFrame**: Estrutura tabular comum em ciência de dados.\n",
        "- **List comprehension**: Substitui o loop explícito para maior eficiência, mas a lógica é a mesma.\n",
        "- **Aplicação**: A nova coluna pode ser usada em análises ou visualizações.\n",
        "\n",
        "## Conclusão\n",
        "Loops **for** e **while** são ferramentas poderosas para automação em ciência de dados. Embora operações vetorizadas sejam preferíveis para grandes datasets, loops são indispensáveis em cenários específicos, como processamentos condicionais ou simulações. Pratique com datasets reais e explore bibliotecas como Pandas para maximizar o potencial dos loops!"
      ]
    }
  ],
  "metadata": {
    "kernelspec": {
      "display_name": "base",
      "language": "python",
      "name": "python3"
    },
    "language_info": {
      "codemirror_mode": {
        "name": "ipython",
        "version": 3
      },
      "file_extension": ".py",
      "mimetype": "text/x-python",
      "name": "python",
      "nbconvert_exporter": "python",
      "pygments_lexer": "ipython3",
      "version": "3.12.7"
    }
  },
  "nbformat": 4,
  "nbformat_minor": 4
}
