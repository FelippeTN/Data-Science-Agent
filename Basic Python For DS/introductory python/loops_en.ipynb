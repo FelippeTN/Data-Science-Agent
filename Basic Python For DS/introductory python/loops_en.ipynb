{
  "cells": [
    {
      "cell_type": "markdown",
      "metadata": {},
      "source": [
        "# For and While Loops in Python for Data Science\n",
        "\n",
        "Loops **for** and **while** are fundamental tools in Python for automating repetitive tasks, such as processing large datasets, cleaning data, or performing iterative calculations. In data science, they are widely used to iterate over DataFrame rows, filter data, or run simulations. This notebook explores the use of loops with practical examples, best practice tips, and real-world applications.\n",
        "\n",
        "## Objectives\n",
        "- Understand how to use **for** loops to iterate over lists, dictionaries, and DataFrames.\n",
        "- Apply **while** loops for processing based on dynamic conditions.\n",
        "- Combine loops with common data structures in data science.\n",
        "- Learn best practices to avoid inefficient loops and common errors.\n",
        "\n",
        "## Why Are Loops Important?\n",
        "In data science, you often need to process thousands or millions of records. Loops allow you to automate tasks such as:\n",
        "- Categorizing data (e.g., classifying customers by age group).\n",
        "- Filtering information (e.g., finding outliers in a column).\n",
        "- Transforming data (e.g., applying a formula to each row).\n",
        "\n",
        "**Note**: While loops are powerful, in data science, vectorized operations (using libraries like NumPy or Pandas) are generally more efficient for large datasets. This notebook focuses on loops for scenarios where they are appropriate or necessary."
      ]
    },
    {
      "cell_type": "markdown",
      "metadata": {},
      "source": [
        "## 1. For Loop\n",
        "The **for** loop is ideal for iterating over sequences, such as lists, tuples, dictionaries, or DataFrame rows. It executes a block of code for each element in the sequence, making it perfect for tasks like categorization or data transformation.\n",
        "\n",
        "### Characteristics\n",
        "- **Simple syntax**: `for item in sequence:`.\n",
        "- **Iterable**: Can traverse any iterable object (lists, strings, range, etc.).\n",
        "- **Common use**: Processing elements in an ordered manner or applying rules to each item.\n",
        "\n",
        "Let’s see a practical example of age categorization, a common case in demographic data analysis."
      ]
    },
    {
      "cell_type": "code",
      "execution_count": null,
      "metadata": {},
      "outputs": [],
      "source": [
        "# Example: Categorizing ages\n",
        "ages = [22, 35, 28, 19, 40]\n",
        "categories = []\n",
        "\n",
        "for age in ages:\n",
        "    if age < 18:\n",
        "        categories.append(\"Minor\")\n",
        "    elif age <= 35:\n",
        "        categories.append(\"Young Adult\")\n",
        "    else:\n",
        "        categories.append(\"Adult\")\n",
        "\n",
        "print(\"Ages:\", ages)\n",
        "print(\"Categories:\", categories)"
      ]
    },
    {
      "cell_type": "markdown",
      "metadata": {},
      "source": [
        "### Example Explanation\n",
        "- **List of ages**: Represents a data column, such as in a customer dataset.\n",
        "- **For loop**: Iterates over each age, applying a categorization rule.\n",
        "- **Conditions**: Uses `if/elif/else` to classify each age into a category.\n",
        "- **List of categories**: Stores the results, which could be used for further analysis (e.g., visualizations or reports).\n",
        "\n",
        "### Best Practice Tips\n",
        "- **Avoid unnecessary nested loops**: Multiple nested loops can slow down your code. Consider alternative structures, such as dictionaries or vectorized operations.\n",
        "- **Use list comprehensions when possible**: For simple tasks like the one above, you can rewrite the loop as:\n",
        "  ```python\n",
        "  categories = ['Minor' if age < 18 else 'Young Adult' if age <= 35 else 'Adult' for age in ages]\n",
        "  ```\n",
        "  This is more concise and, in some cases, faster.\n",
        "\n",
        "### Additional Example: Iterating with `range`\n",
        "Sometimes, you need to iterate over indices. The `range()` method is useful for this."
      ]
    },
    {
      "cell_type": "code",
      "execution_count": null,
      "metadata": {},
      "outputs": [],
      "source": [
        "# Example: Calculating the cumulative sum of ages\n",
        "ages = [22, 35, 28, 19, 40]\n",
        "cumulative_sum = []\n",
        "total = 0\n",
        "\n",
        "for i in range(len(ages)):\n",
        "    total += ages[i]\n",
        "    cumulative_sum.append(total)\n",
        "\n",
        "print(\"Ages:\", ages)\n",
        "print(\"Cumulative sum:\", cumulative_sum)"
      ]
    },
    {
      "cell_type": "markdown",
      "metadata": {},
      "source": [
        "## 2. While Loop\n",
        "The **while** loop executes a block of code as long as a specific condition remains true. It is useful when the number of iterations is not known in advance, such as in searches or simulations.\n",
        "\n",
        "### Characteristics\n",
        "- **Condition-controlled**: Runs until the condition becomes false.\n",
        "- **Beware of infinite loops**: Always ensure the condition will eventually become false.\n",
        "- **Common use**: Processing data until a limit is reached or a specific value is found.\n",
        "\n",
        "Let’s see an example of searching a list, simulating the search for an outlier in a dataset."
      ]
    },
    {
      "cell_type": "code",
      "execution_count": null,
      "metadata": {},
      "outputs": [],
      "source": [
        "# Example: Finding the first passenger with age > 50\n",
        "ages = [22, 35, 55, 28, 19]\n",
        "i = 0\n",
        "\n",
        "while i < len(ages) and ages[i] <= 50:\n",
        "    i += 1\n",
        "\n",
        "if i < len(ages):\n",
        "    print(f\"First age > 50 found: {ages[i]} at position {i}\")\n",
        "else:\n",
        "    print(\"No age > 50 found\")"
      ]
    },
    {
      "cell_type": "markdown",
      "metadata": {},
      "source": [
        "### Example Explanation\n",
        "- **List of ages**: Simulates a dataset with passenger information.\n",
        "- **While loop**: Continues until an age greater than 50 is found or the end of the list is reached.\n",
        "- **Index `i`**: Tracks the current position in the list, allowing access to the corresponding element.\n",
        "- **Output**: Indicates whether the condition was met and, if so, which value and position were found.\n",
        "\n",
        "### Best Practice Tips\n",
        "- **Avoid infinite loops**: Always include a clear stopping condition (e.g., `i < len(ages)`).\n",
        "- **Use `break` for greater control**: If you need to exit the loop under a specific condition, use `break`.\n",
        "- **Consider alternatives**: For simple searches, methods like `index()` or comprehensions may be more straightforward.\n",
        "\n",
        "### Additional Example: Simulation with While\n",
        "A common case in data science is simulating processes until a threshold is exceeded, such as accumulating values until surpassing a limit."
      ]
    },
    {
      "cell_type": "code",
      "execution_count": null,
      "metadata": {},
      "outputs": [],
      "source": [
        "# Example: Accumulating ages until exceeding 100\n",
        "ages = [22, 35, 28, 19, 40]\n",
        "total = 0\n",
        "i = 0\n",
        "\n",
        "while i < len(ages) and total <= 100:\n",
        "    total += ages[i]\n",
        "    i += 1\n",
        "\n",
        "print(f\"Accumulated sum: {total} after {i} iterations\")"
      ]
    },
    {
      "cell_type": "markdown",
      "metadata": {},
      "source": [
        "## 3. Applications in Data Science\n",
        "Loops are often combined with libraries like Pandas and NumPy. Here’s an example of using a **for** loop with a DataFrame (we’ll briefly introduce Pandas, but the focus is on the loop).\n",
        "\n",
        "### Example: Categorizing Ages in a DataFrame"
      ]
    },
    {
      "cell_type": "code",
      "execution_count": null,
      "metadata": {},
      "outputs": [],
      "source": [
        "import pandas as pd\n",
        "\n",
        "# Creating a simple DataFrame\n",
        "data = pd.DataFrame({'Age': [22, 35, 28, 19, 40]})\n",
        "\n",
        "# Adding a category column\n",
        "data['Category'] = ['Minor' if age < 18 else 'Young Adult' if age <= 35 else 'Adult' for age in data['Age']]\n",
        "\n",
        "print(data)"
      ]
    },
    {
      "cell_type": "markdown",
      "metadata": {},
      "source": [
        "### Explanation\n",
        "- **Pandas DataFrame**: A common tabular structure in data science.\n",
        "- **List comprehension**: Replaces an explicit loop for greater efficiency, but the logic remains the same.\n",
        "- **Application**: The new column can be used for analysis or visualizations.\n",
        "\n",
        "## Conclusion\n",
        "Loops **for** and **while** are powerful tools for automation in data science. While vectorized operations are preferred for large datasets, loops are indispensable in specific scenarios, such as conditional processing or simulations. Practice with real datasets and explore libraries like Pandas to maximize the potential of loops!"
      ]
    }
  ],
  "metadata": {
    "kernelspec": {
      "display_name": "base",
      "language": "python",
      "name": "python3"
    },
    "language_info": {
      "codemirror_mode": {
        "name": "ipython",
        "version": 3
      },
      "file_extension": ".py",
      "mimetype": "text/x-python",
      "name": "python",
      "nbconvert_exporter": "python",
      "pygments_lexer": "ipython3",
      "version": "3.12.7"
    }
  },
  "nbformat": 4,
  "nbformat_minor": 4
}
