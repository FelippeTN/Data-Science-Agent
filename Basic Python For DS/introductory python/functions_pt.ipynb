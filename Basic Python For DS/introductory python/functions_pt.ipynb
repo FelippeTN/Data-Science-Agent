{
 "cells": [
  {
   "cell_type": "markdown",
   "metadata": {},
   "source": [
    "# Entendendo Funções em Python\n",
    "\n",
    "Neste notebook, vamos explorar como funcionam as **funções** em Python. Funções são blocos de código reutilizáveis que realizam uma tarefa específica. Elas ajudam a organizar o código, torná-lo mais legível e evitar repetições.\n",
    "\n",
    "## O que você vai aprender:\n",
    "- O que são funções e por que usá-las\n",
    "- Como definir e chamar funções\n",
    "- Parâmetros e argumentos\n",
    "- Retorno de valores\n",
    "- Funções com valores padrão e argumentos nomeados\n",
    "- Funções anônimas (lambda)\n",
    "- Escopo de variáveis"
   ]
  },
  {
   "cell_type": "markdown",
   "metadata": {},
   "source": [
    "## 1. O que é uma Função?\n",
    "\n",
    "Uma função é como uma receita: você define um conjunto de instruções e pode usá-las sempre que precisar. Em Python, funções são definidas com a palavra-chave `def`.\n",
    "\n",
    "**Sintaxe básica:**\n",
    "```python\n",
    "def nome_da_funcao():\n",
    "    # Bloco de código\n",
    "    print('Algo acontece aqui')\n",
    "```"
   ]
  },
  {
   "cell_type": "code",
   "execution_count": null,
   "metadata": {},
   "outputs": [],
   "source": [
    "# Exemplo simples de função\n",
    "def saudacao():\n",
    "    print('Olá, bem-vindo ao Python!')\n",
    "\n",
    "# Chamando a função\n",
    "saudacao()"
   ]
  },
  {
   "cell_type": "markdown",
   "metadata": {},
   "source": [
    "## 2. Parâmetros e Argumentos\n",
    "\n",
    "Funções podem receber **parâmetros**, que são variáveis usadas dentro da função. Quando você chama a função, você passa **argumentos** para esses parâmetros.\n",
    "\n",
    "**Exemplo:**"
   ]
  },
  {
   "cell_type": "code",
   "execution_count": null,
   "metadata": {},
   "outputs": [],
   "source": [
    "# Função com um parâmetro\n",
    "def saudacao_personalizada(nome):\n",
    "    print(f'Olá, {nome}!')\n",
    "\n",
    "# Chamando a função com diferentes argumentos\n",
    "saudacao_personalizada('Alice')\n",
    "saudacao_personalizada('Bob')"
   ]
  },
  {
   "cell_type": "markdown",
   "metadata": {},
   "source": [
    "Você também pode ter múltiplos parâmetros:"
   ]
  },
  {
   "cell_type": "code",
   "execution_count": null,
   "metadata": {},
   "outputs": [],
   "source": [
    "# Função com múltiplos parâmetros\n",
    "def apresentar_pessoa(nome, idade):\n",
    "    print(f'{nome} tem {idade} anos.')\n",
    "\n",
    "apresentar_pessoa('Carlos', 25)"
   ]
  },
  {
   "cell_type": "markdown",
   "metadata": {},
   "source": [
    "## 3. Retorno de Valores\n",
    "\n",
    "Funções podem **retornar** valores usando a palavra-chave `return`. Isso é útil quando você quer que a função produza um resultado que possa ser usado em outras partes do código."
   ]
  },
  {
   "cell_type": "code",
   "execution_count": null,
   "metadata": {},
   "outputs": [],
   "source": [
    "# Função que retorna um valor\n",
    "def somar(a, b):\n",
    "    return a + b\n",
    "\n",
    "# Usando o valor retornado\n",
    "resultado = somar(3, 5)\n",
    "print(f'O resultado da soma é: {resultado}')"
   ]
  },
  {
   "cell_type": "markdown",
   "metadata": {},
   "source": [
    "**Nota:** Após o `return`, a função termina sua execução. Qualquer código depois do `return` não será executado."
   ]
  },
  {
   "cell_type": "code",
   "execution_count": null,
   "metadata": {},
   "outputs": [],
   "source": [
    "# Exemplo com return interrompendo a função\n",
    "def verificar_par(numero):\n",
    "    if numero % 2 == 0:\n",
    "        return 'É par!'\n",
    "    return 'É ímpar!'\n",
    "\n",
    "print(verificar_par(4))\n",
    "print(verificar_par(7))"
   ]
  },
  {
   "cell_type": "markdown",
   "metadata": {},
   "source": [
    "## 4. Parâmetros com Valores Padrão\n",
    "\n",
    "Você pode definir valores padrão para parâmetros. Se o argumento não for passado, o valor padrão será usado."
   ]
  },
  {
   "cell_type": "code",
   "execution_count": null,
   "metadata": {},
   "outputs": [],
   "source": [
    "# Função com parâmetro padrão\n",
    "def cumprimentar(nome='Visitante'):\n",
    "    print(f'Olá, {nome}!')\n",
    "\n",
    "cumprimentar()          # Usa o valor padrão\n",
    "cumprimentar('Maria')   # Usa o argumento passado"
   ]
  },
  {
   "cell_type": "markdown",
   "metadata": {},
   "source": [
    "## 5. Argumentos Nomeados\n",
    "\n",
    "Você pode passar argumentos usando o nome dos parâmetros, o que permite especificá-los em qualquer ordem."
   ]
  },
  {
   "cell_type": "code",
   "execution_count": null,
   "metadata": {},
   "outputs": [],
   "source": [
    "# Função com argumentos nomeados\n",
    "def descrever_pessoa(nome, idade, cidade):\n",
    "    print(f'{nome}, {idade} anos, mora em {cidade}.')\n",
    "\n",
    "descrever_pessoa(cidade='São Paulo', nome='Ana', idade=30)"
   ]
  },
  {
   "cell_type": "markdown",
   "metadata": {},
   "source": [
    "## 6. Funções Anônimas (Lambda)\n",
    "\n",
    "Funções `lambda` são funções pequenas e anônimas definidas em uma única linha. Elas são úteis para operações rápidas."
   ]
  },
  {
   "cell_type": "code",
   "execution_count": null,
   "metadata": {},
   "outputs": [],
   "source": [
    "# Exemplo de função lambda\n",
    "dobro = lambda x: x * 2\n",
    "\n",
    "print(dobro(5))  # Saída: 10\n",
    "\n",
    "# Usando lambda com sorted\n",
    "numeros = [3, 1, 4, 2]\n",
    "ordenado = sorted(numeros, key=lambda x: x)\n",
    "print(ordenado)  # Saída: [1, 2, 3, 4]"
   ]
  },
  {
   "cell_type": "markdown",
   "metadata": {},
   "source": [
    "## 7. Escopo de Variáveis\n",
    "\n",
    "Variáveis definidas dentro de uma função têm **escopo local** e não podem ser acessadas fora dela. Variáveis fora da função têm **escopo global**."
   ]
  },
  {
   "cell_type": "code",
   "execution_count": null,
   "metadata": {},
   "outputs": [],
   "source": [
    "# Exemplo de escopo\n",
    "variavel_global = 'Eu sou global'\n",
    "\n",
    "def minha_funcao():\n",
    "    variavel_local = 'Eu sou local'\n",
    "    print(variavel_local)\n",
    "    print(variavel_global)\n",
    "\n",
    "minha_funcao()\n",
    "# print(variavel_local)  # Isso causaria um erro, pois variavel_local não existe fora da função"
   ]
  },
  {
   "cell_type": "markdown",
   "metadata": {},
   "source": [
    "## 8. Conclusão\n",
    "\n",
    "Funções são uma parte essencial da programação em Python. Elas permitem:\n",
    "- Reutilizar código\n",
    "- Organizar programas em blocos lógicos\n",
    "- Facilitar a manutenção e leitura do código\n",
    "\n",
    "Experimente criar suas próprias funções para resolver problemas específicos! Tente combinar parâmetros, retornos e escopos para entender melhor como tudo funciona."
   ]
  },
  {
   "cell_type": "markdown",
   "metadata": {},
   "source": [
    "## Exercício\n",
    "\n",
    "Crie uma função que calcule a área de um círculo dado o raio. A fórmula é: `área = π * raio²`. Use a constante `math.pi` do módulo `math`."
   ]
  },
  {
   "cell_type": "code",
   "execution_count": null,
   "metadata": {},
   "outputs": [],
   "source": [
    "import math\n",
    "\n",
    "def calcular_area_circulo(raio):\n",
    "    return math.pi * raio ** 2\n",
    "\n",
    "# Teste a função\n",
    "print(calcular_area_circulo(5))"
   ]
  }
 ],
 "metadata": {
  "kernelspec": {
   "display_name": "base",
   "language": "python",
   "name": "python3"
  },
  "language_info": {
   "codemirror_mode": {
    "name": "ipython",
    "version": 3
   },
   "file_extension": ".py",
   "mimetype": "text/x-python",
   "name": "python",
   "nbconvert_exporter": "python",
   "pygments_lexer": "ipython3",
   "version": "3.12.7"
  }
 },
 "nbformat": 4,
 "nbformat_minor": 4
}
