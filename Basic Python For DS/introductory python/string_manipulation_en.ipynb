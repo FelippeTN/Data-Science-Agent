{
  "cells": [
    {
      "cell_type": "markdown",
      "metadata": {},
      "source": [
        "# String Manipulation in Python for Data Science\n",
        "\n",
        "Strings are widely used in data science for cleaning and processing textual data. In this notebook, you will learn to manipulate strings using common methods and regular expressions.\n",
        "\n",
        "## Objectives\n",
        "- Learn string methods such as `.strip()`, `.replace()`, `.split()`.\n",
        "- Use basic regular expressions with the `re` module.\n",
        "- Apply string manipulation to a real dataset.\n"
      ]
    },
    {
      "cell_type": "markdown",
      "metadata": {},
      "source": [
        "## 1. Basic String Methods\n",
        "Let's explore common methods for manipulating strings."
      ]
    },
    {
      "cell_type": "code",
      "execution_count": null,
      "metadata": {},
      "outputs": [],
      "source": [
        "# Example: Cleaning and formatting strings\n",
        "name = \"  Mr. John Smith  \"\n",
        "print(\"Original:\", name)\n",
        "\n",
        "# Remove extra spaces\n",
        "clean_name = name.strip()\n",
        "print(\"Without spaces:\", clean_name)\n",
        "\n",
        "# Replace 'Mr.' with 'Mister'\n",
        "formatted_name = clean_name.replace(\"Mr.\", \"Mister\")\n",
        "print(\"Formatted:\", formatted_name)\n",
        "\n",
        "# Split into words\n",
        "words = formatted_name.split()\n",
        "print(\"Words:\", words)"
      ]
    },
    {
      "cell_type": "markdown",
      "metadata": {},
      "source": [
        "## 2. Regular Expressions\n",
        "The `re` module allows you to find patterns in strings, such as extracting titles or numbers."
      ]
    },
    {
      "cell_type": "code",
      "execution_count": null,
      "metadata": {},
      "outputs": [],
      "source": [
        "import re\n",
        "\n",
        "# Example: Extracting titles from names\n",
        "name = \"Mrs. Anna Maria Smith\"\n",
        "title = re.search(r'(Mr\\.|Mrs\\.|Miss\\.|Master\\.)', name)\n",
        "if title:\n",
        "    print(\"Title found:\", title.group())\n",
        "\n",
        "# Replacing numbers with 'X'\n",
        "text = \"Passenger 123, cabin A456\"\n",
        "masked_text = re.sub(r'\\d+', 'X', text)\n",
        "print(\"Masked text:\", masked_text)"
      ]
    },
    {
      "cell_type": "markdown",
      "metadata": {},
      "source": [
        "## 3. Example with Titanic Dataset\n",
        "Let's clean and process the 'Name' column of the Titanic dataset."
      ]
    },
    {
      "cell_type": "code",
      "execution_count": null,
      "metadata": {},
      "outputs": [],
      "source": [
        "import pandas as pd\n",
        "import re\n",
        "\n",
        "# Load dataset\n",
        "df = pd.read_csv('data/titanic.csv')\n",
        "\n",
        "# Function to extract titles\n",
        "def extract_title(name):\n",
        "    match = re.search(r'(Mr\\.|Mrs\\.|Miss\\.|Master\\.)', name)\n",
        "    return match.group() if match else 'Other'\n",
        "\n",
        "# Apply the function to the 'Name' column\n",
        "df['Title'] = df['Name'].apply(extract_title)\n",
        "print(\"Title counts:\")\n",
        "print(df['Title'].value_counts())\n",
        "\n",
        "# Clean names (remove extra spaces)\n",
        "df['Clean_Name'] = df['Name'].str.strip()\n",
        "print(\"\\nFirst 5 clean names:\")\n",
        "print(df['Clean_Name'].head())"
      ]
    }
  ],
  "metadata": {
    "kernelspec": {
      "display_name": "base",
      "language": "python",
      "name": "python3"
    },
    "language_info": {
      "codemirror_mode": {
        "name": "ipython",
        "version": 3
      },
      "file_extension": ".py",
      "mimetype": "text/x-python",
      "name": "python",
      "nbconvert_exporter": "python",
      "pygments_lexer": "ipython3",
      "version": "3.12.7"
    }
  },
  "nbformat": 4,
  "nbformat_minor": 4
}