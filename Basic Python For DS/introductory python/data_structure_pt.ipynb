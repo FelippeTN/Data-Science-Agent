{
  "cells": [
    {
      "cell_type": "markdown",
      "metadata": {},
      "source": [
        "# Estruturas de Dados em Python para Ciência de Dados\n",
        "\n",
        "Bem-vindo a este notebook interativo sobre **estruturas de dados** em Python, projetado para cientistas de dados iniciantes e intermediários. Aqui, você aprenderá a manipular **listas**, **tuplas**, **dicionários** e **sets**, que são fundamentais para organizar, processar e analisar dados em projetos de ciência de dados.\n",
        "\n",
        "## Objetivos\n",
        "- Dominar o uso de **listas** para armazenar e manipular dados sequenciais.\n",
        "- Entender **dicionários** para mapear e organizar dados estruturados.\n",
        "- Explorar **tuplas** para dados imutáveis e fixos.\n",
        "- Utilizar **sets** para operações com elementos únicos e remoção de duplicatas.\n",
        "- Aplicar visualizações com **matplotlib** para interpretar dados.\n",
        "- Resolver exercícios práticos para consolidar o aprendizado.\n",
        "\n",
        "## Pré-requisitos\n",
        "- Conhecimento básico de Python (variáveis, loops, condicionais).\n",
        "- Familiaridade com Jupyter Notebooks.\n",
        "- Bibliotecas necessárias: `matplotlib` (para visualizações).\n",
        "\n",
        "Vamos trabalhar com um dataset fictício de idades e profissões para contextualizar os exemplos!"
      ]
    },
    {
      "cell_type": "markdown",
      "metadata": {},
      "source": [
        "## 1. Listas\n",
        "Listas são coleções **ordenadas** e **mutáveis**, perfeitas para armazenar sequências de dados, como idades, preços ou resultados de experimentos. Elas suportam operações como adição, remoção e ordenação de elementos.\n",
        "\n",
        "### Características\n",
        "- Definidas com colchetes `[]`.\n",
        "- Podem conter elementos de diferentes tipos (números, strings, etc.).\n",
        "- Métodos úteis: `append()`, `remove()`, `sort()`, `pop()`.\n",
        "\n",
        "Vamos criar uma lista de idades e realizar operações comuns."
      ]
    },
    {
      "cell_type": "code",
      "execution_count": null,
      "metadata": {},
      "outputs": [],
      "source": [
        "# Exemplo 1: Manipulando uma lista de idades\n",
        "idades = [22, 35, 28, 19, 22, 40]\n",
        "print(\"Lista de idades:\", idades)\n",
        "\n",
        "# Adicionando uma nova idade\n",
        "idades.append(45)\n",
        "print(\"Após adicionar 45:\", idades)\n",
        "\n",
        "# Removendo um elemento\n",
        "idades.remove(22)  # Remove a primeira ocorrência de 22\n",
        "print(\"Após remover um 22:\", idades)\n",
        "\n",
        "# Calculando a média\n",
        "media_idades = sum(idades) / len(idades)\n",
        "print(f\"Média das idades: {media_idades:.2f}\")\n",
        "\n",
        "# Ordenando a lista\n",
        "idades.sort()\n",
        "print(\"Idades ordenadas:\", idades)"
      ]
    },
    {
      "cell_type": "markdown",
      "metadata": {},
      "source": [
        "### Visualizando Listas\n",
        "Vamos usar `matplotlib` para criar um histograma das idades, facilitando a visualização da distribuição."
      ]
    },
    {
      "cell_type": "code",
      "execution_count": null,
      "metadata": {},
      "outputs": [],
      "source": [
        "import matplotlib.pyplot as plt\n",
        "\n",
        "# Histograma das idades\n",
        "plt.figure(figsize=(8, 6))\n",
        "plt.hist(idades, bins=5, edgecolor='black', color='skyblue')\n",
        "plt.title('Distribuição das Idades')\n",
        "plt.xlabel('Idade')\n",
        "plt.ylabel('Frequência')\n",
        "plt.grid(True, alpha=0.3)\n"
      ]
    },
    {
      "cell_type": "markdown",
      "metadata": {},
      "source": [
        "## 2. Dicionários\n",
        "Dicionários são estruturas **mutáveis** que mapeiam **chaves** a **valores**. São ideais para organizar dados estruturados, como contagens, configurações ou registros.\n",
        "\n",
        "### Características\n",
        "- Definidos com chaves `{}`.\n",
        "- Chaves devem ser únicas e imutáveis (strings, números, tuplas).\n",
        "- Valores podem ser de qualquer tipo.\n",
        "\n",
        "Vamos criar um dicionário para contar idades por faixa etária e outro para mapear profissões."
      ]
    },
    {
      "cell_type": "code",
      "execution_count": null,
      "metadata": {},
      "outputs": [],
      "source": [
        "# Exemplo 1: Contagem por faixa etária\n",
        "faixas_etarias = {\n",
        "    \"18-25\": 0,\n",
        "    \"26-35\": 0,\n",
        "    \"36+\": 0\n",
        "}\n",
        "\n",
        "for idade in idades:\n",
        "    if 18 <= idade <= 25:\n",
        "        faixas_etarias[\"18-25\"] += 1\n",
        "    elif 26 <= idade <= 35:\n",
        "        faixas_etarias[\"26-35\"] += 1\n",
        "    else:\n",
        "        faixas_etarias[\"36+\"] += 1\n",
        "\n",
        "print(\"Contagem por faixa etária:\", faixas_etarias)\n",
        "\n",
        "# Exemplo 2: Mapeando profissões\n",
        "pessoas = {\n",
        "    \"Alice\": {\"idade\": 22, \"profissao\": \"Engenheira\"},\n",
        "    \"Bob\": {\"idade\": 35, \"profissao\": \"Analista de Dados\"},\n",
        "    \"Clara\": {\"idade\": 28, \"profissao\": \"Cientista\"}\n",
        "}\n",
        "\n",
        "print(\"Profissão de Bob:\", pessoas[\"Bob\"][\"profissao\"])\n",
        "\n",
        "# Adicionando uma nova pessoa\n",
        "pessoas[\"David\"] = {\"idade\": 40, \"profissao\": \"Gerente\"}\n",
        "print(\"Após adicionar David:\", pessoas)"
      ]
    },
    {
      "cell_type": "markdown",
      "metadata": {},
      "source": [
        "### Visualizando Dicionários\n",
        "Vamos criar um gráfico de barras para visualizar a contagem por faixa etária."
      ]
    },
    {
      "cell_type": "code",
      "execution_count": null,
      "metadata": {},
      "outputs": [],
      "source": [
        "# Gráfico de barras\n",
        "plt.figure(figsize=(8, 6))\n",
        "plt.bar(faixas_etarias.keys(), faixas_etarias.values(), color='lightgreen', edgecolor='black')\n",
        "plt.title('Contagem por Faixa Etária')\n",
        "plt.xlabel('Faixa Etária')\n",
        "plt.ylabel('Número de Pessoas')\n",
        "plt.grid(True, alpha=0.3)\n"
      ]
    },
    {
      "cell_type": "markdown",
      "metadata": {},
      "source": [
        "## 3. Tuplas\n",
        "Tuplas são coleções **ordenadas** e **imutáveis**, úteis para dados que não devem ser alterados, como coordenadas, categorias ou configurações fixas.\n",
        "\n",
        "### Características\n",
        "- Definidas com parênteses `()`.\n",
        "- Suportam indexação e fatiamento, como listas.\n",
        "- Imutáveis: não podem ser modificadas após criadas.\n",
        "\n",
        "Vamos usar tuplas para categorias etárias e coordenadas."
      ]
    },
    {
      "cell_type": "code",
      "execution_count": null,
      "metadata": {},
      "outputs": [],
      "source": [
        "# Exemplo 1: Tupla de categorias\n",
        "categorias = (\"Jovem\", \"Adulto\", \"Idoso\")\n",
        "print(\"Categorias:\", categorias)\n",
        "print(\"Primeira categoria:\", categorias[0])\n",
        "\n",
        "# Exemplo 2: Tupla para coordenadas\n",
        "localizacao = (40.7128, -74.0060)  # Latitude e longitude de Nova York\n",
        "print(\"Coordenadas de Nova York:\", localizacao)\n",
        "\n",
        "# Tentativa de modificação (vai gerar erro)\n",
        "try:\n",
        "    categorias[0] = \"Adolescente\"\n",
        "except TypeError as e:\n",
        "    print(\"Erro ao tentar modificar a tupla:\", e)"
      ]
    },
    {
      "cell_type": "markdown",
      "metadata": {},
      "source": [
        "## 4. Sets\n",
        "Sets são coleções **não ordenadas** de elementos **únicos**, perfeitas para remover duplicatas ou realizar operações de conjuntos (união, interseção).\n",
        "\n",
        "### Características\n",
        "- Definidos com chaves `{}` ou `set()`.\n",
        "- Não permitem duplicatas.\n",
        "- Suportam operações como `union()`, `intersection()`, `difference()`.\n",
        "\n",
        "Vamos remover duplicatas e realizar operações com sets."
      ]
    },
    {
      "cell_type": "code",
      "execution_count": null,
      "metadata": {},
      "outputs": [],
      "source": [
        "# Exemplo 1: Removendo duplicatas\n",
        "idades_duplicadas = [22, 35, 22, 19, 35, 40]\n",
        "idades_unicas = set(idades_duplicadas)\n",
        "print(\"Idades únicas:\", idades_unicas)\n",
        "\n",
        "# Exemplo 2: Operações com sets\n",
        "grupo1 = {\"Alice\", \"Bob\", \"Clara\"}\n",
        "grupo2 = {\"Bob\", \"David\", \"Emma\"}\n",
        "\n",
        "print(\"União (membros de ambos os grupos):\", grupo1.union(grupo2))\n",
        "print(\"Interseção (membros em comum):\", grupo1.intersection(grupo2))\n",
        "print(\"Diferença (membros apenas no grupo1):\", grupo1.difference(grupo2))"
      ]
    },
    {
      "cell_type": "markdown",
      "metadata": {},
      "source": [
        "## 5. Exercícios Práticos\n",
        "Abaixo estão alguns exercícios para você praticar o uso das estruturas de dados. Tente resolvê-los antes de verificar as soluções.\n",
        "\n",
        "### Exercício 1: Filtragem de Idades\n",
        "Crie uma lista com as idades maiores que 30 a partir da lista `idades`.\n",
        "\n",
        "### Exercício 2: Contagem de Profissões\n",
        "Usando o dicionário `pessoas`, crie um novo dicionário que conte quantas pessoas têm cada profissão.\n",
        "\n",
        "### Exercício 3: Conjuntos de Profissões\n",
        "Crie dois sets com profissões de diferentes departamentos e encontre as profissões que aparecem em ambos."
      ]
    },
    {
      "cell_type": "code",
      "execution_count": null,
      "metadata": {},
      "outputs": [],
      "source": [
        "# Solução Exercício 1\n",
        "idades_acima_30 = [idade for idade in idades if idade > 30]\n",
        "print(\"Idades acima de 30:\", idades_acima_30)\n",
        "\n",
        "# Solução Exercício 2\n",
        "contagem_profissoes = {}\n",
        "for pessoa in pessoas.values():\n",
        "    profissao = pessoa[\"profissao\"]\n",
        "    contagem_profissoes[profissao] = contagem_profissoes.get(profissao, 0) + 1\n",
        "print(\"Contagem de profissões:\", contagem_profissoes)\n",
        "\n",
        "# Solução Exercício 3\n",
        "dept1 = {\"Engenheira\", \"Analista de Dados\", \"Designer\"}\n",
        "dept2 = {\"Analista de Dados\", \"Gerente\", \"Cientista\"}\n",
        "profissoes_comuns = dept1.intersection(dept2)\n",
        "print(\"Profissões em ambos os departamentos:\", profissoes_comuns)"
      ]
    },
    {
      "cell_type": "markdown",
      "metadata": {},
      "source": [
        "## 6. Conclusão\n",
        "Neste notebook, você aprendeu a usar **listas**, **dicionários**, **tuplas** e **sets** em Python, aplicando-os em exemplos práticos de ciência de dados. Além disso, exploramos visualizações com `matplotlib` e resolvemos exercícios para consolidar o aprendizado.\n",
        "\n",
        "### Próximos Passos\n",
        "- Experimente usar essas estruturas com datasets reais (ex.: CSV, JSON).\n",
        "- Aprofunde-se em bibliotecas como `pandas` para manipulação avançada de dados.\n",
        "- Explore operações mais complexas, como list comprehensions e nested dictionaries.\n",
        "\n",
        "Continue praticando e manipulando dados para se tornar um cientista de dados mais confiante!"
      ]
    },
    {
      "cell_type": "markdown",
      "metadata": {},
      "source": []
    }
  ],
  "metadata": {
    "kernelspec": {
      "display_name": "base",
      "language": "python",
      "name": "python3"
    },
    "language_info": {
      "codemirror_mode": {
        "name": "ipython",
        "version": 3
      },
      "file_extension": ".py",
      "mimetype": "text/x-python",
      "name": "python",
      "nbconvert_exporter": "python",
      "pygments_lexer": "ipython3",
      "version": "3.12.7"
    }
  },
  "nbformat": 4,
  "nbformat_minor": 4
}
