{
 "cells": [
  {
   "cell_type": "markdown",
   "metadata": {},
   "source": [
    "# Understanding Functions in Python\n",
    "\n",
    "In this notebook, we will explore how **functions** work in Python. Functions are reusable blocks of code that perform a specific task. They help organize code, make it more readable, and avoid repetition.\n",
    "\n",
    "## What you will learn:\n",
    "- What functions are and why to use them\n",
    "- How to define and call functions\n",
    "- Parameters and arguments\n",
    "- Returning values\n",
    "- Functions with default values and keyword arguments\n",
    "- Anonymous (lambda) functions\n",
    "- Variable scope"
   ]
  },
  {
   "cell_type": "markdown",
   "metadata": {},
   "source": [
    "## 1. What is a Function?\n",
    "\n",
    "A function is like a recipe: you define a set of instructions and can use them whenever needed. In Python, functions are defined using the `def` keyword.\n",
    "\n",
    "**Basic Syntax:**\n",
    "```python\n",
    "def function_name():\n",
    "    # Code block\n",
    "    print('Something happens here')\n",
    "```"
   ]
  },
  {
   "cell_type": "code",
   "execution_count": 1,
   "metadata": {},
   "outputs": [
    {
     "name": "stdout",
     "output_type": "stream",
     "text": [
      "Hello, welcome to Python!\n"
     ]
    }
   ],
   "source": [
    "# Simple function example\n",
    "def greeting():\n",
    "    print('Hello, welcome to Python!')\n",
    "\n",
    "# Calling the function\n",
    "greeting()"
   ]
  },
  {
   "cell_type": "markdown",
   "metadata": {},
   "source": [
    "## 2. Parameters and Arguments\n",
    "\n",
    "Functions can take **parameters**, which are variables used inside the function. When you call the function, you pass **arguments** to these parameters.\n",
    "\n",
    "**Example:**"
   ]
  },
  {
   "cell_type": "code",
   "execution_count": null,
   "metadata": {},
   "outputs": [],
   "source": [
    "# Function with one parameter\n",
    "def personalized_greeting(name):\n",
    "    print(f'Hello, {name}!')\n",
    "\n",
    "# Calling the function with different arguments\n",
    "personalized_greeting('Alice')\n",
    "personalized_greeting('Bob')"
   ]
  },
  {
   "cell_type": "markdown",
   "metadata": {},
   "source": [
    "You can also have multiple parameters:"
   ]
  },
  {
   "cell_type": "code",
   "execution_count": null,
   "metadata": {},
   "outputs": [],
   "source": [
    "# Function with multiple parameters\n",
    "def introduce_person(name, age):\n",
    "    print(f'{name} is {age} years old.')\n",
    "\n",
    "introduce_person('Carlos', 25)"
   ]
  },
  {
   "cell_type": "markdown",
   "metadata": {},
   "source": [
    "## 3. Returning Values\n",
    "\n",
    "Functions can **return** values using the `return` keyword. This is useful when you want the function to produce a result that can be used elsewhere in the code."
   ]
  },
  {
   "cell_type": "code",
   "execution_count": null,
   "metadata": {},
   "outputs": [],
   "source": [
    "# Function that returns a value\n",
    "def add(a, b):\n",
    "    return a + b\n",
    "\n",
    "# Using the returned value\n",
    "result = add(3, 5)\n",
    "print(f'The result of the addition is: {result}')"
   ]
  },
  {
   "cell_type": "markdown",
   "metadata": {},
   "source": [
    "**Note:** After a `return` statement, the function stops executing. Any code after `return` will not run."
   ]
  },
  {
   "cell_type": "code",
   "execution_count": null,
   "metadata": {},
   "outputs": [],
   "source": [
    "# Example with return stopping the function\n",
    "def check_even(number):\n",
    "    if number % 2 == 0:\n",
    "        return 'It is even!'\n",
    "    return 'It is odd!'\n",
    "\n",
    "print(check_even(4))\n",
    "print(check_even(7))"
   ]
  },
  {
   "cell_type": "markdown",
   "metadata": {},
   "source": [
    "## 4. Parameters with Default Values\n",
    "\n",
    "You can set default values for parameters. If an argument is not provided, the default value is used."
   ]
  },
  {
   "cell_type": "code",
   "execution_count": null,
   "metadata": {},
   "outputs": [],
   "source": [
    "# Function with a default parameter\n",
    "def greet(name='Guest'):\n",
    "    print(f'Hello, {name}!')\n",
    "\n",
    "greet()          # Uses the default value\n",
    "greet('Maria')   # Uses the provided argument"
   ]
  },
  {
   "cell_type": "markdown",
   "metadata": {},
   "source": [
    "## 5. Keyword Arguments\n",
    "\n",
    "You can pass arguments using the parameter names, allowing you to specify them in any order."
   ]
  },
  {
   "cell_type": "code",
   "execution_count": null,
   "metadata": {},
   "outputs": [],
   "source": [
    "# Function with keyword arguments\n",
    "def describe_person(name, age, city):\n",
    "    print(f'{name}, {age} years old, lives in {city}.')\n",
    "\n",
    "describe_person(city='São Paulo', name='Ana', age=30)"
   ]
  },
  {
   "cell_type": "markdown",
   "metadata": {},
   "source": [
    "## 6. Anonymous (Lambda) Functions\n",
    "\n",
    "`Lambda` functions are small, anonymous functions defined in a single line. They are useful for quick operations."
   ]
  },
  {
   "cell_type": "code",
   "execution_count": null,
   "metadata": {},
   "outputs": [],
   "source": [
    "# Example of a lambda function\n",
    "double = lambda x: x * 2\n",
    "\n",
    "print(double(5))  # Output: 10\n",
    "\n",
    "# Using lambda with sorted\n",
    "numbers = [3, 1, 4, 2]\n",
    "sorted_numbers = sorted(numbers, key=lambda x: x)\n",
    "print(sorted_numbers)  # Output: [1, 2, 3, 4]"
   ]
  },
  {
   "cell_type": "markdown",
   "metadata": {},
   "source": [
    "## 7. Variable Scope\n",
    "\n",
    "Variables defined inside a function have **local scope** and cannot be accessed outside it. Variables defined outside a function have **global scope**."
   ]
  },
  {
   "cell_type": "code",
   "execution_count": null,
   "metadata": {},
   "outputs": [],
   "source": [
    "# Example of scope\n",
    "global_variable = 'I am global'\n",
    "\n",
    "def my_function():\n",
    "    local_variable = 'I am local'\n",
    "    print(local_variable)\n",
    "    print(global_variable)\n",
    "\n",
    "my_function()\n",
    "# print(local_variable)  # This would raise an error because local_variable is not defined outside the function"
   ]
  },
  {
   "cell_type": "markdown",
   "metadata": {},
   "source": [
    "## 8. Conclusion\n",
    "\n",
    "Functions are a core part of programming in Python. They allow you to:\n",
    "- Reuse code\n",
    "- Organize programs into logical blocks\n",
    "- Make code easier to maintain and read\n",
    "\n",
    "Try creating your own functions to solve specific problems! Experiment with parameters, returns, and scopes to deepen your understanding."
   ]
  },
  {
   "cell_type": "markdown",
   "metadata": {},
   "source": [
    "## Exercise\n",
    "\n",
    "Create a function that calculates the area of a circle given its radius. The formula is: `area = π * radius²`. Use the `math.pi` constant from the `math` module."
   ]
  },
  {
   "cell_type": "code",
   "execution_count": null,
   "metadata": {},
   "outputs": [],
   "source": [
    "import math\n",
    "\n",
    "def calculate_circle_area(radius):\n",
    "    return math.pi * radius ** 2\n",
    "\n",
    "# Test the function\n",
    "print(calculate_circle_area(5))"
   ]
  }
 ],
 "metadata": {
  "kernelspec": {
   "display_name": "base",
   "language": "python",
   "name": "python3"
  },
  "language_info": {
   "codemirror_mode": {
    "name": "ipython",
    "version": 3
   },
   "file_extension": ".py",
   "mimetype": "text/x-python",
   "name": "python",
   "nbconvert_exporter": "python",
   "pygments_lexer": "ipython3",
   "version": "3.12.7"
  }
 },
 "nbformat": 4,
 "nbformat_minor": 4
}
