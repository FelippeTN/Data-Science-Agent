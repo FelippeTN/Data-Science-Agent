{
 "cells": [
  {
   "cell_type": "markdown",
   "id": "861a4d1f",
   "metadata": {},
   "source": [
    "## O que é uma Classe em Python?\n",
    "\n",
    "Uma classe em Python é como um molde para criar objetos. Objetos são instâncias de uma classe que podem armazenar dados (atributos) e realizar ações (métodos). Pense em uma classe como um template: por exemplo, uma classe \"Carro\" pode definir o que é um carro (atributos como cor, velocidade) e o que ele pode fazer (métodos como dirigir, parar). Na ciência de dados, classes são úteis para organizar código, como criar um limpador de dados personalizado ou um wrapper para modelos de machine learning."
   ]
  },
  {
   "cell_type": "markdown",
   "id": "53cf8982",
   "metadata": {},
   "source": [
    "#### Sintaxe Básica de uma Classe\n",
    "Aqui está a estrutura básica de uma classe em Python:"
   ]
  },
  {
   "cell_type": "code",
   "execution_count": null,
   "id": "db393496",
   "metadata": {},
   "outputs": [],
   "source": [
    "class NomeDaClasse:\n",
    "    def __init__(self, parametro1, parametro2):\n",
    "        self.parametro1 = parametro1  # Atributo da instância\n",
    "        self.parametro2 = parametro2\n",
    "\n",
    "    def nome_do_metodo(self):\n",
    "        # Código para realizar uma ação\n",
    "        return f\"Fazendo algo com {self.parametro1}\""
   ]
  },
  {
   "cell_type": "markdown",
   "id": "554ad614",
   "metadata": {},
   "source": [
    "__class__ NomeDaClasse: Define a classe com um nome (use CamelCase por convenção).\n",
    "\n",
    "__ __init__ __: O método construtor, chamado ao criar um objeto. Ele inicializa os atributos.\n",
    "\n",
    "__self__: Refere-se à instância da classe. É necessário nos métodos para acessar atributos e métodos.\n",
    "\n",
    "__Métodos__: Funções definidas dentro da classe que podem usar os atributos do objeto."
   ]
  },
  {
   "cell_type": "markdown",
   "id": "816e74b8",
   "metadata": {},
   "source": [
    "### Exemplo 1: Uma Classe Simples para Ciência de Dados\n",
    "Vamos criar uma classe LimpadorDeDados para limpar um dataset (ex.: lidar com valores nulos), alinhada com seu interesse em limpeza de dados (pergunta de 9 de abril de 2025)."
   ]
  },
  {
   "cell_type": "code",
   "execution_count": null,
   "id": "3d3cf1b0",
   "metadata": {},
   "outputs": [],
   "source": [
    "class LimpadorDeDados:\n",
    "    def __init__(self, dados):\n",
    "        self.dados = dados  # Armazena o dataset (ex.: um DataFrame do pandas)\n",
    "    \n",
    "    def remover_nulos(self):\n",
    "        \"\"\"Remove linhas com valores nulos.\"\"\"\n",
    "        self.dados = self.dados.dropna()\n",
    "        print(\"Valores nulos removidos.\")\n",
    "        return self.dados\n",
    "    \n",
    "    def resumir(self):\n",
    "        \"\"\"Exibe estatísticas básicas.\"\"\"\n",
    "        print(\"Resumo do Dataset:\")\n",
    "        print(self.dados.describe())\n",
    "\n",
    "# Exemplo de uso com um dataset pequeno\n",
    "import pandas as pd\n",
    "\n",
    "# Criar um dataset de exemplo\n",
    "dados = pd.DataFrame({\n",
    "    'nome': ['Alice', 'Bob', None, 'David'],\n",
    "    'idade': [25, None, 30, 22],\n",
    "    'pontuacao': [85, 90, 88, 92]\n",
    "})\n",
    "\n",
    "# Criar um objeto da classe\n",
    "limpador = LimpadorDeDados(dados)\n",
    "\n",
    "# Usar os métodos\n",
    "print(\"Dados Originais:\")\n",
    "print(limpador.dados)\n",
    "limpador.remover_nulos()\n",
    "print(\"\\nDados Limpos:\")\n",
    "print(limpador.dados)\n",
    "limpador.resumir()"
   ]
  },
  {
   "cell_type": "markdown",
   "id": "73e56f63",
   "metadata": {},
   "source": [
    "#### Explicação:\n",
    "\n",
    "__Definição__ __da__ __Classe__: LimpadorDeDados recebe um DataFrame e armazena em self.dados.\n",
    "\n",
    "__Métodos__:\n",
    "    __remover_nulos__: Remove linhas com valores nulos (como seu interesse em nulos).\n",
    "    __resumir__: Exibe estatísticas descritivas (como seu interesse em estatísticas).\n",
    "\n",
    "__Criação__ __do__ __Objeto__: limpador = LimpadorDeDados(dados) cria uma instância.\n",
    "__Chamada__ __de__ __Métodos__: limpador.remover_nulos() e limpador.resumir() operam nos dados do objeto.\n",
    "__Dica__ __de__ __Aprendizado__: Tente adicionar um método para preencher valores nulos (ex.: self.dados.fillna(0)) ou use seu próprio CSV."
   ]
  },
  {
   "cell_type": "markdown",
   "id": "d6244dc2",
   "metadata": {},
   "source": [
    "Exemplo 2: Uma Classe para Visualização\n",
    "Vamos criar uma classe VisualizadorDeDados para criar gráficos, conectando-se ao seu interesse em matplotlib (9 e 10 de abril de 2025)."
   ]
  },
  {
   "cell_type": "code",
   "execution_count": null,
   "id": "5adac1d5",
   "metadata": {},
   "outputs": [],
   "source": [
    "import matplotlib.pyplot as plt\n",
    "\n",
    "class VisualizadorDeDados:\n",
    "    def __init__(self, dados):\n",
    "        self.dados = dados\n",
    "    \n",
    "    def plotar_histograma(self, coluna):\n",
    "        \"\"\"Plota um histograma para uma coluna específica.\"\"\"\n",
    "        plt.figure(figsize=(8, 6))\n",
    "        plt.hist(self.dados[coluna], bins=10, color='skyblue', edgecolor='black')\n",
    "        plt.title(f'Histograma de {coluna}')\n",
    "        plt.xlabel(coluna)\n",
    "        plt.ylabel('Frequência')\n",
    "        plt.grid(True)\n",
    "        plt.show()\n",
    "    \n",
    "    def plotar_barras(self, coluna):\n",
    "        \"\"\"Plota um gráfico de barras para contagem de valores de uma coluna.\"\"\"\n",
    "        contagem_valores = self.dados[coluna].value_counts()\n",
    "        plt.figure(figsize=(8, 6))\n",
    "        contagem_valores.plot(kind='bar', color='lightgreen')\n",
    "        plt.title(f'Gráfico de Barras de {coluna}')\n",
    "        plt.xlabel(coluna)\n",
    "        plt.ylabel('Contagem')\n",
    "        plt.xticks(rotation=0)\n",
    "        plt.grid(axis='y')\n",
    "        plt.show()\n",
    "\n",
    "# Exemplo de uso\n",
    "visualizador = VisualizadorDeDados(dados)\n",
    "visualizador.plotar_histograma('idade')\n",
    "visualizador.plotar_barras('nome')"
   ]
  },
  {
   "cell_type": "markdown",
   "id": "a72df5b1",
   "metadata": {},
   "source": [
    "#### __Explicação__:\n",
    "\n",
    "__Definição__ __da__ __Classe__: VisualizadorDeDados armazena um DataFrame.\n",
    "\n",
    "__Métodos__:\n",
    "    __plotar_histograma__: Cria um histograma para dados numéricos (ex.: ‘idade’).\n",
    "    __plotar_barras__: Cria um gráfico de barras para dados categóricos (ex.: ‘nome’).\n",
    "\n",
    "__Uso__: Passe o mesmo dataset e chame os métodos de visualização.\n",
    "\n",
    "__Dica__ __de__ __Aprendizado__: Adicione um método para um gráfico de dispersão (ex.: ‘idade’ vs. ‘pontuacao’) ou teste com um dataset como Titanic."
   ]
  },
  {
   "cell_type": "markdown",
   "id": "09be3452",
   "metadata": {},
   "source": [
    "### Conceitos-Chave para Entender\n",
    "__Atributos__: Variáveis armazenadas no objeto (ex.: self.dados contém o DataFrame).\n",
    "\n",
    "__Métodos__: Funções que pertencem à classe e usam self para acessar atributos.\n",
    "\n",
    "__Instanciação__: Criar um objeto (ex.: limpador = LimpadorDeDados(dados)).\n",
    "\n",
    "__Encapsulamento__: Manter dados e métodos que operam sobre eles juntos em uma classe."
   ]
  },
  {
   "cell_type": "markdown",
   "id": "a63a8343",
   "metadata": {},
   "source": []
  }
 ],
 "metadata": {
  "kernelspec": {
   "display_name": "base",
   "language": "python",
   "name": "python3"
  },
  "language_info": {
   "codemirror_mode": {
    "name": "ipython",
    "version": 3
   },
   "file_extension": ".py",
   "mimetype": "text/x-python",
   "name": "python",
   "nbconvert_exporter": "python",
   "pygments_lexer": "ipython3",
   "version": "3.12.7"
  }
 },
 "nbformat": 4,
 "nbformat_minor": 5
}
