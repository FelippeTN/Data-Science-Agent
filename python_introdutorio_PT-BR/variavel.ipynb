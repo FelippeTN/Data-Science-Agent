{
 "cells": [
  {
   "cell_type": "markdown",
   "metadata": {},
   "source": [
    "# Introdução ao Python: Hello World e Declaração de Variáveis\n",
    "\n",
    "Este notebook é um guia básico para iniciantes em Python, demonstrando como exibir a mensagem clássica *Hello, World!* e como declarar variáveis. Esses são conceitos fundamentais para começar a programar em Python.\n",
    "\n",
    "Python é uma linguagem de programação simples, legível e poderosa, amplamente utilizada para diversos fins, desde desenvolvimento web até ciência de dados."
   ]
  },
  {
   "cell_type": "markdown",
   "metadata": {},
   "source": [
    "## 1. Exibindo *Hello, World!*\n",
    "\n",
    "O primeiro passo em muitas linguagens de programação é exibir a mensagem *Hello, World!* no console. Em Python, isso é feito usando a função `print()`.\n",
    "\n",
    "A função `print()` exibe texto ou valores na saída padrão (geralmente o console ou terminal)."
   ]
  },
  {
   "cell_type": "code",
   "execution_count": null,
   "metadata": {},
   "outputs": [],
   "source": [
    "# Exibindo Hello, World!\n",
    "print(\"Hello, World!\")"
   ]
  },
  {
   "cell_type": "markdown",
   "metadata": {},
   "source": [
    "**Saída Esperada**: `Hello, World!`\n",
    "\n",
    "Neste exemplo, a função `print()` recebe uma string (texto entre aspas) e a exibe no console. As aspas podem ser simples (`'`) ou duplas (`\"`), ambas são válidas em Python."
   ]
  },
  {
   "cell_type": "markdown",
   "metadata": {},
   "source": [
    "## 2. Declarando Variáveis\n",
    "\n",
    "Variáveis em Python são usadas para armazenar dados, como números, textos ou outros tipos de valores. Para declarar uma variável, você simplesmente atribui um valor a um nome usando o operador de atribuição (`=`).\n",
    "\n",
    "Python é uma linguagem de tipagem dinâmica, o que significa que você não precisa especificar o tipo da variável (como inteiro, string, etc.) — o Python infere o tipo automaticamente."
   ]
  },
  {
   "cell_type": "code",
   "execution_count": null,
   "metadata": {},
   "outputs": [],
   "source": [
    "# Declarando uma variável\n",
    "nome = \"Alice\"\n",
    "\n",
    "# Exibindo o valor da variável\n",
    "print(nome)"
   ]
  },
  {
   "cell_type": "markdown",
   "metadata": {},
   "source": [
    "**Saída Esperada**: `Alice`\n",
    "\n",
    "Neste exemplo:\n",
    "- `nome` é o nome da variável.\n",
    "- `\"Alice\"` é o valor atribuído à variável (uma string).\n",
    "- A função `print()` exibe o valor armazenado em `nome`."
   ]
  },
  {
   "cell_type": "markdown",
   "metadata": {},
   "source": [
    "### 2.1 Declarando Diferentes Tipos de Variáveis\n",
    "\n",
    "Você pode armazenar diferentes tipos de dados em variáveis, como números inteiros, números decimais (flutuantes) ou strings. Aqui estão alguns exemplos:"
   ]
  },
  {
   "cell_type": "code",
   "execution_count": null,
   "metadata": {},
   "outputs": [],
   "source": [
    "# Declarando variáveis de diferentes tipos\n",
    "idade = 25  # Inteiro (int)\n",
    "altura = 1.75  # Flutuante (float)\n",
    "mensagem = \"Bem-vindo ao Python!\"  # String (str)\n",
    "\n",
    "# Exibindo os valores\n",
    "print(\"Idade:\", idade)\n",
    "print(\"Altura:\", altura)\n",
    "print(\"Mensagem:\", mensagem)"
   ]
  },
  {
   "cell_type": "markdown",
   "metadata": {},
   "source": [
    "**Saída Esperada**:\n",
    "```\n",
    "Idade: 25\n",
    "Altura: 1.75\n",
    "Mensagem: Bem-vindo ao Python!\n",
    "```\n",
    "\n",
    "Neste exemplo:\n",
    "- `idade` armazena um número inteiro.\n",
    "- `altura` armazena um número flutuante.\n",
    "- `mensagem` armazena uma string.\n",
    "- A função `print()` pode receber múltiplos argumentos separados por vírgulas, que são exibidos com um espaço entre eles."
   ]
  },
  {
   "cell_type": "markdown",
   "metadata": {},
   "source": [
    "## 3. Regras para Nomes de Variáveis\n",
    "\n",
    "Ao declarar variáveis em Python, siga estas regras:\n",
    "- **Nomes válidos**: Podem conter letras (a-z, A-Z), números (0-9) e sublinhados (`_`), mas devem começar com uma letra ou sublinhado.\n",
    "- **Sensível a maiúsculas/minúsculas**: `Nome` e `nome` são variáveis diferentes.\n",
    "- **Palavras reservadas**: Não use palavras reservadas do Python (como `if`, `for`, `print`) como nomes de variáveis.\n",
    "- **Boas práticas**: Use nomes descritivos (ex.: `idade` em vez de `x`) e siga convenções como letras minúsculas com sublinhados para nomes compostos (ex.: `nome_completo`)."
   ]
  },
  {
   "cell_type": "code",
   "execution_count": null,
   "metadata": {},
   "outputs": [],
   "source": [
    "# Exemplo de nomes de variáveis válidos\n",
    "nome_completo = \"João Silva\"\n",
    "numero_favorito = 42\n",
    "\n",
    "# Exibindo os valores\n",
    "print(\"Nome:\", nome_completo)\n",
    "print(\"Número favorito:\", numero_favorito)"
   ]
  },
  {
   "cell_type": "markdown",
   "metadata": {},
   "source": [
    "**Saída Esperada**:\n",
    "```\n",
    "Nome: João Silva\n",
    "Número favorito: 42\n",
    "```\n",
    "\n",
    "Os nomes `nome_completo` e `numero_favorito` são descritivos e seguem as boas práticas."
   ]
  },
  {
   "cell_type": "markdown",
   "metadata": {},
   "source": [
    "## 4. Resumo\n",
    "\n",
    "- **Hello, World!**: Use a função `print()` para exibir texto ou valores no console.\n",
    "- **Variáveis**: Declare variáveis atribuindo valores com o operador `=`; Python infere o tipo automaticamente.\n",
    "- **Tipos de dados**: Variáveis podem armazenar inteiros (`int`), flutuantes (`float`), strings (`str`), entre outros.\n",
    "- **Nomenclatura**: Escolha nomes de variáveis claros, siga as regras de sintaxe e adote boas práticas.\n",
    "\n",
    "Este notebook cobre os conceitos iniciais de Python. Experimente alterar os valores das variáveis ou criar novas mensagens para praticar!"
   ]
  }
 ],
 "metadata": {
  "kernelspec": {
   "display_name": "Python 3",
   "language": "python",
   "name": "python3"
  },
  "language_info": {
   "codemirror_mode": {
    "name": "ipython",
    "version": 3
   },
   "file_extension": ".py",
   "mimetype": "text/x-python",
   "name": "python",
   "nbconvert_exporter": "python",
   "pygments_lexer": "ipython3",
   "version": "3.8.10"
  }
 },
 "nbformat": 4,
 "nbformat_minor": 4
}