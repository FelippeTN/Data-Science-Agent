{
 "cells": [
  {
   "cell_type": "markdown",
   "metadata": {},
   "source": [
    "# Tutorial de Condicionais em Python\n",
    "\n",
    "Este notebook explica de forma detalhada o uso de estruturas condicionais em Python, que permitem que um programa tome decisões com base em condições específicas. Vamos explorar as principais construções condicionais (`if`, `elif`, `else`), operadores lógicos, condicionais aninhadas e exemplos práticos para reforçar o aprendizado.\n",
    "\n",
    "Conjuntos são ferramentas fundamentais em Python para controle de fluxo, permitindo que o código execute diferentes blocos com base em avaliações lógicas."
   ]
  },
  {
   "cell_type": "markdown",
   "metadata": {},
   "source": [
    "## 1. Introdução às Condicionais\n",
    "\n",
    "Em Python, as estruturas condicionais são usadas para executar blocos de código com base em condições que avaliam para `True` ou `False`. A estrutura básica utiliza a palavra-chave `if`, seguida opcionalmente por `elif` (abreviação de *else if*) e `else`.\n",
    "\n",
    "A sintaxe geral é:\n",
    "```python\n",
    "if condição:\n",
    "    # Código executado se a condição for verdadeira\n",
    "elif outra_condição:\n",
    "    # Código executado se a outra_condição for verdadeira\n",
    "else:\n",
    "    # Código executado se nenhuma condição anterior for verdadeira\n",
    "```"
   ]
  },
  {
   "cell_type": "markdown",
   "metadata": {},
   "source": [
    "## 2. Estrutura Básica: `if`\n",
    "\n",
    "O comando `if` avalia uma condição. Se a condição for verdadeira (`True`), o bloco de código indentado abaixo dele é executado."
   ]
  },
  {
   "cell_type": "code",
   "execution_count": null,
   "metadata": {},
   "outputs": [],
   "source": [
    "# Exemplo: Verificar se um número é positivo\n",
    "numero = 10\n",
    "\n",
    "if numero > 0:\n",
    "    print(f\"{numero} é um número positivo.\")\n"
   ]
  },
  {
   "cell_type": "markdown",
   "metadata": {},
   "source": [
    "**Saída Esperada**: `10 é um número positivo.`\n",
    "\n",
    "Neste exemplo, como `numero > 0` é `True`, o código dentro do bloco `if` é executado."
   ]
  },
  {
   "cell_type": "markdown",
   "metadata": {},
   "source": [
    "## 3. Usando `else`\n",
    "\n",
    "O comando `else` é usado para executar um bloco de código quando a condição do `if` é falsa (`False`). Ele não requer uma condição."
   ]
  },
  {
   "cell_type": "code",
   "execution_count": null,
   "metadata": {},
   "outputs": [],
   "source": [
    "# Exemplo: Verificar se um número é positivo ou não\n",
    "numero = -5\n",
    "\n",
    "if numero > 0:\n",
    "    print(f\"{numero} é um número positivo.\")\n",
    "else:\n",
    "    print(f\"{numero} não é um número positivo.\")"
   ]
  },
  {
   "cell_type": "markdown",
   "metadata": {},
   "source": [
    "**Saída Esperada**: `-5 não é um número positivo.`\n",
    "\n",
    "Aqui, como `numero > 0` é `False`, o bloco do `else` é executado."
   ]
  },
  {
   "cell_type": "markdown",
   "metadata": {},
   "source": [
    "## 4. Usando `elif` para Múltiplas Condições\n",
    "\n",
    "O comando `elif` permite testar condições adicionais se a condição do `if` (ou de outros `elif`) for falsa. Você pode usar quantos `elif` forem necessários."
   ]
  },
  {
   "cell_type": "code",
   "execution_count": null,
   "metadata": {},
   "outputs": [],
   "source": [
    "# Exemplo: Classificar um número como positivo, negativo ou zero\n",
    "numero = 0\n",
    "\n",
    "if numero > 0:\n",
    "    print(f\"{numero} é positivo.\")\n",
    "elif numero < 0:\n",
    "    print(f\"{numero} é negativo.\")\n",
    "else:\n",
    "    print(f\"{numero} é zero.\")"
   ]
  },
  {
   "cell_type": "markdown",
   "metadata": {},
   "source": [
    "**Saída Esperada**: `0 é zero.`\n",
    "\n",
    "Neste caso, as condições do `if` e do `elif` são falsas, então o bloco do `else` é executado."
   ]
  },
  {
   "cell_type": "markdown",
   "metadata": {},
   "source": [
    "## 5. Operadores Lógicos em Condicionais\n",
    "\n",
    "Você pode combinar condições usando operadores lógicos como `and`, `or` e `not` para criar condicionais mais complexas.\n",
    "\n",
    "- `and`: Retorna `True` se ambas as condições forem verdadeiras.\n",
    "- `or`: Retorna `True` se pelo menos uma das condições for verdadeira.\n",
    "- `not`: Inverte o valor lógico da condição."
   ]
  },
  {
   "cell_type": "code",
   "execution_count": null,
   "metadata": {},
   "outputs": [],
   "source": [
    "# Exemplo: Verificar se um número está em um intervalo\n",
    "numero = 42\n",
    "\n",
    "if numero >= 0 and numero <= 100:\n",
    "    print(f\"{numero} está entre 0 e 100.\")\n",
    "else:\n",
    "    print(f\"{numero} está fora do intervalo de 0 a 100.\")"
   ]
  },
  {
   "cell_type": "markdown",
   "metadata": {},
   "source": [
    "**Saída Esperada**: `42 está entre 0 e 100.`\n",
    "\n",
    "Aqui, o operador `and` garante que ambas as condições (`numero >= 0` e `numero <= 100`) sejam verdadeiras."
   ]
  },
  {
   "cell_type": "code",
   "execution_count": null,
   "metadata": {},
   "outputs": [],
   "source": [
    "# Exemplo com 'or': Verificar se um número é muito grande ou muito pequeno\n",
    "numero = -10\n",
    "\n",
    "if numero < -5 or numero > 5:\n",
    "    print(f\"{numero} está fora do intervalo [-5, 5].\")\n",
    "else:\n",
    "    print(f\"{numero} está dentro do intervalo [-5, 5].\")"
   ]
  },
  {
   "cell_type": "markdown",
   "metadata": {},
   "source": [
    "**Saída Esperada**: `-10 está fora do intervalo [-5, 5].`\n",
    "\n",
    "O operador `or` faz com que a condição seja verdadeira se pelo menos uma das partes for verdadeira."
   ]
  },
  {
   "cell_type": "markdown",
   "metadata": {},
   "source": [
    "## 6. Condicionais Aninhadas\n",
    "\n",
    "Você pode aninhar estruturas condicionais, ou seja, colocar um `if` dentro de outro `if`. Isso é útil para verificar condições mais específicas."
   ]
  },
  {
   "cell_type": "code",
   "execution_count": null,
   "metadata": {},
   "outputs": [],
   "source": [
    "# Exemplo: Verificar se um número é positivo e par\n",
    "numero = 8\n",
    "\n",
    "if numero > 0:\n",
    "    if numero % 2 == 0:\n",
    "        print(f\"{numero} é positivo e par.\")\n",
    "    else:\n",
    "        print(f\"{numero} é positivo, mas ímpar.\")\n",
    "else:\n",
    "    print(f\"{numero} não é positivo.\")"
   ]
  },
  {
   "cell_type": "markdown",
   "metadata": {},
   "source": [
    "**Saída Esperada**: `8 é positivo e par.`\n",
    "\n",
    "Neste exemplo, o primeiro `if` verifica se o número é positivo. Se for, um segundo `if` verifica se é par."
   ]
  },
  {
   "cell_type": "markdown",
   "metadata": {},
   "source": [
    "## 7. Exemplo Prático: Sistema de Notas\n",
    "\n",
    "Vamos criar um exemplo prático que usa condicionais para classificar a nota de um aluno com base em um sistema de pontuação."
   ]
  },
  {
   "cell_type": "code",
   "execution_count": null,
   "metadata": {},
   "outputs": [],
   "source": [
    "# Exemplo: Classificar nota de um aluno\n",
    "nota = 85\n",
    "\n",
    "if nota >= 90:\n",
    "    print(\"Conceito A: Excelente!\")\n",
    "elif nota >= 80:\n",
    "    print(\"Conceito B: Muito bom!\")\n",
    "elif nota >= 70:\n",
    "    print(\"Conceito C: Bom.\")\n",
    "elif nota >= 60:\n",
    "    print(\"Conceito D: Aprovado.\")\n",
    "else:\n",
    "    print(\"Conceito F: Reprovado.\")"
   ]
  },
  {
   "cell_type": "markdown",
   "metadata": {},
   "source": [
    "**Saída Esperada**: `Conceito B: Muito bom!`\n",
    "\n",
    "Este exemplo usa múltiplos `elif` para verificar intervalos de notas e atribuir um conceito correspondente."
   ]
  },
  {
   "cell_type": "markdown",
   "metadata": {},
   "source": [
    "## 8. Boas Práticas ao Usar Condicionais\n",
    "\n",
    "- **Clareza**: Escreva condições claras e fáceis de entender. Use nomes de variáveis descritivos.\n",
    "- **Evite aninhamento excessivo**: Muitos níveis de condicionais aninhados podem dificultar a leitura. Considere simplificar a lógica ou usar funções.\n",
    "- **Use operadores lógicos adequadamente**: Combine condições com `and` e `or` para evitar condicionais desnecessárias.\n",
    "- **Teste todos os casos**: Certifique-se de que seu código lida corretamente com todos os cenários possíveis (por exemplo, valores positivos, negativos, zero, etc.)."
   ]
  },
  {
   "cell_type": "markdown",
   "metadata": {},
   "source": [
    "## 9. Resumo\n",
    "\n",
    "- **Estrutura `if`**: Executa um bloco de código se uma condição for verdadeira.\n",
    "- **Estrutura `elif`**: Permite testar condições adicionais.\n",
    "- **Estrutura `else`**: Executa um bloco de código se nenhuma condição anterior for verdadeira.\n",
    "- **Operadores lógicos**: `and`, `or` e `not` permitem combinar ou modificar condições.\n",
    "- **Condicionais aninhadas**: Úteis para verificar condições mais específicas, mas devem ser usadas com moderação.\n",
    "\n",
    "As estruturas condicionais são essenciais para criar programas que tomam decisões dinâmicas. Experimente os exemplos acima e crie seus próprios cenários para praticar!"
   ]
  }
 ],
 "metadata": {
  "kernelspec": {
   "display_name": "Python 3",
   "language": "python",
   "name": "python3"
  },
  "language_info": {
   "codemirror_mode": {
    "name": "ipython",
    "version": 3
   },
   "file_extension": ".py",
   "mimetype": "text/x-python",
   "name": "python",
   "nbconvert_exporter": "python",
   "pygments_lexer": "ipython3",
   "version": "3.8.10"
  }
 },
 "nbformat": 4,
 "nbformat_minor": 4
}