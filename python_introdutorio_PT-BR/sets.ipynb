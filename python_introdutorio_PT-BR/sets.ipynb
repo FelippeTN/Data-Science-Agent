{
 "cells": [
  {
   "cell_type": "markdown",
   "metadata": {},
   "source": [
    "# Tutorial de Conjuntos em Python\n",
    "\n",
    "Este notebook aborda os conceitos básicos de trabalho com conjuntos em Python, incluindo manipulação (adicionar, remover e verificar subconjuntos) e operações principais de conjuntos (união, interseção e diferença). Conjuntos são coleções não ordenadas de elementos únicos, tornando-os eficientes para lidar com itens distintos e realizar operações matemáticas."
   ]
  },
  {
   "cell_type": "markdown",
   "metadata": {},
   "source": [
    "## 1. Manipulação de Conjuntos em Python\n",
    "\n",
    "Conjuntos em Python são coleções mutáveis que armazenam elementos únicos. A seguir, demonstramos como adicionar elementos, remover elementos e verificar subconjuntos."
   ]
  },
  {
   "cell_type": "markdown",
   "metadata": {},
   "source": [
    "### 1.1 Adicionando um Elemento\n",
    "\n",
    "O método `add()` permite incluir um único elemento em um conjunto. Se o elemento já existir, o conjunto permanece inalterado, pois duplicatas não são permitidas."
   ]
  },
  {
   "cell_type": "code",
   "execution_count": null,
   "metadata": {},
   "outputs": [],
   "source": [
    "# Criando um conjunto\n",
    "frutas = {\"maçã\", \"banana\", \"cereja\"}\n",
    "\n",
    "# Adicionando um único elemento\n",
    "frutas.add(\"laranja\")\n",
    "\n",
    "# Exibindo o conjunto atualizado\n",
    "frutas"
   ]
  },
  {
   "cell_type": "markdown",
   "metadata": {},
   "source": [
    "**Saída Esperada**: `{'maçã', 'banana', 'cereja', 'laranja'}`\n",
    "\n",
    "O conjunto agora inclui o novo elemento, \"laranja\"."
   ]
  },
  {
   "cell_type": "markdown",
   "metadata": {},
   "source": [
    "### 1.2 Removendo um Elemento\n",
    "\n",
    "O método `remove()` exclui um elemento especificado do conjunto. Se o elemento não existir, ele gera um erro `KeyError`."
   ]
  },
  {
   "cell_type": "code",
   "execution_count": null,
   "metadata": {},
   "outputs": [],
   "source": [
    "# Removendo um elemento\n",
    "frutas.remove(\"banana\")\n",
    "\n",
    "# Exibindo o conjunto atualizado\n",
    "frutas"
   ]
  },
  {
   "cell_type": "markdown",
   "metadata": {},
   "source": [
    "**Saída Esperada**: `{'maçã', 'cereja', 'laranja'}`\n",
    "\n",
    "O elemento \"banana\" foi removido do conjunto."
   ]
  },
  {
   "cell_type": "markdown",
   "metadata": {},
   "source": [
    "### 1.3 Verificando Subconjuntos\n",
    "\n",
    "O método `issubset()` verifica se todos os elementos de um conjunto estão presentes em outro conjunto, retornando `True` se estiverem."
   ]
  },
  {
   "cell_type": "code",
   "execution_count": null,
   "metadata": {},
   "outputs": [],
   "source": [
    "# Verificando se é um subconjunto\n",
    "é_subconjunto = {\"maçã\", \"cereja\"}.issubset(frutas)\n",
    "\n",
    "# Exibindo o resultado\n",
    "é_subconjunto"
   ]
  },
  {
   "cell_type": "markdown",
   "metadata": {},
   "source": [
    "**Saída Esperada**: `True`\n",
    "\n",
    "O conjunto `{\"maçã\", \"cereja\"}` é um subconjunto de `frutas` porque todos os seus elementos estão presentes em `frutas`."
   ]
  },
  {
   "cell_type": "markdown",
   "metadata": {},
   "source": [
    "## 2. Dominando Operações com Conjuntos\n",
    "\n",
    "Conjuntos em Python suportam operações matemáticas como união, interseção e diferença, que são úteis para combinar ou comparar conjuntos."
   ]
  },
  {
   "cell_type": "markdown",
   "metadata": {},
   "source": [
    "### 2.1 União\n",
    "\n",
    "O método `union()` combina todos os elementos únicos de dois ou mais conjuntos em um novo conjunto."
   ]
  },
  {
   "cell_type": "code",
   "execution_count": null,
   "metadata": {},
   "outputs": [],
   "source": [
    "# Criando conjuntos\n",
    "frutas = {\"maçã\", \"banana\", \"cereja\"}\n",
    "mais_frutas = {\"manga\", \"uva\"}\n",
    "\n",
    "# Realizando a união\n",
    "todas_frutas = frutas.union(mais_frutas)\n",
    "\n",
    "# Exibindo o resultado\n",
    "todas_frutas"
   ]
  },
  {
   "cell_type": "markdown",
   "metadata": {},
   "source": [
    "**Saída Esperada**: `{'maçã', 'banana', 'cereja', 'uva', 'manga'}`\n",
    "\n",
    "O conjunto `todas_frutas` contém todos os elementos únicos de `frutas` e `mais_frutas`."
   ]
  },
  {
   "cell_type": "markdown",
   "metadata": {},
   "source": [
    "### 2.2 Interseção\n",
    "\n",
    "O método `intersection()` retorna um novo conjunto contendo apenas os elementos comuns a ambos os conjuntos."
   ]
  },
  {
   "cell_type": "code",
   "execution_count": null,
   "metadata": {},
   "outputs": [],
   "source": [
    "# Criando um conjunto de frutas tropicais\n",
    "frutas_tropicais = {\"banana\", \"manga\", \"abacaxi\"}\n",
    "\n",
    "# Encontrando elementos comuns\n",
    "frutas_comuns = todas_frutas.intersection(frutas_tropicais)\n",
    "\n",
    "# Exibindo o resultado\n",
    "frutas_comuns"
   ]
  },
  {
   "cell_type": "markdown",
   "metadata": {},
   "source": [
    "**Saída Esperada**: `{'banana', 'manga'}`\n",
    "\n",
    "O conjunto `frutas_comuns` contém elementos que aparecem tanto em `todas_frutas` quanto em `frutas_tropicais`."
   ]
  },
  {
   "cell_type": "markdown",
   "metadata": {},
   "source": [
    "### 2.3 Diferença\n",
    "\n",
    "O método `difference()` retorna um novo conjunto contendo elementos que estão em um conjunto, mas não no outro."
   ]
  },
  {
   "cell_type": "code",
   "execution_count": null,
   "metadata": {},
   "outputs": [],
   "source": [
    "# Encontrando frutas não tropicais\n",
    "frutas_não_tropicais = todas_frutas.difference(frutas_tropicais)\n",
    "\n",
    "# Exibindo o resultado\n",
    "frutas_não_tropicais"
   ]
  },
  {
   "cell_type": "markdown",
   "metadata": {},
   "source": [
    "**Saída Esperada**: `{'maçã', 'cereja', 'uva'}`\n",
    "\n",
    "O conjunto `frutas_não_tropicais` contém elementos de `todas_frutas` que não estão em `frutas_tropicais`."
   ]
  },
  {
   "cell_type": "markdown",
   "metadata": {},
   "source": [
    "## Resumo\n",
    "\n",
    "- **Manipulação de Conjuntos**: Use `add()` para incluir elementos, `remove()` para excluí-los e `issubset()` para verificar subconjuntos.\n",
    "- **Operações com Conjuntos**: Use `union()` para combinar conjuntos, `intersection()` para encontrar elementos comuns e `difference()` para identificar elementos únicos em um conjunto.\n",
    "\n",
    "Conjuntos são poderosos para lidar com coleções únicas e realizar operações eficientes. Experimente esses métodos para aprofundar seu entendimento!"
   ]
  }
 ],
 "metadata": {
  "kernelspec": {
   "display_name": "Python 3",
   "language": "python",
   "name": "python3"
  },
  "language_info": {
   "codemirror_mode": {
    "name": "ipython",
    "version": 3
   },
   "file_extension": ".py",
   "mimetype": "text/x-python",
   "name": "python",
   "nbconvert_exporter": "python",
   "pygments_lexer": "ipython3",
   "version": "3.8.10"
  }
 },
 "nbformat": 4,
 "nbformat_minor": 4
}